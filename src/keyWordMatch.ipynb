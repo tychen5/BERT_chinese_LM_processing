{
 "cells": [
  {
   "cell_type": "code",
   "execution_count": 3,
   "metadata": {},
   "outputs": [],
   "source": [
    "from win32com import client as wc\n",
    "from docx import Document\n",
    "import os"
   ]
  },
  {
   "cell_type": "code",
   "execution_count": 12,
   "metadata": {},
   "outputs": [],
   "source": [
    "def DoctoDocx(input_dir_path):\n",
    "    \"\"\"\n",
    "    input_dir_path: path name (Str with '/')\n",
    "    return: docx_li\n",
    "    \"\"\"\n",
    "    docs = next(os.walk(input_dir_path))[2]\n",
    "    docx_li = []\n",
    "    for doc in docs:\n",
    "        if '.docx' in doc:\n",
    "            docx_li.append(input_dir_path+doc)\n",
    "            continue\n",
    "        input_file_name = input_dir_path + doc\n",
    "        output_file_name = input_file_name.replace('.doc','.docx')\n",
    "        word = wc.Dispatch('Word.Application')\n",
    "        # input file\n",
    "        doc = word.Documents.Open(input_file_name)\n",
    "        # output file\n",
    "        doc.SaveAs(output_file_name, 12, False, \"\", True, \"\", False, False, False, False)     \n",
    "        doc.Close()\n",
    "        word.Quit()\n",
    "        docx_li.append(output_file_name)\n",
    "    return docx_li"
   ]
  },
  {
   "cell_type": "code",
   "execution_count": 13,
   "metadata": {},
   "outputs": [
    {
     "ename": "AttributeError",
     "evalue": "'NoneType' object has no attribute 'SaveAs'",
     "output_type": "error",
     "traceback": [
      "\u001b[1;31m---------------------------------------------------------------------------\u001b[0m",
      "\u001b[1;31mAttributeError\u001b[0m                            Traceback (most recent call last)",
      "\u001b[1;32m<ipython-input-13-37cecf3ab9e4>\u001b[0m in \u001b[0;36m<module>\u001b[1;34m\u001b[0m\n\u001b[0;32m      1\u001b[0m \u001b[0mdata_dir\u001b[0m \u001b[1;33m=\u001b[0m \u001b[1;34m\"../Data/NSL_POC/doc/\"\u001b[0m\u001b[1;33m\u001b[0m\u001b[1;33m\u001b[0m\u001b[0m\n\u001b[1;32m----> 2\u001b[1;33m \u001b[0mdocx_li\u001b[0m \u001b[1;33m=\u001b[0m \u001b[0mDoctoDocx\u001b[0m\u001b[1;33m(\u001b[0m\u001b[0mdata_dir\u001b[0m\u001b[1;33m)\u001b[0m\u001b[1;33m\u001b[0m\u001b[1;33m\u001b[0m\u001b[0m\n\u001b[0m\u001b[0;32m      3\u001b[0m \u001b[1;32mfor\u001b[0m \u001b[0mdoc_path\u001b[0m \u001b[1;32min\u001b[0m \u001b[0mdocx_li\u001b[0m\u001b[1;33m:\u001b[0m\u001b[1;33m\u001b[0m\u001b[1;33m\u001b[0m\u001b[0m\n\u001b[0;32m      4\u001b[0m     \u001b[0mdoc\u001b[0m \u001b[1;33m=\u001b[0m \u001b[0mDocument\u001b[0m\u001b[1;33m(\u001b[0m\u001b[0mpath\u001b[0m\u001b[1;33m+\u001b[0m\u001b[0minput_file_name\u001b[0m\u001b[1;33m)\u001b[0m\u001b[1;33m\u001b[0m\u001b[1;33m\u001b[0m\u001b[0m\n",
      "\u001b[1;32m<ipython-input-12-fbe7eb8b33b8>\u001b[0m in \u001b[0;36mDoctoDocx\u001b[1;34m(input_dir_path)\u001b[0m\n\u001b[0;32m     16\u001b[0m         \u001b[0mdoc\u001b[0m \u001b[1;33m=\u001b[0m \u001b[0mword\u001b[0m\u001b[1;33m.\u001b[0m\u001b[0mDocuments\u001b[0m\u001b[1;33m.\u001b[0m\u001b[0mOpen\u001b[0m\u001b[1;33m(\u001b[0m\u001b[0minput_file_name\u001b[0m\u001b[1;33m)\u001b[0m\u001b[1;33m\u001b[0m\u001b[1;33m\u001b[0m\u001b[0m\n\u001b[0;32m     17\u001b[0m         \u001b[1;31m# output file\u001b[0m\u001b[1;33m\u001b[0m\u001b[1;33m\u001b[0m\u001b[1;33m\u001b[0m\u001b[0m\n\u001b[1;32m---> 18\u001b[1;33m         \u001b[0mdoc\u001b[0m\u001b[1;33m.\u001b[0m\u001b[0mSaveAs\u001b[0m\u001b[1;33m(\u001b[0m\u001b[0moutput_file_name\u001b[0m\u001b[1;33m,\u001b[0m \u001b[1;36m12\u001b[0m\u001b[1;33m,\u001b[0m \u001b[1;32mFalse\u001b[0m\u001b[1;33m,\u001b[0m \u001b[1;34m\"\"\u001b[0m\u001b[1;33m,\u001b[0m \u001b[1;32mTrue\u001b[0m\u001b[1;33m,\u001b[0m \u001b[1;34m\"\"\u001b[0m\u001b[1;33m,\u001b[0m \u001b[1;32mFalse\u001b[0m\u001b[1;33m,\u001b[0m \u001b[1;32mFalse\u001b[0m\u001b[1;33m,\u001b[0m \u001b[1;32mFalse\u001b[0m\u001b[1;33m,\u001b[0m \u001b[1;32mFalse\u001b[0m\u001b[1;33m)\u001b[0m\u001b[1;33m\u001b[0m\u001b[1;33m\u001b[0m\u001b[0m\n\u001b[0m\u001b[0;32m     19\u001b[0m         \u001b[0mdoc\u001b[0m\u001b[1;33m.\u001b[0m\u001b[0mClose\u001b[0m\u001b[1;33m(\u001b[0m\u001b[1;33m)\u001b[0m\u001b[1;33m\u001b[0m\u001b[1;33m\u001b[0m\u001b[0m\n\u001b[0;32m     20\u001b[0m         \u001b[0mword\u001b[0m\u001b[1;33m.\u001b[0m\u001b[0mQuit\u001b[0m\u001b[1;33m(\u001b[0m\u001b[1;33m)\u001b[0m\u001b[1;33m\u001b[0m\u001b[1;33m\u001b[0m\u001b[0m\n",
      "\u001b[1;31mAttributeError\u001b[0m: 'NoneType' object has no attribute 'SaveAs'"
     ]
    }
   ],
   "source": [
    "data_dir = \"../Data/NSL_POC/doc/\"\n",
    "docx_li = DoctoDocx(data_dir)\n",
    "for doc_path in docx_li:\n",
    "    doc = Document(doc_path) "
   ]
  },
  {
   "cell_type": "code",
   "execution_count": 15,
   "metadata": {},
   "outputs": [],
   "source": [
    "doc_path = \"D:\\\\python\\\\LEO_TM\\\\BERT_chinese_LM_processing\\\\Data\\\\NSL_POC\\\\01.docx\"\n",
    "doc = Document(doc_path) "
   ]
  },
  {
   "cell_type": "code",
   "execution_count": 16,
   "metadata": {},
   "outputs": [
    {
     "ename": "NameError",
     "evalue": "name 'keyword' is not defined",
     "output_type": "error",
     "traceback": [
      "\u001b[1;31m---------------------------------------------------------------------------\u001b[0m",
      "\u001b[1;31mNameError\u001b[0m                                 Traceback (most recent call last)",
      "\u001b[1;32m<ipython-input-16-8c14b725788c>\u001b[0m in \u001b[0;36m<module>\u001b[1;34m\u001b[0m\n\u001b[0;32m      5\u001b[0m \u001b[0mresult\u001b[0m\u001b[1;33m=\u001b[0m\u001b[1;33m[\u001b[0m\u001b[1;33m]\u001b[0m\u001b[1;33m\u001b[0m\u001b[1;33m\u001b[0m\u001b[0m\n\u001b[0;32m      6\u001b[0m \u001b[1;32mfor\u001b[0m \u001b[0mpara\u001b[0m \u001b[1;32min\u001b[0m \u001b[0mfulltext\u001b[0m\u001b[1;33m:\u001b[0m\u001b[1;33m\u001b[0m\u001b[1;33m\u001b[0m\u001b[0m\n\u001b[1;32m----> 7\u001b[1;33m     \u001b[1;32mif\u001b[0m \u001b[0mkeyword\u001b[0m \u001b[1;32min\u001b[0m \u001b[0mpara\u001b[0m\u001b[1;33m:\u001b[0m\u001b[1;33m\u001b[0m\u001b[1;33m\u001b[0m\u001b[0m\n\u001b[0m\u001b[0;32m      8\u001b[0m         \u001b[0mresult\u001b[0m\u001b[1;33m.\u001b[0m\u001b[0mappend\u001b[0m\u001b[1;33m(\u001b[0m\u001b[0mpara\u001b[0m\u001b[1;33m)\u001b[0m\u001b[1;33m\u001b[0m\u001b[1;33m\u001b[0m\u001b[0m\n",
      "\u001b[1;31mNameError\u001b[0m: name 'keyword' is not defined"
     ]
    }
   ],
   "source": [
    "#extract all paragraphs in docx\n",
    "fulltext=[]\n",
    "for para in doc.paragraphs:\n",
    "    fulltext.append(para.text)\n",
    "'''\n",
    "#get all paragraphs contains the target word\n",
    "result=[]\n",
    "for para in fulltext:\n",
    "    if keyword in para:\n",
    "        result.append(para)\n",
    "'''"
   ]
  },
  {
   "cell_type": "code",
   "execution_count": 35,
   "metadata": {},
   "outputs": [
    {
     "name": "stdout",
     "output_type": "stream",
     "text": [
      "9 本作業程序依金管保壽字第10202545341號令有關「實質課稅原則警語揭露」、金管保壽字第10202017830號函有關「保險業基金通路報酬揭露原則及揭露格式(範本)」、「投資型保險資訊揭露應遵循事項」第二條至第十五條、「金融服務業從事廣告業務招攬及營業促銷活動辦法」第六條、「金融服務業提供金融商品或服務前說明契約重要內容及揭露風險辦法」第三條、第六條及第七條、金融服務業公平待客原則之廣告招攬真實原則訂定之。\n",
      "11 本公司投資型商品之保險商品說明書為本作業程序適用範圍。\n",
      "13 商品負責人配合商品特性，依法令規定編製「保險商品說明書」，相關內容須經檢核並經主管核准(檢核表詳附件)。\n",
      "14 商品負責人需將編製後之「保險商品說明書」會簽法務室意見，經法務室確認相關內容及回覆後，使得進行後續用印事宜。\n",
      "15 商品負責人依公司規定，於部門用印登記簿登載「保險商品說明書」用印相關內容並經部門主管同意後，始得向董事會秘書室申請用印。\n",
      "16 配合商品上線時程，商品負責人提供用印後之「保險商品說明書」予相關部門，以便於商品銷售前之相關準備作業。\n",
      "17 商品上線後，將「保險商品說明書」用印正本及相關文件整理歸檔。\n",
      "18 針對基金公司所提供之投資標的相關資訊內容，負責承辦該業務之人員須進行檢視並經主管核准(檢核表詳附件)。\n",
      "20 本作業程序經部門主管同意後施行，修訂時亦同。\n",
      "23 附件：保險商品說明書檢核表(檢核表內容將以不影響作業程序版本為原則適時更新) \n"
     ]
    }
   ],
   "source": [
    "flag1 = False\n",
    "flag2 = False\n",
    "flag3 = False\n",
    "for i,para in enumerate(fulltext):\n",
    "    if (len(para)<10) and (\"依據\" in para) and flag1==False: #抓出短paragraph有依據，做為標題 <10個字，且下面paragraph>10個字開始判斷\n",
    "        flag1 = True\n",
    "    if (len(para)>10) and (flag1 == True):\n",
    "        for wi,word in enumerate(para):\n",
    "            if word == '依'\n",
    "        print(i,para)"
   ]
  },
  {
   "cell_type": "code",
   "execution_count": 36,
   "metadata": {},
   "outputs": [
    {
     "name": "stdout",
     "output_type": "stream",
     "text": [
      "kk\n"
     ]
    }
   ],
   "source": [
    "if (3<3) or (2<3):\n",
    "    print('kk')"
   ]
  },
  {
   "cell_type": "code",
   "execution_count": 30,
   "metadata": {},
   "outputs": [
    {
     "data": {
      "text/plain": [
       "'本作業程序依金管保壽字第10202545341號令有關「實質課稅原則警語揭露」、金管保壽字第10202017830號函有關「保險業基金通路報酬揭露原則及揭露格式(範本)」、「投資型保險資訊揭露應遵循事項」第二條至第十五條、「金融服務業從事廣告業務招攬及營業促銷活動辦法」第六條、「金融服務業提供金融商品或服務前說明契約重要內容及揭露風險辦法」第三條、第六條及第七條、金融服務業公平待客原則之廣告招攬真實原則訂定之。'"
      ]
     },
     "execution_count": 30,
     "metadata": {},
     "output_type": "execute_result"
    }
   ],
   "source": [
    "fulltext[9]"
   ]
  },
  {
   "cell_type": "code",
   "execution_count": 24,
   "metadata": {},
   "outputs": [
    {
     "data": {
      "text/plain": [
       "27"
      ]
     },
     "execution_count": 24,
     "metadata": {},
     "output_type": "execute_result"
    }
   ],
   "source": [
    "len(fulltext)"
   ]
  },
  {
   "cell_type": "code",
   "execution_count": 7,
   "metadata": {},
   "outputs": [
    {
     "data": {
      "text/plain": [
       "'../Data/NSL_POC/docx/'"
      ]
     },
     "execution_count": 7,
     "metadata": {},
     "output_type": "execute_result"
    }
   ],
   "source": [
    "data_dir.replace('doc','docx')"
   ]
  }
 ],
 "metadata": {
  "kernelspec": {
   "display_name": "Env_Leo",
   "language": "python",
   "name": "env_leo"
  },
  "language_info": {
   "codemirror_mode": {
    "name": "ipython",
    "version": 3
   },
   "file_extension": ".py",
   "mimetype": "text/x-python",
   "name": "python",
   "nbconvert_exporter": "python",
   "pygments_lexer": "ipython3",
   "version": "3.7.5"
  }
 },
 "nbformat": 4,
 "nbformat_minor": 2
}
