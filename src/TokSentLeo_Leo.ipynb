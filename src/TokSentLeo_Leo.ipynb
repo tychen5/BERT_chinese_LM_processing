{
 "cells": [
  {
   "cell_type": "code",
   "execution_count": 3,
   "metadata": {},
   "outputs": [],
   "source": [
    "import pandas as pd\n",
    "import numpy as np\n",
    "import pickle\n",
    "from collections import Counter"
   ]
  },
  {
   "cell_type": "markdown",
   "metadata": {},
   "source": [
    "## version 2 development testing area"
   ]
  },
  {
   "cell_type": "code",
   "execution_count": 19,
   "metadata": {},
   "outputs": [],
   "source": [
    "month = [0,0,0,0,1,1,2,2]\n",
    "word_month = ['kill','why','know','kill','Leo','sean','isa','isa']\n",
    "score_month = [0.2,0.3,0.4,0.6,0.8,0.1,0.8,0.9]"
   ]
  },
  {
   "cell_type": "code",
   "execution_count": 31,
   "metadata": {},
   "outputs": [],
   "source": [
    "current_month = month[0]\n",
    "need_dict = {}\n",
    "dict_order = []\n",
    "month_order = []\n",
    "for i,(m,w,s) in enumerate(zip(month,word_month,score_month)):\n",
    "    if m != current_month:\n",
    "        month_order.append(current_month)\n",
    "        current_month = m\n",
    "        for k,v in need_dict.items():\n",
    "            need_dict[k] = np.mean(v)\n",
    "        dict_order.append(need_dict)\n",
    "        need_dict = {}\n",
    "        need_dict[w]=list([s])\n",
    "        if i == len(month)-1:\n",
    "            dict_order.append(need_dict)\n",
    "        \n",
    "    else:\n",
    "        if w not in list(need_dict.keys()):\n",
    "            need_dict[w]=list([s])\n",
    "        else:\n",
    "            temp = need_dict[w]\n",
    "            temp.append(s)\n",
    "            need_dict[w] = temp\n",
    "        if i == len(month)-1:\n",
    "            month_order.append(m)\n",
    "            for k,v in need_dict.items():\n",
    "                need_dict[k] = np.mean(v)            \n",
    "            dict_order.append(need_dict)"
   ]
  },
  {
   "cell_type": "code",
   "execution_count": 37,
   "metadata": {},
   "outputs": [
    {
     "data": {
      "text/plain": [
       "{'isa': 0.8500000000000001}"
      ]
     },
     "execution_count": 37,
     "metadata": {},
     "output_type": "execute_result"
    }
   ],
   "source": [
    "dict_order[2]"
   ]
  },
  {
   "cell_type": "code",
   "execution_count": 35,
   "metadata": {},
   "outputs": [
    {
     "data": {
      "text/plain": [
       "[0, 1, 2]"
      ]
     },
     "execution_count": 35,
     "metadata": {},
     "output_type": "execute_result"
    }
   ],
   "source": [
    "month_order"
   ]
  },
  {
   "cell_type": "code",
   "execution_count": 25,
   "metadata": {},
   "outputs": [
    {
     "data": {
      "text/plain": [
       "2"
      ]
     },
     "execution_count": 25,
     "metadata": {},
     "output_type": "execute_result"
    }
   ],
   "source": [
    "len(month_order)"
   ]
  },
  {
   "cell_type": "code",
   "execution_count": 9,
   "metadata": {},
   "outputs": [
    {
     "data": {
      "text/plain": [
       "['kk']"
      ]
     },
     "execution_count": 9,
     "metadata": {},
     "output_type": "execute_result"
    }
   ],
   "source": [
    "need_dict = {}\n",
    "need_dict['kk'] = 0.5\n",
    "list(need_dict.keys())"
   ]
  },
  {
   "cell_type": "code",
   "execution_count": 14,
   "metadata": {},
   "outputs": [
    {
     "data": {
      "text/plain": [
       "2.0"
      ]
     },
     "execution_count": 14,
     "metadata": {},
     "output_type": "execute_result"
    }
   ],
   "source": [
    "temp = list([2])\n",
    "# temp.append(3)\n",
    "np.mean(temp)"
   ]
  }
 ],
 "metadata": {
  "kernelspec": {
   "display_name": "Env_Leo",
   "language": "python",
   "name": "env_leo"
  },
  "language_info": {
   "codemirror_mode": {
    "name": "ipython",
    "version": 3
   },
   "file_extension": ".py",
   "mimetype": "text/x-python",
   "name": "python",
   "nbconvert_exporter": "python",
   "pygments_lexer": "ipython3",
   "version": "3.7.5"
  }
 },
 "nbformat": 4,
 "nbformat_minor": 2
}
