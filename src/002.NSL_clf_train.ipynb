{
 "cells": [
  {
   "cell_type": "code",
   "execution_count": 2,
   "metadata": {
    "scrolled": true
   },
   "outputs": [
    {
     "name": "stdout",
     "output_type": "stream",
     "text": [
      "Looking in links: https://download.pytorch.org/whl/torch_stable.html\n",
      "Requirement already up-to-date: transformers in c:\\programdata\\anaconda3\\lib\\site-packages (2.4.1)\n",
      "Requirement already up-to-date: tensorflow in c:\\users\\szwang\\appdata\\roaming\\python\\python37\\site-packages (2.1.0)\n",
      "Collecting torch==1.4.0+cpu\n",
      "  Using cached https://download.pytorch.org/whl/cpu/torch-1.4.0%2Bcpu-cp37-cp37m-win_amd64.whl\n",
      "Collecting torchvision==0.5.0+cpu\n",
      "  Using cached https://download.pytorch.org/whl/cpu/torchvision-0.5.0%2Bcpu-cp37-cp37m-win_amd64.whl\n",
      "Requirement already satisfied, skipping upgrade: sacremoses in c:\\programdata\\anaconda3\\lib\\site-packages (from transformers) (0.0.38)\n",
      "Requirement already satisfied, skipping upgrade: numpy in c:\\programdata\\anaconda3\\lib\\site-packages (from transformers) (1.16.5)\n",
      "Requirement already satisfied, skipping upgrade: sentencepiece in c:\\programdata\\anaconda3\\lib\\site-packages (from transformers) (0.1.85)\n",
      "Requirement already satisfied, skipping upgrade: boto3 in c:\\programdata\\anaconda3\\lib\\site-packages (from transformers) (1.10.15)\n",
      "Requirement already satisfied, skipping upgrade: tokenizers==0.0.11 in c:\\programdata\\anaconda3\\lib\\site-packages (from transformers) (0.0.11)\n",
      "Requirement already satisfied, skipping upgrade: requests in c:\\programdata\\anaconda3\\lib\\site-packages (from transformers) (2.22.0)\n",
      "Requirement already satisfied, skipping upgrade: tqdm>=4.27 in c:\\programdata\\anaconda3\\lib\\site-packages (from transformers) (4.36.1)\n",
      "Requirement already satisfied, skipping upgrade: regex!=2019.12.17 in c:\\programdata\\anaconda3\\lib\\site-packages (from transformers) (2020.1.8)\n",
      "Requirement already satisfied, skipping upgrade: filelock in c:\\programdata\\anaconda3\\lib\\site-packages (from transformers) (3.0.12)\n",
      "Requirement already satisfied, skipping upgrade: google-pasta>=0.1.6 in c:\\programdata\\anaconda3\\lib\\site-packages (from tensorflow) (0.1.7)\n",
      "Requirement already satisfied, skipping upgrade: termcolor>=1.1.0 in c:\\programdata\\anaconda3\\lib\\site-packages (from tensorflow) (1.1.0)\n",
      "Requirement already satisfied, skipping upgrade: gast==0.2.2 in c:\\programdata\\anaconda3\\lib\\site-packages (from tensorflow) (0.2.2)\n",
      "Requirement already satisfied, skipping upgrade: opt-einsum>=2.3.2 in c:\\programdata\\anaconda3\\lib\\site-packages (from tensorflow) (3.1.0)\n",
      "Requirement already satisfied, skipping upgrade: wrapt>=1.11.1 in c:\\programdata\\anaconda3\\lib\\site-packages (from tensorflow) (1.11.2)\n",
      "Requirement already satisfied, skipping upgrade: absl-py>=0.7.0 in c:\\programdata\\anaconda3\\lib\\site-packages (from tensorflow) (0.8.1)\n",
      "Requirement already satisfied, skipping upgrade: keras-preprocessing>=1.1.0 in c:\\programdata\\anaconda3\\lib\\site-packages (from tensorflow) (1.1.0)\n",
      "Requirement already satisfied, skipping upgrade: six>=1.12.0 in c:\\programdata\\anaconda3\\lib\\site-packages (from tensorflow) (1.12.0)\n",
      "Requirement already satisfied, skipping upgrade: wheel>=0.26; python_version >= \"3\" in c:\\programdata\\anaconda3\\lib\\site-packages (from tensorflow) (0.33.6)\n",
      "Requirement already satisfied, skipping upgrade: tensorflow-estimator<2.2.0,>=2.1.0rc0 in c:\\users\\szwang\\appdata\\roaming\\python\\python37\\site-packages (from tensorflow) (2.1.0)\n",
      "Requirement already satisfied, skipping upgrade: protobuf>=3.8.0 in c:\\programdata\\anaconda3\\lib\\site-packages (from tensorflow) (3.10.0)\n",
      "Requirement already satisfied, skipping upgrade: scipy==1.4.1; python_version >= \"3\" in c:\\programdata\\anaconda3\\lib\\site-packages (from tensorflow) (1.4.1)\n",
      "Requirement already satisfied, skipping upgrade: grpcio>=1.8.6 in c:\\programdata\\anaconda3\\lib\\site-packages (from tensorflow) (1.24.3)\n",
      "Requirement already satisfied, skipping upgrade: astor>=0.6.0 in c:\\programdata\\anaconda3\\lib\\site-packages (from tensorflow) (0.8.0)\n",
      "Requirement already satisfied, skipping upgrade: keras-applications>=1.0.8 in c:\\programdata\\anaconda3\\lib\\site-packages (from tensorflow) (1.0.8)\n",
      "Requirement already satisfied, skipping upgrade: tensorboard<2.2.0,>=2.1.0 in c:\\users\\szwang\\appdata\\roaming\\python\\python37\\site-packages (from tensorflow) (2.1.0)\n",
      "Requirement already satisfied, skipping upgrade: pillow>=4.1.1 in c:\\programdata\\anaconda3\\lib\\site-packages (from torchvision==0.5.0+cpu) (6.2.0)\n",
      "Requirement already satisfied, skipping upgrade: click in c:\\programdata\\anaconda3\\lib\\site-packages (from sacremoses->transformers) (7.0)\n",
      "Requirement already satisfied, skipping upgrade: joblib in c:\\programdata\\anaconda3\\lib\\site-packages (from sacremoses->transformers) (0.13.2)\n",
      "Requirement already satisfied, skipping upgrade: botocore<1.14.0,>=1.13.15 in c:\\programdata\\anaconda3\\lib\\site-packages (from boto3->transformers) (1.13.15)\n",
      "Requirement already satisfied, skipping upgrade: s3transfer<0.3.0,>=0.2.0 in c:\\programdata\\anaconda3\\lib\\site-packages (from boto3->transformers) (0.2.1)\n",
      "Requirement already satisfied, skipping upgrade: jmespath<1.0.0,>=0.7.1 in c:\\programdata\\anaconda3\\lib\\site-packages (from boto3->transformers) (0.9.4)\n",
      "Requirement already satisfied, skipping upgrade: certifi>=2017.4.17 in c:\\programdata\\anaconda3\\lib\\site-packages (from requests->transformers) (2019.9.11)\n",
      "Requirement already satisfied, skipping upgrade: chardet<3.1.0,>=3.0.2 in c:\\programdata\\anaconda3\\lib\\site-packages (from requests->transformers) (3.0.4)\n",
      "Requirement already satisfied, skipping upgrade: urllib3!=1.25.0,!=1.25.1,<1.26,>=1.21.1 in c:\\programdata\\anaconda3\\lib\\site-packages (from requests->transformers) (1.24.2)\n",
      "Requirement already satisfied, skipping upgrade: idna<2.9,>=2.5 in c:\\programdata\\anaconda3\\lib\\site-packages (from requests->transformers) (2.8)\n",
      "Requirement already satisfied, skipping upgrade: setuptools in c:\\programdata\\anaconda3\\lib\\site-packages (from protobuf>=3.8.0->tensorflow) (41.4.0)\n",
      "Requirement already satisfied, skipping upgrade: h5py in c:\\programdata\\anaconda3\\lib\\site-packages (from keras-applications>=1.0.8->tensorflow) (2.9.0)\n",
      "Requirement already satisfied, skipping upgrade: google-auth<2,>=1.6.3 in c:\\programdata\\anaconda3\\lib\\site-packages (from tensorboard<2.2.0,>=2.1.0->tensorflow) (1.6.3)\n",
      "Requirement already satisfied, skipping upgrade: markdown>=2.6.8 in c:\\programdata\\anaconda3\\lib\\site-packages (from tensorboard<2.2.0,>=2.1.0->tensorflow) (3.1.1)\n",
      "Requirement already satisfied, skipping upgrade: google-auth-oauthlib<0.5,>=0.4.1 in c:\\programdata\\anaconda3\\lib\\site-packages (from tensorboard<2.2.0,>=2.1.0->tensorflow) (0.4.1)\n",
      "Requirement already satisfied, skipping upgrade: werkzeug>=0.11.15 in c:\\programdata\\anaconda3\\lib\\site-packages (from tensorboard<2.2.0,>=2.1.0->tensorflow) (0.16.0)\n",
      "Requirement already satisfied, skipping upgrade: docutils<0.16,>=0.10 in c:\\programdata\\anaconda3\\lib\\site-packages (from botocore<1.14.0,>=1.13.15->boto3->transformers) (0.15.2)\n",
      "Requirement already satisfied, skipping upgrade: python-dateutil<2.8.1,>=2.1; python_version >= \"2.7\" in c:\\programdata\\anaconda3\\lib\\site-packages (from botocore<1.14.0,>=1.13.15->boto3->transformers) (2.8.0)\n",
      "Requirement already satisfied, skipping upgrade: rsa>=3.1.4 in c:\\programdata\\anaconda3\\lib\\site-packages (from google-auth<2,>=1.6.3->tensorboard<2.2.0,>=2.1.0->tensorflow) (4.0)\n",
      "Requirement already satisfied, skipping upgrade: cachetools>=2.0.0 in c:\\programdata\\anaconda3\\lib\\site-packages (from google-auth<2,>=1.6.3->tensorboard<2.2.0,>=2.1.0->tensorflow) (3.1.1)\n",
      "Requirement already satisfied, skipping upgrade: pyasn1-modules>=0.2.1 in c:\\programdata\\anaconda3\\lib\\site-packages (from google-auth<2,>=1.6.3->tensorboard<2.2.0,>=2.1.0->tensorflow) (0.2.7)\n",
      "Requirement already satisfied, skipping upgrade: requests-oauthlib>=0.7.0 in c:\\programdata\\anaconda3\\lib\\site-packages (from google-auth-oauthlib<0.5,>=0.4.1->tensorboard<2.2.0,>=2.1.0->tensorflow) (1.2.0)\n",
      "Requirement already satisfied, skipping upgrade: pyasn1>=0.1.3 in c:\\programdata\\anaconda3\\lib\\site-packages (from rsa>=3.1.4->google-auth<2,>=1.6.3->tensorboard<2.2.0,>=2.1.0->tensorflow) (0.4.7)\n",
      "Requirement already satisfied, skipping upgrade: oauthlib>=3.0.0 in c:\\programdata\\anaconda3\\lib\\site-packages (from requests-oauthlib>=0.7.0->google-auth-oauthlib<0.5,>=0.4.1->tensorboard<2.2.0,>=2.1.0->tensorflow) (3.1.0)\n",
      "Installing collected packages: torch, torchvision\n",
      "Successfully installed torch-1.4.0+cpu torchvision-0.5.0+cpu\n"
     ]
    },
    {
     "name": "stderr",
     "output_type": "stream",
     "text": [
      "  WARNING: The scripts convert-caffe2-to-onnx.exe and convert-onnx-to-caffe2.exe are installed in 'C:\\Users\\szwang\\AppData\\Roaming\\Python\\Python37\\Scripts' which is not on PATH.\n",
      "  Consider adding this directory to PATH or, if you prefer to suppress this warning, use --no-warn-script-location.\n"
     ]
    }
   ],
   "source": [
    "!pip install -U --user transformers tensorflow torch==1.4.0+cpu torchvision==0.5.0+cpu -f https://download.pytorch.org/whl/torch_stable.html "
   ]
  },
  {
   "cell_type": "code",
   "execution_count": 37,
   "metadata": {},
   "outputs": [
    {
     "name": "stdout",
     "output_type": "stream",
     "text": [
      "2.1.0 1.4.0+cpu\n"
     ]
    }
   ],
   "source": [
    "import os\n",
    "import tensorflow as tf\n",
    "import pandas as pd\n",
    "import numpy as np\n",
    "import pickle\n",
    "import torch\n",
    "from tensorflow.keras.layers import *\n",
    "from transformers import TFBertModel, TFBertForPreTraining, BertTokenizer, TFBertForSequenceClassification, BertConfig, glue_convert_examples_to_features, glue_processors\n",
    "print(tf.__version__, torch.__version__)"
   ]
  },
  {
   "attachments": {
    "image.png": {
     "image/png": "[encoded data removed]"
    }
   },
   "cell_type": "markdown",
   "metadata": {},
   "source": [
    "Convert TF to PT:\n",
    "(base) D:\\python\\LEO_TM\\BERT_chinese_LM_processing\\Data\\NSL_POC\\pretrained\\trans\n",
    "formers-master>python transformers-cli convert --model_type bert --tf_checkpoint\n",
    " ../pretrained_output/model.ckpt-0  --config ../pretrained_output/config.json --\n",
    "pytorch_dump_output ../pretrained_output/pytorch_model.bin![image.png](attachment:image.png)"
   ]
  },
  {
   "cell_type": "code",
   "execution_count": 4,
   "metadata": {
    "scrolled": true
   },
   "outputs": [
    {
     "data": {
      "text/html": [
       "<div>\n",
       "<style scoped>\n",
       "    .dataframe tbody tr th:only-of-type {\n",
       "        vertical-align: middle;\n",
       "    }\n",
       "\n",
       "    .dataframe tbody tr th {\n",
       "        vertical-align: top;\n",
       "    }\n",
       "\n",
       "    .dataframe thead th {\n",
       "        text-align: right;\n",
       "    }\n",
       "</style>\n",
       "<table border=\"1\" class=\"dataframe\">\n",
       "  <thead>\n",
       "    <tr style=\"text-align: right;\">\n",
       "      <th></th>\n",
       "      <th>pretrained</th>\n",
       "      <th>Label</th>\n",
       "    </tr>\n",
       "  </thead>\n",
       "  <tbody>\n",
       "    <tr>\n",
       "      <td>0</td>\n",
       "      <td>金管保壽字第10502548153號核釋「保險業辦理國外投資管理辦法」第15條第9項規定，有...</td>\n",
       "      <td>AT</td>\n",
       "    </tr>\n",
       "    <tr>\n",
       "      <td>1</td>\n",
       "      <td>金管保財字第10502505671號修正「保險業財務報告編製準則」部分條文及第19條格式1、...</td>\n",
       "      <td>F&amp;A</td>\n",
       "    </tr>\n",
       "    <tr>\n",
       "      <td>2</td>\n",
       "      <td>金管保綜字第10602560561號修正「保險業防制洗錢及打擊資助恐怖主義注意事項」，並修正...</td>\n",
       "      <td>OTHERS</td>\n",
       "    </tr>\n",
       "    <tr>\n",
       "      <td>3</td>\n",
       "      <td>金管證發字第1060001296號修正「公開發行公司取得或處分資產處理準則」部分條文。一、明...</td>\n",
       "      <td>GA</td>\n",
       "    </tr>\n",
       "    <tr>\n",
       "      <td>4</td>\n",
       "      <td>金管保財字10500909790准予備查「保險業風險管理實務守則」為強化保險業風險控管，並配...</td>\n",
       "      <td>RM</td>\n",
       "    </tr>\n",
       "    <tr>\n",
       "      <td>5</td>\n",
       "      <td>金管保財字第10610908021號核釋保險業資金辦理專案運用投資屬「保險業資金辦理專案運用...</td>\n",
       "      <td>ISD</td>\n",
       "    </tr>\n",
       "    <tr>\n",
       "      <td>6</td>\n",
       "      <td>金管保壽字第10610908141號函核復「保險業承保身心障礙者處理原則」一、為避免身心障礙...</td>\n",
       "      <td>UW</td>\n",
       "    </tr>\n",
       "    <tr>\n",
       "      <td>7</td>\n",
       "      <td>金管保財字第10610908021號令修正「保險業辦理再保險分出分入及其他危險分散機制管理辦...</td>\n",
       "      <td>AT</td>\n",
       "    </tr>\n",
       "    <tr>\n",
       "      <td>8</td>\n",
       "      <td>金管保產字第10502121090號函「保險業公司治理實務守則」部分條文修正草案，請依說明修...</td>\n",
       "      <td>SEC</td>\n",
       "    </tr>\n",
       "    <tr>\n",
       "      <td>9</td>\n",
       "      <td>金管保壽字第10602542301號令修正「保險業授權代收保險費應注意事項」，自即日生效。一...</td>\n",
       "      <td>PC</td>\n",
       "    </tr>\n",
       "    <tr>\n",
       "      <td>10</td>\n",
       "      <td>金管保財字第10602502521號令修正「保險業辦理國外投資管理辦法」部分條文及第15條附...</td>\n",
       "      <td>AI</td>\n",
       "    </tr>\n",
       "    <tr>\n",
       "      <td>11</td>\n",
       "      <td>勞動條3字第1060131269號令修正「勞動基準法施行細則」部分條文。因勞動基準法（以下簡...</td>\n",
       "      <td>HR</td>\n",
       "    </tr>\n",
       "    <tr>\n",
       "      <td>12</td>\n",
       "      <td>金管銀法字第10610003100號令訂定「金融機構防制洗錢辦法」。一、授權依據（第1條）二...</td>\n",
       "      <td>UW</td>\n",
       "    </tr>\n",
       "    <tr>\n",
       "      <td>13</td>\n",
       "      <td>金管保綜字第10602562471號令修正「保險業防制洗錢及打擊資恐注意事項」，並將名稱修正...</td>\n",
       "      <td>SEC</td>\n",
       "    </tr>\n",
       "    <tr>\n",
       "      <td>14</td>\n",
       "      <td>金管保財字第10602064071號令訂定保險業計算自有資本及風險資本之範圍及計算公式一、訂...</td>\n",
       "      <td>AT</td>\n",
       "    </tr>\n",
       "    <tr>\n",
       "      <td>15</td>\n",
       "      <td>金管保財字第10602503031號令修正「保險業與利害關係人從事放款以外之其他交易管理辦法...</td>\n",
       "      <td>AI</td>\n",
       "    </tr>\n",
       "    <tr>\n",
       "      <td>16</td>\n",
       "      <td>金管保財字第10602503271號修正「人身保險及財產保險安定基金計提標準」第2條、第3條...</td>\n",
       "      <td>AT</td>\n",
       "    </tr>\n",
       "    <tr>\n",
       "      <td>17</td>\n",
       "      <td>金管證發字第1060027112號修正「公開發行公司審計委員會行使職權辦法」部分條文、「公開...</td>\n",
       "      <td>SEC</td>\n",
       "    </tr>\n",
       "    <tr>\n",
       "      <td>18</td>\n",
       "      <td>金管保綜字第10602562991號、台央外拾壹字第1060032701號令修正「國際保險業...</td>\n",
       "      <td>OIU</td>\n",
       "    </tr>\n",
       "    <tr>\n",
       "      <td>19</td>\n",
       "      <td>金管保壽字第10602544311號修正「保險業設立遷移或裁撤分支機構管理辦法」部分條文。為...</td>\n",
       "      <td>SEC</td>\n",
       "    </tr>\n",
       "    <tr>\n",
       "      <td>20</td>\n",
       "      <td>金管保財字第10602502861號修正「保險業財務報告編製準則」部分條文及第19條格式1至...</td>\n",
       "      <td>F&amp;A</td>\n",
       "    </tr>\n",
       "    <tr>\n",
       "      <td>21</td>\n",
       "      <td>金管保財字第10602503581號修正「保險業從事衍生性金融商品交易管理辦法」第13條、第...</td>\n",
       "      <td>ISD</td>\n",
       "    </tr>\n",
       "    <tr>\n",
       "      <td>22</td>\n",
       "      <td>金管保壽字第10602544381號修正「投資型保險商品銷售應注意事項」第4點規定，自106...</td>\n",
       "      <td>PD</td>\n",
       "    </tr>\n",
       "    <tr>\n",
       "      <td>23</td>\n",
       "      <td>金管保財字第10602104511號核釋「保險業資金辦理專案運用公共及社會福利事業投資管理辦...</td>\n",
       "      <td>AI</td>\n",
       "    </tr>\n",
       "    <tr>\n",
       "      <td>24</td>\n",
       "      <td>金管保財字第10602504021號修正「保險業內部控制及稽核制度實施辦法」。為提高保險業對...</td>\n",
       "      <td>RM</td>\n",
       "    </tr>\n",
       "    <tr>\n",
       "      <td>25</td>\n",
       "      <td>金管保壽字第10602546201號修正「保險商品銷售前程序作業準則」第24條、第32條條文...</td>\n",
       "      <td>AA</td>\n",
       "    </tr>\n",
       "    <tr>\n",
       "      <td>26</td>\n",
       "      <td>台財稅字第10604676280號修正「營利事業所得稅不合常規移轉訂價查核準則」部分條文。為...</td>\n",
       "      <td>F&amp;A</td>\n",
       "    </tr>\n",
       "    <tr>\n",
       "      <td>27</td>\n",
       "      <td>勞職授字第1060204871號修正「勞工健康保護規則」。配合職業安全衛生法（以下簡稱本法）...</td>\n",
       "      <td>HR</td>\n",
       "    </tr>\n",
       "    <tr>\n",
       "      <td>28</td>\n",
       "      <td>金管保壽字第10610946061號修正「人身保險商品審查應注意事項」第220點之3規定，自...</td>\n",
       "      <td>PD</td>\n",
       "    </tr>\n",
       "    <tr>\n",
       "      <td>29</td>\n",
       "      <td>台財際字第10624518960號訂定金融機構執行共同申報及盡職審查作業辦法。為因應國際日益...</td>\n",
       "      <td>POS</td>\n",
       "    </tr>\n",
       "    <tr>\n",
       "      <td>30</td>\n",
       "      <td>金管保綜字第 10602564481 號修正「保險業辦理電子商務應注意事項」，自即日生效。金...</td>\n",
       "      <td>CU</td>\n",
       "    </tr>\n",
       "    <tr>\n",
       "      <td>31</td>\n",
       "      <td>壽會貴字第1061116492號修正「人壽保險業防制洗錢及打擊資助恐怖主義注意事項範本」、「...</td>\n",
       "      <td>OTHERS</td>\n",
       "    </tr>\n",
       "    <tr>\n",
       "      <td>32</td>\n",
       "      <td>金管保財字第10602505441號修正人身保險業各幣別(新臺幣、美元、澳幣、歐元及人民幣)...</td>\n",
       "      <td>ILPD</td>\n",
       "    </tr>\n",
       "    <tr>\n",
       "      <td>33</td>\n",
       "      <td>金管保財字第10602137571號訂定106年度適用「保險業計算自有資本及風險資本之範圍及...</td>\n",
       "      <td>AT</td>\n",
       "    </tr>\n",
       "    <tr>\n",
       "      <td>34</td>\n",
       "      <td>金管保壽字第10610949581號修正「人身保險業辦理以外幣收付之非投資型人身保險業務應具...</td>\n",
       "      <td>PD</td>\n",
       "    </tr>\n",
       "  </tbody>\n",
       "</table>\n",
       "</div>"
      ],
      "text/plain": [
       "                                           pretrained   Label\n",
       "0   金管保壽字第10502548153號核釋「保險業辦理國外投資管理辦法」第15條第9項規定，有...      AT\n",
       "1   金管保財字第10502505671號修正「保險業財務報告編製準則」部分條文及第19條格式1、...     F&A\n",
       "2   金管保綜字第10602560561號修正「保險業防制洗錢及打擊資助恐怖主義注意事項」，並修正...  OTHERS\n",
       "3   金管證發字第1060001296號修正「公開發行公司取得或處分資產處理準則」部分條文。一、明...      GA\n",
       "4   金管保財字10500909790准予備查「保險業風險管理實務守則」為強化保險業風險控管，並配...      RM\n",
       "5   金管保財字第10610908021號核釋保險業資金辦理專案運用投資屬「保險業資金辦理專案運用...     ISD\n",
       "6   金管保壽字第10610908141號函核復「保險業承保身心障礙者處理原則」一、為避免身心障礙...      UW\n",
       "7   金管保財字第10610908021號令修正「保險業辦理再保險分出分入及其他危險分散機制管理辦...      AT\n",
       "8   金管保產字第10502121090號函「保險業公司治理實務守則」部分條文修正草案，請依說明修...     SEC\n",
       "9   金管保壽字第10602542301號令修正「保險業授權代收保險費應注意事項」，自即日生效。一...      PC\n",
       "10  金管保財字第10602502521號令修正「保險業辦理國外投資管理辦法」部分條文及第15條附...      AI\n",
       "11  勞動條3字第1060131269號令修正「勞動基準法施行細則」部分條文。因勞動基準法（以下簡...      HR\n",
       "12  金管銀法字第10610003100號令訂定「金融機構防制洗錢辦法」。一、授權依據（第1條）二...      UW\n",
       "13  金管保綜字第10602562471號令修正「保險業防制洗錢及打擊資恐注意事項」，並將名稱修正...     SEC\n",
       "14  金管保財字第10602064071號令訂定保險業計算自有資本及風險資本之範圍及計算公式一、訂...      AT\n",
       "15  金管保財字第10602503031號令修正「保險業與利害關係人從事放款以外之其他交易管理辦法...      AI\n",
       "16  金管保財字第10602503271號修正「人身保險及財產保險安定基金計提標準」第2條、第3條...      AT\n",
       "17  金管證發字第1060027112號修正「公開發行公司審計委員會行使職權辦法」部分條文、「公開...     SEC\n",
       "18  金管保綜字第10602562991號、台央外拾壹字第1060032701號令修正「國際保險業...     OIU\n",
       "19  金管保壽字第10602544311號修正「保險業設立遷移或裁撤分支機構管理辦法」部分條文。為...     SEC\n",
       "20  金管保財字第10602502861號修正「保險業財務報告編製準則」部分條文及第19條格式1至...     F&A\n",
       "21  金管保財字第10602503581號修正「保險業從事衍生性金融商品交易管理辦法」第13條、第...     ISD\n",
       "22  金管保壽字第10602544381號修正「投資型保險商品銷售應注意事項」第4點規定，自106...      PD\n",
       "23  金管保財字第10602104511號核釋「保險業資金辦理專案運用公共及社會福利事業投資管理辦...      AI\n",
       "24  金管保財字第10602504021號修正「保險業內部控制及稽核制度實施辦法」。為提高保險業對...      RM\n",
       "25  金管保壽字第10602546201號修正「保險商品銷售前程序作業準則」第24條、第32條條文...      AA\n",
       "26  台財稅字第10604676280號修正「營利事業所得稅不合常規移轉訂價查核準則」部分條文。為...     F&A\n",
       "27  勞職授字第1060204871號修正「勞工健康保護規則」。配合職業安全衛生法（以下簡稱本法）...      HR\n",
       "28  金管保壽字第10610946061號修正「人身保險商品審查應注意事項」第220點之3規定，自...      PD\n",
       "29  台財際字第10624518960號訂定金融機構執行共同申報及盡職審查作業辦法。為因應國際日益...     POS\n",
       "30  金管保綜字第 10602564481 號修正「保險業辦理電子商務應注意事項」，自即日生效。金...      CU\n",
       "31  壽會貴字第1061116492號修正「人壽保險業防制洗錢及打擊資助恐怖主義注意事項範本」、「...  OTHERS\n",
       "32  金管保財字第10602505441號修正人身保險業各幣別(新臺幣、美元、澳幣、歐元及人民幣)...    ILPD\n",
       "33  金管保財字第10602137571號訂定106年度適用「保險業計算自有資本及風險資本之範圍及...      AT\n",
       "34  金管保壽字第10610949581號修正「人身保險業辦理以外幣收付之非投資型人身保險業務應具...      PD"
      ]
     },
     "execution_count": 4,
     "metadata": {},
     "output_type": "execute_result"
    }
   ],
   "source": [
    "data_dir = '../Data/NSL_POC/'\n",
    "train_df = pickle.load(open(data_dir+'clf_train.pkl','rb'))\n",
    "train_df"
   ]
  },
  {
   "cell_type": "code",
   "execution_count": 5,
   "metadata": {},
   "outputs": [
    {
     "name": "stdout",
     "output_type": "stream",
     "text": [
      "{'AA': 0, 'UW': 1, 'HR': 2, 'POS': 3, 'ILPD': 4, 'CU': 5, 'AT': 6, 'PC': 7, 'OIU': 8, 'SEC': 9, 'AI': 10, 'OTHERS': 11, 'RM': 12, 'ISD': 13, 'GA': 14, 'F&A': 15, 'PD': 16}\n"
     ]
    }
   ],
   "source": [
    "labelID_dict = {}\n",
    "for i,label in enumerate(set(train_df.Label.tolist())):\n",
    "    labelID_dict[label] = i\n",
    "# pickle.dump(obj=labelID_dict,file=open(data_dir+'labelID_dict.pkl','wb'))\n",
    "labelID_dict = pickle.load(open(data_dir+'labelID_dict.pkl','rb'))\n",
    "print(labelID_dict)"
   ]
  },
  {
   "cell_type": "code",
   "execution_count": 51,
   "metadata": {},
   "outputs": [
    {
     "name": "stdout",
     "output_type": "stream",
     "text": [
      "(35,)\n"
     ]
    }
   ],
   "source": [
    "trainX = train_df.pretrained.tolist()\n",
    "trainY = train_df.Label.tolist()\n",
    "train_Y = np.array([labelID_dict[x] for x in trainY])\n",
    "print(train_Y.shape)\n",
    "assert len(trainX) == len(train_Y)"
   ]
  },
  {
   "cell_type": "code",
   "execution_count": 46,
   "metadata": {
    "scrolled": true
   },
   "outputs": [
    {
     "name": "stdout",
     "output_type": "stream",
     "text": [
      "Model: \"tf_bert_for_sequence_classification_4\"\n",
      "_________________________________________________________________\n",
      "Layer (type)                 Output Shape              Param #   \n",
      "=================================================================\n",
      "bert (TFBertMainLayer)       multiple                  102267648 \n",
      "_________________________________________________________________\n",
      "dropout_337 (Dropout)        multiple                  0         \n",
      "_________________________________________________________________\n",
      "classifier (Dense)           multiple                  13073     \n",
      "=================================================================\n",
      "Total params: 102,280,721\n",
      "Trainable params: 102,280,721\n",
      "Non-trainable params: 0\n",
      "_________________________________________________________________\n"
     ]
    }
   ],
   "source": [
    "model_dir = '../Data/NSL_POC/pretrained/pretrained_output/'\n",
    "\n",
    "# 'hfl/chinese-roberta-wwm-ext'\n",
    "config = BertConfig.from_pretrained(model_dir+'config.json',num_labels=len(labelID_dict)) # model_dir+'config.json' from_pretrained , num_labels=len(labelID_dict)\n",
    "config.output_hidden_states=True\n",
    "tokenizer = BertTokenizer.from_pretrained(model_dir) #model_dir\n",
    "model = TFBertForSequenceClassification.from_pretrained(model_dir+'pytorch_model.bin', config=config, from_pt=True)\n",
    "# model = TFBertModel.from_pretrained(model_dir+'pytorch_model.bin', from_pt=True, config=config) # BertModel\n",
    "# model = Dense(17,activation='softmax')(model)\n",
    "# model.add(Dense(17,activation='softmax'))\n",
    "model.summary()"
   ]
  },
  {
   "cell_type": "code",
   "execution_count": 12,
   "metadata": {},
   "outputs": [],
   "source": [
    "train_X = tokenizer.encode(trainX[0])"
   ]
  },
  {
   "cell_type": "code",
   "execution_count": 21,
   "metadata": {},
   "outputs": [
    {
     "data": {
      "text/plain": [
       "512"
      ]
     },
     "execution_count": 21,
     "metadata": {},
     "output_type": "execute_result"
    }
   ],
   "source": [
    "len(train_X[:512])"
   ]
  },
  {
   "cell_type": "code",
   "execution_count": 18,
   "metadata": {},
   "outputs": [
    {
     "data": {
      "text/plain": [
       "924"
      ]
     },
     "execution_count": 18,
     "metadata": {},
     "output_type": "execute_result"
    }
   ],
   "source": [
    "train_X[3]"
   ]
  },
  {
   "cell_type": "code",
   "execution_count": 49,
   "metadata": {},
   "outputs": [
    {
     "data": {
      "text/plain": [
       "(<tf.Tensor: shape=(1, 17), dtype=float32, numpy=\n",
       " array([[ 0.01979528,  0.34427196, -0.07014667, -0.49727052,  0.57606685,\n",
       "         -0.01535538,  0.11430933, -0.0450023 ,  0.68704015, -0.08569238,\n",
       "          0.21343467,  0.01042967, -0.5044156 , -0.427587  , -0.1773215 ,\n",
       "          0.00199722, -0.17278355]], dtype=float32)>,\n",
       " (<tf.Tensor: shape=(1, 512, 768), dtype=float32, numpy=\n",
       "  array([[[-0.55435586, -0.09462756, -0.33222687, ..., -0.44140595,\n",
       "            0.3520794 ,  0.04826862],\n",
       "          [-0.6998284 , -0.22304885, -0.8071961 , ..., -0.45862633,\n",
       "           -0.8025322 , -0.4225585 ],\n",
       "          [ 0.21913224, -0.46671164, -0.51223063, ..., -0.10547557,\n",
       "           -0.11612163,  0.43877235],\n",
       "          ...,\n",
       "          [-0.41762987, -0.45228168,  0.42033008, ..., -0.00431474,\n",
       "           -0.24653646, -1.0576246 ],\n",
       "          [-0.842303  , -0.00665954, -1.3898928 , ...,  0.31176844,\n",
       "           -0.29549506, -0.26446968],\n",
       "          [-0.93622047,  1.0965811 , -0.55757797, ...,  0.36564434,\n",
       "            0.47369912, -1.6159246 ]]], dtype=float32)>,\n",
       "  <tf.Tensor: shape=(1, 512, 768), dtype=float32, numpy=\n",
       "  array([[[-0.10592933, -0.1284898 , -0.45516106, ..., -0.01114048,\n",
       "            0.16163392, -0.2646407 ],\n",
       "          [-0.82250106, -0.40911478, -0.6507516 , ..., -0.4485283 ,\n",
       "           -0.53135496, -0.69328386],\n",
       "          [ 0.4755343 ,  0.08497593, -0.68527424, ...,  0.05335709,\n",
       "            0.49349707,  0.570118  ],\n",
       "          ...,\n",
       "          [-0.45020327, -0.4391284 ,  0.5689282 , ..., -0.4151199 ,\n",
       "           -0.25783122, -1.2931254 ],\n",
       "          [-1.1788632 ,  0.05450642, -1.6067058 , ..., -0.7049289 ,\n",
       "            0.13121794, -0.15529904],\n",
       "          [-0.89105713,  1.2381493 , -1.4856124 , ..., -0.76006925,\n",
       "            0.9923376 , -1.7284151 ]]], dtype=float32)>,\n",
       "  <tf.Tensor: shape=(1, 512, 768), dtype=float32, numpy=\n",
       "  array([[[-8.7317079e-04, -1.4692809e-01, -1.6822831e-01, ...,\n",
       "           -6.9975164e-03,  2.0558454e-02, -2.0990133e-01],\n",
       "          [-6.0247630e-01, -8.0756217e-01, -4.1092080e-01, ...,\n",
       "           -5.2528316e-01, -2.9496905e-01, -1.7000607e-01],\n",
       "          [ 5.4951119e-01,  1.2892598e-01, -8.7488914e-01, ...,\n",
       "           -4.1473222e-01,  4.6530730e-01,  1.2467370e+00],\n",
       "          ...,\n",
       "          [-5.3382146e-01, -7.6657110e-01,  3.9645770e-01, ...,\n",
       "           -1.3336958e-01, -1.5020035e-01, -1.1617950e+00],\n",
       "          [-1.0539562e+00, -2.2370622e-01, -1.4966201e+00, ...,\n",
       "           -9.3606693e-01, -2.7526233e-01,  1.3190252e-01],\n",
       "          [-8.4876406e-01,  5.8348382e-01, -1.4525830e+00, ...,\n",
       "           -3.2230425e-01,  7.7898133e-01, -2.0921919e+00]]], dtype=float32)>,\n",
       "  <tf.Tensor: shape=(1, 512, 768), dtype=float32, numpy=\n",
       "  array([[[-2.8103208e-02, -9.7492293e-02,  1.4235564e-03, ...,\n",
       "           -3.7946850e-02, -9.1520928e-02, -1.2208283e-01],\n",
       "          [-6.9881159e-01, -5.6418908e-01, -4.9160707e-01, ...,\n",
       "            1.8155871e-01, -5.5599891e-02, -3.9543959e-01],\n",
       "          [ 5.4754823e-01,  2.9393283e-01, -1.1707298e+00, ...,\n",
       "           -5.8136374e-01,  4.4229499e-01,  3.3877724e-01],\n",
       "          ...,\n",
       "          [-8.2853127e-01, -5.4437447e-01, -3.7640870e-02, ...,\n",
       "           -4.7494629e-01,  3.1878427e-01, -1.0114305e+00],\n",
       "          [-6.8537784e-01,  4.5966175e-01, -1.2649280e+00, ...,\n",
       "           -8.4664434e-01, -3.6057889e-01,  8.6428605e-02],\n",
       "          [-4.6744737e-01,  1.1122444e-01, -1.3723071e+00, ...,\n",
       "           -1.0431323e+00,  7.0009238e-01, -1.9668962e+00]]], dtype=float32)>,\n",
       "  <tf.Tensor: shape=(1, 512, 768), dtype=float32, numpy=\n",
       "  array([[[-0.02274513, -0.05520555,  0.09884044, ..., -0.0511378 ,\n",
       "           -0.00722638, -0.09838489],\n",
       "          [-0.7036885 , -0.25214183, -0.37880778, ...,  0.68630725,\n",
       "           -0.49184197,  0.3499978 ],\n",
       "          [ 0.8863939 ,  0.9218482 , -1.1469829 , ..., -0.37075216,\n",
       "            0.13747291,  0.55341375],\n",
       "          ...,\n",
       "          [-0.48549825, -0.2441893 , -0.11287102, ..., -0.73374856,\n",
       "            0.5817653 , -1.0163957 ],\n",
       "          [-0.36237228,  0.19922021, -1.522091  , ..., -0.157622  ,\n",
       "           -0.23603128,  0.36248618],\n",
       "          [-0.2790779 ,  0.33261994, -1.5367126 , ..., -0.78529996,\n",
       "            0.5640309 , -1.233442  ]]], dtype=float32)>,\n",
       "  <tf.Tensor: shape=(1, 512, 768), dtype=float32, numpy=\n",
       "  array([[[-6.1387546e-02,  1.5512090e-03,  5.1678300e-02, ...,\n",
       "           -6.0003616e-02, -7.8062378e-02, -7.0835181e-02],\n",
       "          [-6.2104154e-01, -4.5475781e-01, -4.5184791e-01, ...,\n",
       "            8.8002431e-01, -1.0376005e+00,  7.1639895e-01],\n",
       "          [ 4.7171828e-01, -3.8619852e-01, -1.4842585e+00, ...,\n",
       "           -1.7150669e-01, -5.6468016e-01,  4.4083127e-01],\n",
       "          ...,\n",
       "          [-5.4946911e-01,  6.8722621e-02, -3.8045043e-01, ...,\n",
       "           -6.7131065e-02,  1.6460353e-01, -1.0091844e+00],\n",
       "          [-3.2241064e-01, -1.9547760e-02, -1.5716825e+00, ...,\n",
       "           -8.5977143e-01, -5.6996548e-01,  1.3401130e-01],\n",
       "          [-2.1370310e-01, -2.5589567e-01, -1.1304185e+00, ...,\n",
       "           -1.7082502e+00, -1.6504624e-01, -9.5569754e-01]]], dtype=float32)>,\n",
       "  <tf.Tensor: shape=(1, 512, 768), dtype=float32, numpy=\n",
       "  array([[[-0.05843219, -0.03126977,  0.01883731, ..., -0.02927565,\n",
       "           -0.02909552, -0.04062415],\n",
       "          [-0.2441906 , -0.2798512 , -0.80667907, ...,  0.6245127 ,\n",
       "           -1.044428  ,  0.06956486],\n",
       "          [ 0.46834207, -0.4156279 , -1.6629937 , ..., -0.22939564,\n",
       "           -0.4667957 , -0.41522118],\n",
       "          ...,\n",
       "          [-0.02986335,  0.5071217 , -0.21672758, ..., -0.27442944,\n",
       "            0.2954759 , -1.0737357 ],\n",
       "          [-0.17166117,  0.36046538, -1.1703866 , ..., -0.5094359 ,\n",
       "           -0.38124448, -0.21375401],\n",
       "          [ 0.08683294, -0.24490917, -0.8185353 , ..., -0.6771034 ,\n",
       "           -0.6619991 , -0.86147463]]], dtype=float32)>,\n",
       "  <tf.Tensor: shape=(1, 512, 768), dtype=float32, numpy=\n",
       "  array([[[-0.03507268, -0.03969381,  0.02232192, ..., -0.01669901,\n",
       "           -0.01474653, -0.03737052],\n",
       "          [-0.2526415 , -0.3352249 , -0.29057884, ...,  0.32519254,\n",
       "           -1.3824023 , -0.3088375 ],\n",
       "          [ 0.34580833, -0.08331409, -1.7685823 , ..., -1.0639665 ,\n",
       "           -0.5566904 , -0.6209483 ],\n",
       "          ...,\n",
       "          [-0.11201786,  0.44015807,  0.21696384, ..., -0.5280933 ,\n",
       "            0.8361306 , -1.1326467 ],\n",
       "          [-0.8620075 ,  0.05858115, -0.923396  , ..., -0.8635673 ,\n",
       "           -0.7072073 , -0.03455203],\n",
       "          [-0.33547056, -0.57113534, -0.8840767 , ..., -0.659046  ,\n",
       "           -0.90825164, -0.39632636]]], dtype=float32)>,\n",
       "  <tf.Tensor: shape=(1, 512, 768), dtype=float32, numpy=\n",
       "  array([[[-0.03113825, -0.047324  ,  0.01625887, ..., -0.02318894,\n",
       "            0.00780793, -0.03931475],\n",
       "          [-0.43786377,  0.1260037 , -0.19972321, ..., -0.19408795,\n",
       "           -0.9597559 , -0.68810755],\n",
       "          [ 0.46182033,  0.6736976 , -1.311239  , ..., -1.1162668 ,\n",
       "           -0.86637217, -0.9933653 ],\n",
       "          ...,\n",
       "          [ 0.07764387,  0.6825835 ,  0.14819011, ..., -0.60347813,\n",
       "           -0.2486366 , -1.4397441 ],\n",
       "          [-1.6459372 ,  0.5424768 , -0.63312984, ..., -0.89978015,\n",
       "           -0.8059148 ,  0.5621393 ],\n",
       "          [-0.385465  , -0.2335553 , -0.5402781 , ..., -0.8782407 ,\n",
       "           -0.9664784 ,  0.45137691]]], dtype=float32)>,\n",
       "  <tf.Tensor: shape=(1, 512, 768), dtype=float32, numpy=\n",
       "  array([[[-0.04659993, -0.0528894 ,  0.03942515, ..., -0.02258951,\n",
       "            0.0201471 , -0.0287986 ],\n",
       "          [-0.58968353,  0.03849367,  0.17953798, ..., -0.92979866,\n",
       "           -0.7157663 , -0.08934291],\n",
       "          [ 0.6237141 ,  0.8109302 , -1.0666794 , ..., -1.6347904 ,\n",
       "           -0.04923575, -0.77788734],\n",
       "          ...,\n",
       "          [ 0.77359533,  0.8637552 , -0.0302453 , ..., -0.75904036,\n",
       "           -0.69827366, -1.4777747 ],\n",
       "          [-1.5991468 ,  0.4336587 , -0.21510534, ..., -0.00859863,\n",
       "           -1.3244796 ,  0.86800957],\n",
       "          [ 0.09344103,  0.3118685 , -0.51110584, ..., -0.7282113 ,\n",
       "           -0.69693536,  0.2080549 ]]], dtype=float32)>,\n",
       "  <tf.Tensor: shape=(1, 512, 768), dtype=float32, numpy=\n",
       "  array([[[-0.10410661, -0.02578096,  0.03877288, ...,  0.00941382,\n",
       "            0.0543744 , -0.02269386],\n",
       "          [-0.13233791,  0.329107  , -0.52469254, ..., -0.7749822 ,\n",
       "           -0.42892843,  0.4076566 ],\n",
       "          [ 0.6760276 ,  0.8245692 , -0.7459405 , ..., -1.5159104 ,\n",
       "            0.44173178, -0.6419353 ],\n",
       "          ...,\n",
       "          [ 0.9809775 ,  0.38284725, -0.28344682, ..., -0.43090975,\n",
       "           -0.6460618 , -1.5778764 ],\n",
       "          [-0.7863357 ,  0.47087514,  0.17222193, ...,  0.29457757,\n",
       "           -1.1002612 ,  0.93274283],\n",
       "          [ 0.5906634 ,  0.250826  ,  0.21727046, ..., -0.50354135,\n",
       "           -0.54720134,  0.09766356]]], dtype=float32)>,\n",
       "  <tf.Tensor: shape=(1, 512, 768), dtype=float32, numpy=\n",
       "  array([[[-0.07522213, -0.02921858,  0.07178351, ..., -0.01665382,\n",
       "            0.08017654, -0.02446557],\n",
       "          [ 0.14889742,  0.9104702 , -0.78579026, ..., -0.76477563,\n",
       "           -0.14866008,  0.32555303],\n",
       "          [ 0.9057649 ,  0.81016296, -0.7164037 , ..., -1.6167828 ,\n",
       "            0.02926741, -0.10275945],\n",
       "          ...,\n",
       "          [ 1.0535758 ,  0.413162  , -0.37234682, ..., -0.51476246,\n",
       "           -0.7079409 , -1.6775703 ],\n",
       "          [ 0.11689008,  0.5408587 ,  0.35423774, ...,  0.07911329,\n",
       "           -1.184831  ,  1.929082  ],\n",
       "          [ 1.3988667 ,  0.49445912,  0.6271082 , ..., -0.618129  ,\n",
       "           -0.62896466,  0.10261855]]], dtype=float32)>,\n",
       "  <tf.Tensor: shape=(1, 512, 768), dtype=float32, numpy=\n",
       "  array([[[ 0.6122534 ,  0.40801764,  0.2162288 , ..., -0.2893685 ,\n",
       "            0.10422543,  0.4762152 ],\n",
       "          [-0.08597479,  1.0171489 , -0.57617795, ..., -0.5843449 ,\n",
       "            0.01025454,  0.13998233],\n",
       "          [ 1.066528  ,  0.97286457, -0.08553007, ..., -1.3615205 ,\n",
       "            0.28847882, -0.26970363],\n",
       "          ...,\n",
       "          [ 0.7517977 ,  0.37634277, -0.10657436, ..., -0.1593974 ,\n",
       "           -0.6026428 , -0.7750327 ],\n",
       "          [ 0.71853155,  0.6864325 , -0.36074838, ...,  0.0717217 ,\n",
       "           -1.0943067 ,  1.3468186 ],\n",
       "          [ 1.2773373 ,  0.85479265,  0.41330394, ..., -0.43564314,\n",
       "           -0.8895026 , -0.12528734]]], dtype=float32)>))"
      ]
     },
     "execution_count": 49,
     "metadata": {},
     "output_type": "execute_result"
    }
   ],
   "source": [
    "input_ids = tf.constant(tokenizer.encode(trainX[0], add_special_tokens=True))[None, 1:513]\n",
    "model(input_ids)"
   ]
  },
  {
   "cell_type": "code",
   "execution_count": 48,
   "metadata": {
    "scrolled": true
   },
   "outputs": [
    {
     "data": {
      "text/plain": [
       "<tf.Tensor: shape=(1, 512), dtype=int32, numpy=\n",
       "array([[ 101, 7032, 5052,  924, 1904, 2099, 5018, 8423, 8904, 9488, 9313,\n",
       "        9310, 5998, 3417, 7026,  519,  924, 7402, 3511, 6794, 4415, 1751,\n",
       "        1912, 2832, 6536, 5052, 4415, 6794, 3791,  520, 5018, 8115, 3454,\n",
       "        5018,  130, 7517, 6211, 2137, 8024, 3300, 7302,  782, 6716,  924,\n",
       "        7402, 3511, 3297, 6818,  671, 2399,  722, 1555, 1501, 5178, 3539,\n",
       "        5198, 1394, 6268, 1146,  966, 5016, 1394, 2792, 1154, 3560, 3976,\n",
       "         722,  671, 5442, 8024, 2533, 3079,  671, 6900, 4500, 3315, 6794,\n",
       "        3791, 5018, 8115, 3454, 5018,  130, 7517, 5018,  122, 3621, 2772,\n",
       "        5018,  123, 3621, 2792, 1154, 2974, 3177, 4685, 7302, 6211, 2137,\n",
       "        8024, 5632, 8438, 2399,  122, 3299,  122, 3189, 4495, 3126,  511,\n",
       "         671,  510,  898, 3087,  924, 7402, 3511, 6794, 4415, 1751, 1912,\n",
       "        2832, 6536, 5052, 4415, 6794, 3791, 8020,  809,  678, 5080, 4935,\n",
       "        3315, 6794, 3791, 8021, 5018, 1282,  758, 3454, 5018,  736, 7517,\n",
       "        6211, 2137, 6794, 4415,  753,  510,  782, 6716,  924, 7402, 3511,\n",
       "        3297, 6818,  671, 2399,  722, 1555, 1501, 5178, 3539, 5198, 1394,\n",
       "        6268, 1146,  966, 8020, 6243, 5050, 3175, 2466, 1350, 1274, 4372,\n",
       "        2994, 5050, 1825, 3976, 6284, 7353,  816, 8021, 5016, 1394,  678,\n",
       "        1154, 3560, 3976,  722,  671, 5442, 8024, 2533, 3079,  671, 6900,\n",
       "        4500, 3315, 6794, 3791, 5018, 1282,  758, 3454, 5018,  736, 7517,\n",
       "        5018,  671, 3621, 2772, 5018,  753, 3621, 2792, 1154, 2974, 3177,\n",
       "        8038,  113,  671,  114,  782, 6716,  924, 7402, 3511, 3297, 6818,\n",
       "         671, 2399,  722, 1555, 1501, 5178, 3539, 5198, 1394, 6268, 1146,\n",
       "         966,  855, 3176, 1059, 3511, 4518,  673, 1282, 4636, 1146,  855,\n",
       "         809,  677, 5442,  113,  753,  114,  782, 6716,  924, 7402, 3511,\n",
       "        3297, 6818,  671, 2399,  722, 1555, 1501, 5178, 3539, 5198, 1394,\n",
       "        6268, 1146,  966, 6733,  677, 2399, 2428, 1872, 1217, 6888, 7439,\n",
       "        7953,  671, 8020, 1419, 8021,  809,  677, 5442,  510, 2772,  782,\n",
       "        6716,  924, 7402, 3511, 3297, 6818,  671, 2399,  722, 1555, 1501,\n",
       "        5178, 3539, 5198, 1394, 6268, 1146,  966, 6888, 7439, 7953,  736,\n",
       "        8020, 1419, 8021, 2668, 3313, 6888, 7439, 7953,  736,  758, 8024,\n",
       "         684, 6733,  677, 2399, 2428, 1872, 1217, 6888, 7439, 7953, 7439,\n",
       "         753, 8020, 1419, 8021,  809,  677, 5442,  510, 2772,  782, 6716,\n",
       "         924, 7402, 3511, 3297, 6818,  671, 2399,  722, 1555, 1501, 5178,\n",
       "        3539, 5198, 1394, 6268, 1146,  966, 6888, 7439, 7953,  736,  758,\n",
       "        8020, 1419, 8021, 5635,  671,  722, 7279, 8024,  684, 6733,  677,\n",
       "        2399, 2428, 1872, 1217, 6888, 7439, 7953, 7439,  671, 8020, 1419,\n",
       "        8021,  809,  677, 5442,  676,  510, 7674, 3613, 5016, 1394, 1184,\n",
       "        7953, 3560, 3976,  722,  782, 6716,  924, 7402, 3511, 8024, 2746,\n",
       "        3176, 3315, 3298, 3417, 2137,  722,  671, 2399, 6900, 4500, 3309,\n",
       "        7279, 6629, 1993, 3189, 6629,  673, 3189, 1058, 8024, 2218, 3079,\n",
       "        2137, 6900, 4500, 3315, 6794, 3791, 5018, 1282,  758, 3454, 5018,\n",
       "         736, 7517, 4685, 7302, 3621, 3613, 2792, 1154, 2974, 3177, 1141,\n",
       "        1841, 3315, 3298,  991, 3389, 8024, 6874, 3309, 6213, 1398, 6900,\n",
       "        4500, 3315, 6794, 3791, 5018, 1282,  758, 3454, 5018,  736, 7517,\n",
       "        5018,  753, 3621, 6211, 2137, 8024,  684, 3176, 6900, 4500, 3309,\n",
       "        7279, 1058,  679, 2533, 1086, 4509, 6313, 6365, 3291, 8039, 7478,\n",
       "        7674, 3613, 5016, 1394, 1184, 7953]])>"
      ]
     },
     "execution_count": 48,
     "metadata": {},
     "output_type": "execute_result"
    }
   ],
   "source": [
    "input_ids"
   ]
  },
  {
   "cell_type": "code",
   "execution_count": 45,
   "metadata": {
    "scrolled": true
   },
   "outputs": [
    {
     "data": {
      "text/plain": [
       "<tf.Tensor: shape=(1, 512), dtype=int32, numpy=\n",
       "array([[ 101, 7032, 5052,  924, 1904, 2099, 5018, 8423, 8904, 9488, 9313,\n",
       "        9310, 5998, 3417, 7026,  519,  924, 7402, 3511, 6794, 4415, 1751,\n",
       "        1912, 2832, 6536, 5052, 4415, 6794, 3791,  520, 5018, 8115, 3454,\n",
       "        5018,  130, 7517, 6211, 2137, 8024, 3300, 7302,  782, 6716,  924,\n",
       "        7402, 3511, 3297, 6818,  671, 2399,  722, 1555, 1501, 5178, 3539,\n",
       "        5198, 1394, 6268, 1146,  966, 5016, 1394, 2792, 1154, 3560, 3976,\n",
       "         722,  671, 5442, 8024, 2533, 3079,  671, 6900, 4500, 3315, 6794,\n",
       "        3791, 5018, 8115, 3454, 5018,  130, 7517, 5018,  122, 3621, 2772,\n",
       "        5018,  123, 3621, 2792, 1154, 2974, 3177, 4685, 7302, 6211, 2137,\n",
       "        8024, 5632, 8438, 2399,  122, 3299,  122, 3189, 4495, 3126,  511,\n",
       "         671,  510,  898, 3087,  924, 7402, 3511, 6794, 4415, 1751, 1912,\n",
       "        2832, 6536, 5052, 4415, 6794, 3791, 8020,  809,  678, 5080, 4935,\n",
       "        3315, 6794, 3791, 8021, 5018, 1282,  758, 3454, 5018,  736, 7517,\n",
       "        6211, 2137, 6794, 4415,  753,  510,  782, 6716,  924, 7402, 3511,\n",
       "        3297, 6818,  671, 2399,  722, 1555, 1501, 5178, 3539, 5198, 1394,\n",
       "        6268, 1146,  966, 8020, 6243, 5050, 3175, 2466, 1350, 1274, 4372,\n",
       "        2994, 5050, 1825, 3976, 6284, 7353,  816, 8021, 5016, 1394,  678,\n",
       "        1154, 3560, 3976,  722,  671, 5442, 8024, 2533, 3079,  671, 6900,\n",
       "        4500, 3315, 6794, 3791, 5018, 1282,  758, 3454, 5018,  736, 7517,\n",
       "        5018,  671, 3621, 2772, 5018,  753, 3621, 2792, 1154, 2974, 3177,\n",
       "        8038,  113,  671,  114,  782, 6716,  924, 7402, 3511, 3297, 6818,\n",
       "         671, 2399,  722, 1555, 1501, 5178, 3539, 5198, 1394, 6268, 1146,\n",
       "         966,  855, 3176, 1059, 3511, 4518,  673, 1282, 4636, 1146,  855,\n",
       "         809,  677, 5442,  113,  753,  114,  782, 6716,  924, 7402, 3511,\n",
       "        3297, 6818,  671, 2399,  722, 1555, 1501, 5178, 3539, 5198, 1394,\n",
       "        6268, 1146,  966, 6733,  677, 2399, 2428, 1872, 1217, 6888, 7439,\n",
       "        7953,  671, 8020, 1419, 8021,  809,  677, 5442,  510, 2772,  782,\n",
       "        6716,  924, 7402, 3511, 3297, 6818,  671, 2399,  722, 1555, 1501,\n",
       "        5178, 3539, 5198, 1394, 6268, 1146,  966, 6888, 7439, 7953,  736,\n",
       "        8020, 1419, 8021, 2668, 3313, 6888, 7439, 7953,  736,  758, 8024,\n",
       "         684, 6733,  677, 2399, 2428, 1872, 1217, 6888, 7439, 7953, 7439,\n",
       "         753, 8020, 1419, 8021,  809,  677, 5442,  510, 2772,  782, 6716,\n",
       "         924, 7402, 3511, 3297, 6818,  671, 2399,  722, 1555, 1501, 5178,\n",
       "        3539, 5198, 1394, 6268, 1146,  966, 6888, 7439, 7953,  736,  758,\n",
       "        8020, 1419, 8021, 5635,  671,  722, 7279, 8024,  684, 6733,  677,\n",
       "        2399, 2428, 1872, 1217, 6888, 7439, 7953, 7439,  671, 8020, 1419,\n",
       "        8021,  809,  677, 5442,  676,  510, 7674, 3613, 5016, 1394, 1184,\n",
       "        7953, 3560, 3976,  722,  782, 6716,  924, 7402, 3511, 8024, 2746,\n",
       "        3176, 3315, 3298, 3417, 2137,  722,  671, 2399, 6900, 4500, 3309,\n",
       "        7279, 6629, 1993, 3189, 6629,  673, 3189, 1058, 8024, 2218, 3079,\n",
       "        2137, 6900, 4500, 3315, 6794, 3791, 5018, 1282,  758, 3454, 5018,\n",
       "         736, 7517, 4685, 7302, 3621, 3613, 2792, 1154, 2974, 3177, 1141,\n",
       "        1841, 3315, 3298,  991, 3389, 8024, 6874, 3309, 6213, 1398, 6900,\n",
       "        4500, 3315, 6794, 3791, 5018, 1282,  758, 3454, 5018,  736, 7517,\n",
       "        5018,  753, 3621, 6211, 2137, 8024,  684, 3176, 6900, 4500, 3309,\n",
       "        7279, 1058,  679, 2533, 1086, 4509, 6313, 6365, 3291, 8039, 7478,\n",
       "        7674, 3613, 5016, 1394, 1184, 7953]])>"
      ]
     },
     "execution_count": 45,
     "metadata": {},
     "output_type": "execute_result"
    }
   ],
   "source": [
    "input_ids #new"
   ]
  },
  {
   "cell_type": "markdown",
   "metadata": {},
   "source": [
    "Play ground"
   ]
  },
  {
   "cell_type": "code",
   "execution_count": 6,
   "metadata": {
    "scrolled": true
   },
   "outputs": [
    {
     "name": "stdout",
     "output_type": "stream",
     "text": [
      "Collecting tensorflow-datasets\n",
      "  Downloading https://files.pythonhosted.org/packages/88/b9/74c219b0310b3df0ac60c4948c4191b9377b6b746615b176819533096fb5/tensorflow_datasets-2.0.0-py3-none-any.whl (3.1MB)\n",
      "Collecting transformers\n",
      "  Downloading https://files.pythonhosted.org/packages/ee/fc/bd726a15ab2c66dc09306689d04da07a3770dad724f0883f0a4bfb745087/transformers-2.4.1-py3-none-any.whl (475kB)\n",
      "Requirement already satisfied: requests>=2.19.0 in c:\\programdata\\anaconda3\\lib\\site-packages (from tensorflow-datasets) (2.22.0)\n",
      "Collecting tensorflow-metadata (from tensorflow-datasets)\n",
      "  Downloading https://files.pythonhosted.org/packages/3c/aa/c4c3c9339fbe9d46edd390789d7033b4fa89e9f566d5723576dfdd3ed18e/tensorflow_metadata-0.21.1-py2.py3-none-any.whl\n",
      "Requirement already satisfied: protobuf>=3.6.1 in c:\\programdata\\anaconda3\\lib\\site-packages (from tensorflow-datasets) (3.10.0)\n",
      "Requirement already satisfied: absl-py in c:\\programdata\\anaconda3\\lib\\site-packages (from tensorflow-datasets) (0.8.1)\n",
      "Requirement already satisfied: termcolor in c:\\programdata\\anaconda3\\lib\\site-packages (from tensorflow-datasets) (1.1.0)\n",
      "Requirement already satisfied: wrapt in c:\\programdata\\anaconda3\\lib\\site-packages (from tensorflow-datasets) (1.11.2)\n",
      "Requirement already satisfied: attrs>=18.1.0 in c:\\programdata\\anaconda3\\lib\\site-packages (from tensorflow-datasets) (19.2.0)\n",
      "Requirement already satisfied: six in c:\\programdata\\anaconda3\\lib\\site-packages (from tensorflow-datasets) (1.12.0)\n",
      "Collecting dill (from tensorflow-datasets)\n",
      "  Downloading https://files.pythonhosted.org/packages/c7/11/345f3173809cea7f1a193bfbf02403fff250a3360e0e118a1630985e547d/dill-0.3.1.1.tar.gz (151kB)\n",
      "Requirement already satisfied: numpy in c:\\programdata\\anaconda3\\lib\\site-packages (from tensorflow-datasets) (1.16.5)\n",
      "Requirement already satisfied: tqdm in c:\\programdata\\anaconda3\\lib\\site-packages (from tensorflow-datasets) (4.36.1)\n",
      "Requirement already satisfied: future in c:\\programdata\\anaconda3\\lib\\site-packages (from tensorflow-datasets) (0.17.1)\n",
      "Collecting promise (from tensorflow-datasets)\n",
      "  Downloading https://files.pythonhosted.org/packages/cf/9c/fb5d48abfe5d791cd496e4242ebcf87a4bb2e0c3dcd6e0ae68c11426a528/promise-2.3.tar.gz\n",
      "Collecting tokenizers==0.0.11 (from transformers)\n",
      "  Downloading https://files.pythonhosted.org/packages/6a/d3/af5629cf53fac268dadcc69fd4db3096eda17e617ecfa9011787820dd59f/tokenizers-0.0.11-cp37-cp37m-win_amd64.whl (796kB)\n",
      "Collecting sacremoses (from transformers)\n",
      "  Downloading https://files.pythonhosted.org/packages/a6/b4/7a41d630547a4afd58143597d5a49e07bfd4c42914d8335b2a5657efc14b/sacremoses-0.0.38.tar.gz (860kB)\n",
      "Collecting regex!=2019.12.17 (from transformers)\n",
      "  Downloading https://files.pythonhosted.org/packages/87/61/a3d8311dccec246605983a39b074eb175338f21cba774db0163e5ad0a139/regex-2020.1.8-cp37-cp37m-win_amd64.whl (271kB)\n",
      "Collecting sentencepiece (from transformers)\n",
      "  Downloading https://files.pythonhosted.org/packages/61/c5/e7e2f45c076097ac1a58b21288be25ae4eb4044be899e6c04cd897a00f15/sentencepiece-0.1.85-cp37-cp37m-win_amd64.whl (1.2MB)\n",
      "Requirement already satisfied: filelock in c:\\programdata\\anaconda3\\lib\\site-packages (from transformers) (3.0.12)\n",
      "Requirement already satisfied: boto3 in c:\\programdata\\anaconda3\\lib\\site-packages (from transformers) (1.10.15)\n",
      "Requirement already satisfied: certifi>=2017.4.17 in c:\\programdata\\anaconda3\\lib\\site-packages (from requests>=2.19.0->tensorflow-datasets) (2019.9.11)\n",
      "Requirement already satisfied: idna<2.9,>=2.5 in c:\\programdata\\anaconda3\\lib\\site-packages (from requests>=2.19.0->tensorflow-datasets) (2.8)\n",
      "Requirement already satisfied: chardet<3.1.0,>=3.0.2 in c:\\programdata\\anaconda3\\lib\\site-packages (from requests>=2.19.0->tensorflow-datasets) (3.0.4)\n",
      "Requirement already satisfied: urllib3!=1.25.0,!=1.25.1,<1.26,>=1.21.1 in c:\\programdata\\anaconda3\\lib\\site-packages (from requests>=2.19.0->tensorflow-datasets) (1.24.2)\n",
      "Collecting googleapis-common-protos (from tensorflow-metadata->tensorflow-datasets)\n",
      "  Downloading https://files.pythonhosted.org/packages/05/46/168fd780f594a4d61122f7f3dc0561686084319ad73b4febbf02ae8b32cf/googleapis-common-protos-1.51.0.tar.gz\n",
      "Requirement already satisfied: setuptools in c:\\programdata\\anaconda3\\lib\\site-packages (from protobuf>=3.6.1->tensorflow-datasets) (41.4.0)\n",
      "Requirement already satisfied: click in c:\\programdata\\anaconda3\\lib\\site-packages (from sacremoses->transformers) (7.0)\n",
      "Requirement already satisfied: joblib in c:\\programdata\\anaconda3\\lib\\site-packages (from sacremoses->transformers) (0.13.2)\n",
      "Requirement already satisfied: s3transfer<0.3.0,>=0.2.0 in c:\\programdata\\anaconda3\\lib\\site-packages (from boto3->transformers) (0.2.1)\n",
      "Requirement already satisfied: jmespath<1.0.0,>=0.7.1 in c:\\programdata\\anaconda3\\lib\\site-packages (from boto3->transformers) (0.9.4)\n",
      "Requirement already satisfied: botocore<1.14.0,>=1.13.15 in c:\\programdata\\anaconda3\\lib\\site-packages (from boto3->transformers) (1.13.15)\n",
      "Requirement already satisfied: docutils<0.16,>=0.10 in c:\\programdata\\anaconda3\\lib\\site-packages (from botocore<1.14.0,>=1.13.15->boto3->transformers) (0.15.2)\n",
      "Requirement already satisfied: python-dateutil<2.8.1,>=2.1; python_version >= \"2.7\" in c:\\programdata\\anaconda3\\lib\\site-packages (from botocore<1.14.0,>=1.13.15->boto3->transformers) (2.8.0)\n",
      "Building wheels for collected packages: dill, promise, sacremoses, googleapis-common-protos\n",
      "  Building wheel for dill (setup.py): started\n",
      "  Building wheel for dill (setup.py): finished with status 'done'\n",
      "  Created wheel for dill: filename=dill-0.3.1.1-cp37-none-any.whl size=78598 sha256=fa60f0e28150eb6aebafb0f03c3a37fe8401e8fca8cc5829d319b9428aa346e5\n",
      "  Stored in directory: C:\\Users\\szwang\\AppData\\Local\\pip\\Cache\\wheels\\59\\b1\\91\\f02e76c732915c4015ab4010f3015469866c1eb9b14058d8e7\n",
      "  Building wheel for promise (setup.py): started\n",
      "  Building wheel for promise (setup.py): finished with status 'done'\n",
      "  Created wheel for promise: filename=promise-2.3-cp37-none-any.whl size=21500 sha256=945651077f8c79912f94fcee5eaadb0c5b500236500321a5435e0f02a1ef8d50\n",
      "  Stored in directory: C:\\Users\\szwang\\AppData\\Local\\pip\\Cache\\wheels\\19\\49\\34\\c3c1e78bcb954c49e5ec0d31784fe63d14d427f316b12fbde9\n",
      "  Building wheel for sacremoses (setup.py): started\n",
      "  Building wheel for sacremoses (setup.py): finished with status 'done'\n",
      "  Created wheel for sacremoses: filename=sacremoses-0.0.38-cp37-none-any.whl size=884633 sha256=5c7de5168fae7eac819c532e0bf9a781b96c33add2d35c47fa96bc5c110832e6\n",
      "  Stored in directory: C:\\Users\\szwang\\AppData\\Local\\pip\\Cache\\wheels\\6d\\ec\\1a\\21b8912e35e02741306f35f66c785f3afe94de754a0eaf1422\n",
      "  Building wheel for googleapis-common-protos (setup.py): started\n",
      "  Building wheel for googleapis-common-protos (setup.py): finished with status 'done'\n",
      "  Created wheel for googleapis-common-protos: filename=googleapis_common_protos-1.51.0-cp37-none-any.whl size=77603 sha256=061cf77ad0a1803015e79712da9ae552e4a5de81a4eb54a5f0df33cf7f4e89b4\n",
      "  Stored in directory: C:\\Users\\szwang\\AppData\\Local\\pip\\Cache\\wheels\\2c\\f9\\7f\\6eb87e636072bf467e25348bbeb96849333e6a080dca78f706\n",
      "Successfully built dill promise sacremoses googleapis-common-protos\n",
      "Installing collected packages: googleapis-common-protos, tensorflow-metadata, dill, promise, tensorflow-datasets, tokenizers, regex, sacremoses, sentencepiece, transformers\n",
      "Successfully installed dill-0.3.1.1 googleapis-common-protos-1.51.0 promise-2.3 regex-2020.1.8 sacremoses-0.0.38 sentencepiece-0.1.85 tensorflow-datasets-2.0.0 tensorflow-metadata-0.21.1 tokenizers-0.0.11 transformers-2.4.1\n"
     ]
    }
   ],
   "source": [
    "!pip install tensorflow-datasets transformers tensorflow"
   ]
  },
  {
   "cell_type": "code",
   "execution_count": null,
   "metadata": {},
   "outputs": [],
   "source": [
    "# tensorflow "
   ]
  },
  {
   "cell_type": "code",
   "execution_count": 7,
   "metadata": {},
   "outputs": [],
   "source": [
    "import os\n",
    "import tensorflow as tf\n",
    "import tensorflow_datasets\n",
    "from transformers import BertTokenizer, TFBertForSequenceClassification, BertConfig, glue_convert_examples_to_features, glue_processors"
   ]
  },
  {
   "cell_type": "code",
   "execution_count": 8,
   "metadata": {},
   "outputs": [],
   "source": [
    "# script parameters\n",
    "BATCH_SIZE = 32\n",
    "EVAL_BATCH_SIZE = BATCH_SIZE * 2\n",
    "EPOCHS = 3\n",
    "\n",
    "TASK = \"sst-2\"\n",
    "\n",
    "if TASK == \"sst-2\":\n",
    "    TFDS_TASK = \"sst2\"\n",
    "elif TASK == \"sts-b\":\n",
    "    TFDS_TASK = \"stsb\"\n",
    "else:\n",
    "    TFDS_TASK = TASK"
   ]
  },
  {
   "cell_type": "code",
   "execution_count": 9,
   "metadata": {},
   "outputs": [
    {
     "name": "stdout",
     "output_type": "stream",
     "text": [
      "2\n"
     ]
    }
   ],
   "source": [
    "num_labels = len(glue_processors[TASK]().get_labels())\n",
    "print(num_labels)"
   ]
  },
  {
   "cell_type": "code",
   "execution_count": 18,
   "metadata": {
    "scrolled": true
   },
   "outputs": [
    {
     "name": "stderr",
     "output_type": "stream",
     "text": [
      "INFO:absl:Load pre-computed datasetinfo (eg: splits) from bucket.\n",
      "INFO:absl:Loading info from GCS for glue/sst2/1.0.0\n",
      "INFO:absl:Field info.description from disk and from code do not match. Keeping the one from code.\n",
      "INFO:absl:Field info.location from disk and from code do not match. Keeping the one from code.\n",
      "INFO:absl:Generating dataset glue (D:/python/LEO_TM/BERT_chinese_LM_processing/Model/tfds\\glue\\sst2\\1.0.0)\n"
     ]
    },
    {
     "name": "stdout",
     "output_type": "stream",
     "text": [
      "Downloading and preparing dataset glue (7.09 MiB) to D:/python/LEO_TM/BERT_chinese_LM_processing/Model/tfds\\glue\\sst2\\1.0.0...\n"
     ]
    },
    {
     "data": {
      "application/vnd.jupyter.widget-view+json": {
       "model_id": "1329d8e0f5ed470d807471bd08289fe3",
       "version_major": 2,
       "version_minor": 0
      },
      "text/plain": [
       "HBox(children=(IntProgress(value=1, bar_style='info', description='Dl Completed...', max=1, style=ProgressStyl…"
      ]
     },
     "metadata": {},
     "output_type": "display_data"
    },
    {
     "data": {
      "application/vnd.jupyter.widget-view+json": {
       "model_id": "c3d67409e9c8469686bd8e3b0dd31724",
       "version_major": 2,
       "version_minor": 0
      },
      "text/plain": [
       "HBox(children=(IntProgress(value=1, bar_style='info', description='Dl Size...', max=1, style=ProgressStyle(des…"
      ]
     },
     "metadata": {},
     "output_type": "display_data"
    },
    {
     "data": {
      "application/vnd.jupyter.widget-view+json": {
       "model_id": "dd52114681a54344a68b132f29883c82",
       "version_major": 2,
       "version_minor": 0
      },
      "text/plain": [
       "HBox(children=(IntProgress(value=1, bar_style='info', description='Extraction completed...', max=1, style=Prog…"
      ]
     },
     "metadata": {},
     "output_type": "display_data"
    },
    {
     "name": "stderr",
     "output_type": "stream",
     "text": [
      "INFO:absl:URL https://firebasestorage.googleapis.com/v0/b/mtl-sentence-representations.appspot.com/o/data%2FSST-2.zip?alt=media&token=aabc5f6b-e466-44a2-b9b4-cf6337f84ac8 already downloaded: reusing D:/python/LEO_TM/BERT_chinese_LM_processing/Model/tfds\\downloads\\fire.goog.com_v0_b_mtl-sent-repr.apps.co1n4W-1VznBsyzc6Yd1ltscEn3DItk8CCKB9kBXwW3qo.zipalt=media&token=aabc5f6b-e466-44a2-b9b4-cf6337f84ac8.\n"
     ]
    },
    {
     "name": "stdout",
     "output_type": "stream",
     "text": [
      "\n",
      "\n",
      "\n"
     ]
    },
    {
     "ename": "ExtractError",
     "evalue": "Error while extracting D:/python/LEO_TM/BERT_chinese_LM_processing/Model/tfds\\downloads\\fire.goog.com_v0_b_mtl-sent-repr.apps.co1n4W-1VznBsyzc6Yd1ltscEn3DItk8CCKB9kBXwW3qo.zipalt=media&token=aabc5f6b-e466-44a2-b9b4-cf6337f84ac8 to D:/python/LEO_TM/BERT_chinese_LM_processing/Model/tfds\\downloads\\extracted\\ZIP.fire.goog.com_v0_b_mtl-sent-repr.apps.co1n4W-1VznBsyzc6Yd1ltscEn3DItk8CCKB9kBXwW3qo.zipalt=media&token=aabc5f6b-e466-44a2-b9b4-cf6337f84ac8 (file: SST-2) : Failed to create a directory: D:/python/LEO_TM/BERT_chinese_LM_processing/Model/tfds\\downloads\\extracted\\ZIP.fire.goog.com_v0_b_mtl-sent-repr.apps.co1n4W-1VznBsyzc6Yd1ltscEn3DItk8CCKB9kBXwW3qo.zipalt=media&token=aabc5f6b-e466-44a2-b9b4-cf6337f84ac8.incomplete_81863b0bc2fb4b50abbf0239c21aaf8f; No such file or directory",
     "output_type": "error",
     "traceback": [
      "\u001b[1;31m---------------------------------------------------------------------------\u001b[0m",
      "\u001b[1;31mNotFoundError\u001b[0m                             Traceback (most recent call last)",
      "\u001b[1;32mC:\\ProgramData\\Anaconda3\\lib\\site-packages\\tensorflow_datasets\\core\\download\\extractor.py\u001b[0m in \u001b[0;36m_sync_extract\u001b[1;34m(self, from_path, method, to_path)\u001b[0m\n\u001b[0;32m     91\u001b[0m         \u001b[0mpath\u001b[0m \u001b[1;33m=\u001b[0m \u001b[0mtf\u001b[0m\u001b[1;33m.\u001b[0m\u001b[0mcompat\u001b[0m\u001b[1;33m.\u001b[0m\u001b[0mas_text\u001b[0m\u001b[1;33m(\u001b[0m\u001b[0mpath\u001b[0m\u001b[1;33m)\u001b[0m\u001b[1;33m\u001b[0m\u001b[1;33m\u001b[0m\u001b[0m\n\u001b[1;32m---> 92\u001b[1;33m         \u001b[0m_copy\u001b[0m\u001b[1;33m(\u001b[0m\u001b[0mhandle\u001b[0m\u001b[1;33m,\u001b[0m \u001b[0mpath\u001b[0m \u001b[1;32mand\u001b[0m \u001b[0mos\u001b[0m\u001b[1;33m.\u001b[0m\u001b[0mpath\u001b[0m\u001b[1;33m.\u001b[0m\u001b[0mjoin\u001b[0m\u001b[1;33m(\u001b[0m\u001b[0mto_path_tmp\u001b[0m\u001b[1;33m,\u001b[0m \u001b[0mpath\u001b[0m\u001b[1;33m)\u001b[0m \u001b[1;32mor\u001b[0m \u001b[0mto_path_tmp\u001b[0m\u001b[1;33m)\u001b[0m\u001b[1;33m\u001b[0m\u001b[1;33m\u001b[0m\u001b[0m\n\u001b[0m\u001b[0;32m     93\u001b[0m     \u001b[1;32mexcept\u001b[0m \u001b[0mBaseException\u001b[0m \u001b[1;32mas\u001b[0m \u001b[0merr\u001b[0m\u001b[1;33m:\u001b[0m\u001b[1;33m\u001b[0m\u001b[1;33m\u001b[0m\u001b[0m\n",
      "\u001b[1;32mC:\\ProgramData\\Anaconda3\\lib\\site-packages\\tensorflow_datasets\\core\\download\\extractor.py\u001b[0m in \u001b[0;36m_copy\u001b[1;34m(src_file, dest_path)\u001b[0m\n\u001b[0;32m    107\u001b[0m   \u001b[1;34m\"\"\"Copy data read from src file obj to new file in dest_path.\"\"\"\u001b[0m\u001b[1;33m\u001b[0m\u001b[1;33m\u001b[0m\u001b[0m\n\u001b[1;32m--> 108\u001b[1;33m   \u001b[0mtf\u001b[0m\u001b[1;33m.\u001b[0m\u001b[0mio\u001b[0m\u001b[1;33m.\u001b[0m\u001b[0mgfile\u001b[0m\u001b[1;33m.\u001b[0m\u001b[0mmakedirs\u001b[0m\u001b[1;33m(\u001b[0m\u001b[0mos\u001b[0m\u001b[1;33m.\u001b[0m\u001b[0mpath\u001b[0m\u001b[1;33m.\u001b[0m\u001b[0mdirname\u001b[0m\u001b[1;33m(\u001b[0m\u001b[0mdest_path\u001b[0m\u001b[1;33m)\u001b[0m\u001b[1;33m)\u001b[0m\u001b[1;33m\u001b[0m\u001b[1;33m\u001b[0m\u001b[0m\n\u001b[0m\u001b[0;32m    109\u001b[0m   \u001b[1;32mwith\u001b[0m \u001b[0mtf\u001b[0m\u001b[1;33m.\u001b[0m\u001b[0mio\u001b[0m\u001b[1;33m.\u001b[0m\u001b[0mgfile\u001b[0m\u001b[1;33m.\u001b[0m\u001b[0mGFile\u001b[0m\u001b[1;33m(\u001b[0m\u001b[0mdest_path\u001b[0m\u001b[1;33m,\u001b[0m \u001b[1;34m'wb'\u001b[0m\u001b[1;33m)\u001b[0m \u001b[1;32mas\u001b[0m \u001b[0mdest_file\u001b[0m\u001b[1;33m:\u001b[0m\u001b[1;33m\u001b[0m\u001b[1;33m\u001b[0m\u001b[0m\n",
      "\u001b[1;32mC:\\ProgramData\\Anaconda3\\lib\\site-packages\\tensorflow_core\\python\\lib\\io\\file_io.py\u001b[0m in \u001b[0;36mrecursive_create_dir_v2\u001b[1;34m(path)\u001b[0m\n\u001b[0;32m    454\u001b[0m   \"\"\"\n\u001b[1;32m--> 455\u001b[1;33m   \u001b[0mpywrap_tensorflow\u001b[0m\u001b[1;33m.\u001b[0m\u001b[0mRecursivelyCreateDir\u001b[0m\u001b[1;33m(\u001b[0m\u001b[0mcompat\u001b[0m\u001b[1;33m.\u001b[0m\u001b[0mas_bytes\u001b[0m\u001b[1;33m(\u001b[0m\u001b[0mpath\u001b[0m\u001b[1;33m)\u001b[0m\u001b[1;33m)\u001b[0m\u001b[1;33m\u001b[0m\u001b[1;33m\u001b[0m\u001b[0m\n\u001b[0m\u001b[0;32m    456\u001b[0m \u001b[1;33m\u001b[0m\u001b[0m\n",
      "\u001b[1;31mNotFoundError\u001b[0m: Failed to create a directory: D:/python/LEO_TM/BERT_chinese_LM_processing/Model/tfds\\downloads\\extracted\\ZIP.fire.goog.com_v0_b_mtl-sent-repr.apps.co1n4W-1VznBsyzc6Yd1ltscEn3DItk8CCKB9kBXwW3qo.zipalt=media&token=aabc5f6b-e466-44a2-b9b4-cf6337f84ac8.incomplete_81863b0bc2fb4b50abbf0239c21aaf8f; No such file or directory",
      "\nDuring handling of the above exception, another exception occurred:\n",
      "\u001b[1;31mExtractError\u001b[0m                              Traceback (most recent call last)",
      "\u001b[1;32m<ipython-input-18-7f8cd07e2b83>\u001b[0m in \u001b[0;36m<module>\u001b[1;34m\u001b[0m\n\u001b[1;32m----> 1\u001b[1;33m \u001b[0mdata\u001b[0m\u001b[1;33m,\u001b[0m \u001b[0minfo\u001b[0m \u001b[1;33m=\u001b[0m \u001b[0mtensorflow_datasets\u001b[0m\u001b[1;33m.\u001b[0m\u001b[0mload\u001b[0m\u001b[1;33m(\u001b[0m\u001b[1;34mf'glue/{TFDS_TASK}'\u001b[0m\u001b[1;33m,\u001b[0m\u001b[0min_memory\u001b[0m\u001b[1;33m=\u001b[0m\u001b[1;32mTrue\u001b[0m\u001b[1;33m,\u001b[0m \u001b[0mdata_dir\u001b[0m\u001b[1;33m=\u001b[0m\u001b[1;34m'D:/python/LEO_TM/BERT_chinese_LM_processing/Model/tfds'\u001b[0m\u001b[1;33m,\u001b[0m\u001b[0mwith_info\u001b[0m\u001b[1;33m=\u001b[0m\u001b[1;32mTrue\u001b[0m\u001b[1;33m)\u001b[0m\u001b[1;33m\u001b[0m\u001b[1;33m\u001b[0m\u001b[0m\n\u001b[0m\u001b[0;32m      2\u001b[0m \u001b[0mtrain_dataset\u001b[0m \u001b[1;33m=\u001b[0m \u001b[0mglue_convert_examples_to_features\u001b[0m\u001b[1;33m(\u001b[0m\u001b[0mdata\u001b[0m\u001b[1;33m[\u001b[0m\u001b[1;34m'train'\u001b[0m\u001b[1;33m]\u001b[0m\u001b[1;33m,\u001b[0m \u001b[0mtokenizer\u001b[0m\u001b[1;33m,\u001b[0m \u001b[1;36m128\u001b[0m\u001b[1;33m,\u001b[0m \u001b[0mTASK\u001b[0m\u001b[1;33m)\u001b[0m\u001b[1;33m\u001b[0m\u001b[1;33m\u001b[0m\u001b[0m\n",
      "\u001b[1;32mC:\\ProgramData\\Anaconda3\\lib\\site-packages\\tensorflow_datasets\\core\\api_utils.py\u001b[0m in \u001b[0;36mdisallow_positional_args_dec\u001b[1;34m(fn, instance, args, kwargs)\u001b[0m\n\u001b[0;32m     50\u001b[0m     \u001b[0m_check_no_positional\u001b[0m\u001b[1;33m(\u001b[0m\u001b[0mfn\u001b[0m\u001b[1;33m,\u001b[0m \u001b[0margs\u001b[0m\u001b[1;33m,\u001b[0m \u001b[0mismethod\u001b[0m\u001b[1;33m,\u001b[0m \u001b[0mallowed\u001b[0m\u001b[1;33m=\u001b[0m\u001b[0mallowed\u001b[0m\u001b[1;33m)\u001b[0m\u001b[1;33m\u001b[0m\u001b[1;33m\u001b[0m\u001b[0m\n\u001b[0;32m     51\u001b[0m     \u001b[0m_check_required\u001b[0m\u001b[1;33m(\u001b[0m\u001b[0mfn\u001b[0m\u001b[1;33m,\u001b[0m \u001b[0mkwargs\u001b[0m\u001b[1;33m)\u001b[0m\u001b[1;33m\u001b[0m\u001b[1;33m\u001b[0m\u001b[0m\n\u001b[1;32m---> 52\u001b[1;33m     \u001b[1;32mreturn\u001b[0m \u001b[0mfn\u001b[0m\u001b[1;33m(\u001b[0m\u001b[1;33m*\u001b[0m\u001b[0margs\u001b[0m\u001b[1;33m,\u001b[0m \u001b[1;33m**\u001b[0m\u001b[0mkwargs\u001b[0m\u001b[1;33m)\u001b[0m\u001b[1;33m\u001b[0m\u001b[1;33m\u001b[0m\u001b[0m\n\u001b[0m\u001b[0;32m     53\u001b[0m \u001b[1;33m\u001b[0m\u001b[0m\n\u001b[0;32m     54\u001b[0m   \u001b[1;32mreturn\u001b[0m \u001b[0mdisallow_positional_args_dec\u001b[0m\u001b[1;33m(\u001b[0m\u001b[0mwrapped\u001b[0m\u001b[1;33m)\u001b[0m  \u001b[1;31m# pylint: disable=no-value-for-parameter\u001b[0m\u001b[1;33m\u001b[0m\u001b[1;33m\u001b[0m\u001b[0m\n",
      "\u001b[1;32mC:\\ProgramData\\Anaconda3\\lib\\site-packages\\tensorflow_datasets\\core\\registered.py\u001b[0m in \u001b[0;36mload\u001b[1;34m(name, split, data_dir, batch_size, in_memory, shuffle_files, download, as_supervised, decoders, read_config, with_info, builder_kwargs, download_and_prepare_kwargs, as_dataset_kwargs, try_gcs)\u001b[0m\n\u001b[0;32m    303\u001b[0m   \u001b[1;32mif\u001b[0m \u001b[0mdownload\u001b[0m\u001b[1;33m:\u001b[0m\u001b[1;33m\u001b[0m\u001b[1;33m\u001b[0m\u001b[0m\n\u001b[0;32m    304\u001b[0m     \u001b[0mdownload_and_prepare_kwargs\u001b[0m \u001b[1;33m=\u001b[0m \u001b[0mdownload_and_prepare_kwargs\u001b[0m \u001b[1;32mor\u001b[0m \u001b[1;33m{\u001b[0m\u001b[1;33m}\u001b[0m\u001b[1;33m\u001b[0m\u001b[1;33m\u001b[0m\u001b[0m\n\u001b[1;32m--> 305\u001b[1;33m     \u001b[0mdbuilder\u001b[0m\u001b[1;33m.\u001b[0m\u001b[0mdownload_and_prepare\u001b[0m\u001b[1;33m(\u001b[0m\u001b[1;33m**\u001b[0m\u001b[0mdownload_and_prepare_kwargs\u001b[0m\u001b[1;33m)\u001b[0m\u001b[1;33m\u001b[0m\u001b[1;33m\u001b[0m\u001b[0m\n\u001b[0m\u001b[0;32m    306\u001b[0m \u001b[1;33m\u001b[0m\u001b[0m\n\u001b[0;32m    307\u001b[0m   \u001b[1;32mif\u001b[0m \u001b[0mas_dataset_kwargs\u001b[0m \u001b[1;32mis\u001b[0m \u001b[1;32mNone\u001b[0m\u001b[1;33m:\u001b[0m\u001b[1;33m\u001b[0m\u001b[1;33m\u001b[0m\u001b[0m\n",
      "\u001b[1;32mC:\\ProgramData\\Anaconda3\\lib\\site-packages\\tensorflow_datasets\\core\\api_utils.py\u001b[0m in \u001b[0;36mdisallow_positional_args_dec\u001b[1;34m(fn, instance, args, kwargs)\u001b[0m\n\u001b[0;32m     50\u001b[0m     \u001b[0m_check_no_positional\u001b[0m\u001b[1;33m(\u001b[0m\u001b[0mfn\u001b[0m\u001b[1;33m,\u001b[0m \u001b[0margs\u001b[0m\u001b[1;33m,\u001b[0m \u001b[0mismethod\u001b[0m\u001b[1;33m,\u001b[0m \u001b[0mallowed\u001b[0m\u001b[1;33m=\u001b[0m\u001b[0mallowed\u001b[0m\u001b[1;33m)\u001b[0m\u001b[1;33m\u001b[0m\u001b[1;33m\u001b[0m\u001b[0m\n\u001b[0;32m     51\u001b[0m     \u001b[0m_check_required\u001b[0m\u001b[1;33m(\u001b[0m\u001b[0mfn\u001b[0m\u001b[1;33m,\u001b[0m \u001b[0mkwargs\u001b[0m\u001b[1;33m)\u001b[0m\u001b[1;33m\u001b[0m\u001b[1;33m\u001b[0m\u001b[0m\n\u001b[1;32m---> 52\u001b[1;33m     \u001b[1;32mreturn\u001b[0m \u001b[0mfn\u001b[0m\u001b[1;33m(\u001b[0m\u001b[1;33m*\u001b[0m\u001b[0margs\u001b[0m\u001b[1;33m,\u001b[0m \u001b[1;33m**\u001b[0m\u001b[0mkwargs\u001b[0m\u001b[1;33m)\u001b[0m\u001b[1;33m\u001b[0m\u001b[1;33m\u001b[0m\u001b[0m\n\u001b[0m\u001b[0;32m     53\u001b[0m \u001b[1;33m\u001b[0m\u001b[0m\n\u001b[0;32m     54\u001b[0m   \u001b[1;32mreturn\u001b[0m \u001b[0mdisallow_positional_args_dec\u001b[0m\u001b[1;33m(\u001b[0m\u001b[0mwrapped\u001b[0m\u001b[1;33m)\u001b[0m  \u001b[1;31m# pylint: disable=no-value-for-parameter\u001b[0m\u001b[1;33m\u001b[0m\u001b[1;33m\u001b[0m\u001b[0m\n",
      "\u001b[1;32mC:\\ProgramData\\Anaconda3\\lib\\site-packages\\tensorflow_datasets\\core\\dataset_builder.py\u001b[0m in \u001b[0;36mdownload_and_prepare\u001b[1;34m(self, download_dir, download_config)\u001b[0m\n\u001b[0;32m    332\u001b[0m           self._download_and_prepare(\n\u001b[0;32m    333\u001b[0m               \u001b[0mdl_manager\u001b[0m\u001b[1;33m=\u001b[0m\u001b[0mdl_manager\u001b[0m\u001b[1;33m,\u001b[0m\u001b[1;33m\u001b[0m\u001b[1;33m\u001b[0m\u001b[0m\n\u001b[1;32m--> 334\u001b[1;33m               download_config=download_config)\n\u001b[0m\u001b[0;32m    335\u001b[0m \u001b[1;33m\u001b[0m\u001b[0m\n\u001b[0;32m    336\u001b[0m           \u001b[1;31m# NOTE: If modifying the lines below to put additional information in\u001b[0m\u001b[1;33m\u001b[0m\u001b[1;33m\u001b[0m\u001b[1;33m\u001b[0m\u001b[0m\n",
      "\u001b[1;32mC:\\ProgramData\\Anaconda3\\lib\\site-packages\\tensorflow_datasets\\core\\dataset_builder.py\u001b[0m in \u001b[0;36m_download_and_prepare\u001b[1;34m(self, dl_manager, download_config)\u001b[0m\n\u001b[0;32m   1028\u001b[0m     super(GeneratorBasedBuilder, self)._download_and_prepare(\n\u001b[0;32m   1029\u001b[0m         \u001b[0mdl_manager\u001b[0m\u001b[1;33m=\u001b[0m\u001b[0mdl_manager\u001b[0m\u001b[1;33m,\u001b[0m\u001b[1;33m\u001b[0m\u001b[1;33m\u001b[0m\u001b[0m\n\u001b[1;32m-> 1030\u001b[1;33m         \u001b[0mmax_examples_per_split\u001b[0m\u001b[1;33m=\u001b[0m\u001b[0mdownload_config\u001b[0m\u001b[1;33m.\u001b[0m\u001b[0mmax_examples_per_split\u001b[0m\u001b[1;33m,\u001b[0m\u001b[1;33m\u001b[0m\u001b[1;33m\u001b[0m\u001b[0m\n\u001b[0m\u001b[0;32m   1031\u001b[0m     )\n\u001b[0;32m   1032\u001b[0m \u001b[1;33m\u001b[0m\u001b[0m\n",
      "\u001b[1;32mC:\\ProgramData\\Anaconda3\\lib\\site-packages\\tensorflow_datasets\\core\\dataset_builder.py\u001b[0m in \u001b[0;36m_download_and_prepare\u001b[1;34m(self, dl_manager, **prepare_split_kwargs)\u001b[0m\n\u001b[0;32m    869\u001b[0m         prepare_split_kwargs)\n\u001b[0;32m    870\u001b[0m     for split_generator in self._split_generators(\n\u001b[1;32m--> 871\u001b[1;33m         dl_manager, **split_generators_kwargs):\n\u001b[0m\u001b[0;32m    872\u001b[0m       \u001b[1;32mif\u001b[0m \u001b[0msplits_lib\u001b[0m\u001b[1;33m.\u001b[0m\u001b[0mSplit\u001b[0m\u001b[1;33m.\u001b[0m\u001b[0mALL\u001b[0m \u001b[1;33m==\u001b[0m \u001b[0msplit_generator\u001b[0m\u001b[1;33m.\u001b[0m\u001b[0msplit_info\u001b[0m\u001b[1;33m.\u001b[0m\u001b[0mname\u001b[0m\u001b[1;33m:\u001b[0m\u001b[1;33m\u001b[0m\u001b[1;33m\u001b[0m\u001b[0m\n\u001b[0;32m    873\u001b[0m         raise ValueError(\n",
      "\u001b[1;32mC:\\ProgramData\\Anaconda3\\lib\\site-packages\\tensorflow_datasets\\text\\glue.py\u001b[0m in \u001b[0;36m_split_generators\u001b[1;34m(self, dl_manager)\u001b[0m\n\u001b[0;32m    456\u001b[0m       })\n\u001b[0;32m    457\u001b[0m     \u001b[1;32melse\u001b[0m\u001b[1;33m:\u001b[0m\u001b[1;33m\u001b[0m\u001b[1;33m\u001b[0m\u001b[0m\n\u001b[1;32m--> 458\u001b[1;33m       \u001b[0mdl_dir\u001b[0m \u001b[1;33m=\u001b[0m \u001b[0mdl_manager\u001b[0m\u001b[1;33m.\u001b[0m\u001b[0mdownload_and_extract\u001b[0m\u001b[1;33m(\u001b[0m\u001b[0mself\u001b[0m\u001b[1;33m.\u001b[0m\u001b[0mbuilder_config\u001b[0m\u001b[1;33m.\u001b[0m\u001b[0mdata_url\u001b[0m\u001b[1;33m)\u001b[0m\u001b[1;33m\u001b[0m\u001b[1;33m\u001b[0m\u001b[0m\n\u001b[0m\u001b[0;32m    459\u001b[0m       \u001b[0mdata_dir\u001b[0m \u001b[1;33m=\u001b[0m \u001b[0mos\u001b[0m\u001b[1;33m.\u001b[0m\u001b[0mpath\u001b[0m\u001b[1;33m.\u001b[0m\u001b[0mjoin\u001b[0m\u001b[1;33m(\u001b[0m\u001b[0mdl_dir\u001b[0m\u001b[1;33m,\u001b[0m \u001b[0mself\u001b[0m\u001b[1;33m.\u001b[0m\u001b[0mbuilder_config\u001b[0m\u001b[1;33m.\u001b[0m\u001b[0mdata_dir\u001b[0m\u001b[1;33m)\u001b[0m\u001b[1;33m\u001b[0m\u001b[1;33m\u001b[0m\u001b[0m\n\u001b[0;32m    460\u001b[0m       \u001b[0mmrpc_files\u001b[0m \u001b[1;33m=\u001b[0m \u001b[1;32mNone\u001b[0m\u001b[1;33m\u001b[0m\u001b[1;33m\u001b[0m\u001b[0m\n",
      "\u001b[1;32mC:\\ProgramData\\Anaconda3\\lib\\site-packages\\tensorflow_datasets\\core\\download\\download_manager.py\u001b[0m in \u001b[0;36mdownload_and_extract\u001b[1;34m(self, url_or_urls)\u001b[0m\n\u001b[0;32m    372\u001b[0m     \u001b[1;32mwith\u001b[0m \u001b[0mself\u001b[0m\u001b[1;33m.\u001b[0m\u001b[0m_downloader\u001b[0m\u001b[1;33m.\u001b[0m\u001b[0mtqdm\u001b[0m\u001b[1;33m(\u001b[0m\u001b[1;33m)\u001b[0m\u001b[1;33m:\u001b[0m\u001b[1;33m\u001b[0m\u001b[1;33m\u001b[0m\u001b[0m\n\u001b[0;32m    373\u001b[0m       \u001b[1;32mwith\u001b[0m \u001b[0mself\u001b[0m\u001b[1;33m.\u001b[0m\u001b[0m_extractor\u001b[0m\u001b[1;33m.\u001b[0m\u001b[0mtqdm\u001b[0m\u001b[1;33m(\u001b[0m\u001b[1;33m)\u001b[0m\u001b[1;33m:\u001b[0m\u001b[1;33m\u001b[0m\u001b[1;33m\u001b[0m\u001b[0m\n\u001b[1;32m--> 374\u001b[1;33m         \u001b[1;32mreturn\u001b[0m \u001b[0m_map_promise\u001b[0m\u001b[1;33m(\u001b[0m\u001b[0mself\u001b[0m\u001b[1;33m.\u001b[0m\u001b[0m_download_extract\u001b[0m\u001b[1;33m,\u001b[0m \u001b[0murl_or_urls\u001b[0m\u001b[1;33m)\u001b[0m\u001b[1;33m\u001b[0m\u001b[1;33m\u001b[0m\u001b[0m\n\u001b[0m\u001b[0;32m    375\u001b[0m \u001b[1;33m\u001b[0m\u001b[0m\n\u001b[0;32m    376\u001b[0m   \u001b[1;33m@\u001b[0m\u001b[0mproperty\u001b[0m\u001b[1;33m\u001b[0m\u001b[1;33m\u001b[0m\u001b[0m\n",
      "\u001b[1;32mC:\\ProgramData\\Anaconda3\\lib\\site-packages\\tensorflow_datasets\\core\\download\\download_manager.py\u001b[0m in \u001b[0;36m_map_promise\u001b[1;34m(map_fn, all_inputs)\u001b[0m\n\u001b[0;32m    413\u001b[0m   \u001b[1;34m\"\"\"Map the function into each element and resolve the promise.\"\"\"\u001b[0m\u001b[1;33m\u001b[0m\u001b[1;33m\u001b[0m\u001b[0m\n\u001b[0;32m    414\u001b[0m   \u001b[0mall_promises\u001b[0m \u001b[1;33m=\u001b[0m \u001b[0mutils\u001b[0m\u001b[1;33m.\u001b[0m\u001b[0mmap_nested\u001b[0m\u001b[1;33m(\u001b[0m\u001b[0mmap_fn\u001b[0m\u001b[1;33m,\u001b[0m \u001b[0mall_inputs\u001b[0m\u001b[1;33m)\u001b[0m  \u001b[1;31m# Apply the function\u001b[0m\u001b[1;33m\u001b[0m\u001b[1;33m\u001b[0m\u001b[0m\n\u001b[1;32m--> 415\u001b[1;33m   \u001b[0mres\u001b[0m \u001b[1;33m=\u001b[0m \u001b[0mutils\u001b[0m\u001b[1;33m.\u001b[0m\u001b[0mmap_nested\u001b[0m\u001b[1;33m(\u001b[0m\u001b[0m_wait_on_promise\u001b[0m\u001b[1;33m,\u001b[0m \u001b[0mall_promises\u001b[0m\u001b[1;33m)\u001b[0m\u001b[1;33m\u001b[0m\u001b[1;33m\u001b[0m\u001b[0m\n\u001b[0m\u001b[0;32m    416\u001b[0m   \u001b[1;32mreturn\u001b[0m \u001b[0mres\u001b[0m\u001b[1;33m\u001b[0m\u001b[1;33m\u001b[0m\u001b[0m\n",
      "\u001b[1;32mC:\\ProgramData\\Anaconda3\\lib\\site-packages\\tensorflow_datasets\\core\\utils\\py_utils.py\u001b[0m in \u001b[0;36mmap_nested\u001b[1;34m(function, data_struct, dict_only, map_tuple)\u001b[0m\n\u001b[0;32m    157\u001b[0m         \u001b[1;32mreturn\u001b[0m \u001b[0mtuple\u001b[0m\u001b[1;33m(\u001b[0m\u001b[0mmapped\u001b[0m\u001b[1;33m)\u001b[0m\u001b[1;33m\u001b[0m\u001b[1;33m\u001b[0m\u001b[0m\n\u001b[0;32m    158\u001b[0m   \u001b[1;31m# Singleton\u001b[0m\u001b[1;33m\u001b[0m\u001b[1;33m\u001b[0m\u001b[1;33m\u001b[0m\u001b[0m\n\u001b[1;32m--> 159\u001b[1;33m   \u001b[1;32mreturn\u001b[0m \u001b[0mfunction\u001b[0m\u001b[1;33m(\u001b[0m\u001b[0mdata_struct\u001b[0m\u001b[1;33m)\u001b[0m\u001b[1;33m\u001b[0m\u001b[1;33m\u001b[0m\u001b[0m\n\u001b[0m\u001b[0;32m    160\u001b[0m \u001b[1;33m\u001b[0m\u001b[0m\n\u001b[0;32m    161\u001b[0m \u001b[1;33m\u001b[0m\u001b[0m\n",
      "\u001b[1;32mC:\\ProgramData\\Anaconda3\\lib\\site-packages\\tensorflow_datasets\\core\\download\\download_manager.py\u001b[0m in \u001b[0;36m_wait_on_promise\u001b[1;34m(p)\u001b[0m\n\u001b[0;32m    397\u001b[0m \u001b[1;33m\u001b[0m\u001b[0m\n\u001b[0;32m    398\u001b[0m   \u001b[1;32mdef\u001b[0m \u001b[0m_wait_on_promise\u001b[0m\u001b[1;33m(\u001b[0m\u001b[0mp\u001b[0m\u001b[1;33m)\u001b[0m\u001b[1;33m:\u001b[0m\u001b[1;33m\u001b[0m\u001b[1;33m\u001b[0m\u001b[0m\n\u001b[1;32m--> 399\u001b[1;33m     \u001b[1;32mreturn\u001b[0m \u001b[0mp\u001b[0m\u001b[1;33m.\u001b[0m\u001b[0mget\u001b[0m\u001b[1;33m(\u001b[0m\u001b[1;33m)\u001b[0m\u001b[1;33m\u001b[0m\u001b[1;33m\u001b[0m\u001b[0m\n\u001b[0m\u001b[0;32m    400\u001b[0m \u001b[1;33m\u001b[0m\u001b[0m\n\u001b[0;32m    401\u001b[0m \u001b[1;32melse\u001b[0m\u001b[1;33m:\u001b[0m\u001b[1;33m\u001b[0m\u001b[1;33m\u001b[0m\u001b[0m\n",
      "\u001b[1;32mC:\\ProgramData\\Anaconda3\\lib\\site-packages\\promise\\promise.py\u001b[0m in \u001b[0;36mget\u001b[1;34m(self, timeout)\u001b[0m\n\u001b[0;32m    510\u001b[0m         \u001b[0mtarget\u001b[0m \u001b[1;33m=\u001b[0m \u001b[0mself\u001b[0m\u001b[1;33m.\u001b[0m\u001b[0m_target\u001b[0m\u001b[1;33m(\u001b[0m\u001b[1;33m)\u001b[0m\u001b[1;33m\u001b[0m\u001b[1;33m\u001b[0m\u001b[0m\n\u001b[0;32m    511\u001b[0m         \u001b[0mself\u001b[0m\u001b[1;33m.\u001b[0m\u001b[0m_wait\u001b[0m\u001b[1;33m(\u001b[0m\u001b[0mtimeout\u001b[0m \u001b[1;32mor\u001b[0m \u001b[0mDEFAULT_TIMEOUT\u001b[0m\u001b[1;33m)\u001b[0m\u001b[1;33m\u001b[0m\u001b[1;33m\u001b[0m\u001b[0m\n\u001b[1;32m--> 512\u001b[1;33m         \u001b[1;32mreturn\u001b[0m \u001b[0mself\u001b[0m\u001b[1;33m.\u001b[0m\u001b[0m_target_settled_value\u001b[0m\u001b[1;33m(\u001b[0m\u001b[0m_raise\u001b[0m\u001b[1;33m=\u001b[0m\u001b[1;32mTrue\u001b[0m\u001b[1;33m)\u001b[0m\u001b[1;33m\u001b[0m\u001b[1;33m\u001b[0m\u001b[0m\n\u001b[0m\u001b[0;32m    513\u001b[0m \u001b[1;33m\u001b[0m\u001b[0m\n\u001b[0;32m    514\u001b[0m     \u001b[1;32mdef\u001b[0m \u001b[0m_target_settled_value\u001b[0m\u001b[1;33m(\u001b[0m\u001b[0mself\u001b[0m\u001b[1;33m,\u001b[0m \u001b[0m_raise\u001b[0m\u001b[1;33m=\u001b[0m\u001b[1;32mFalse\u001b[0m\u001b[1;33m)\u001b[0m\u001b[1;33m:\u001b[0m\u001b[1;33m\u001b[0m\u001b[1;33m\u001b[0m\u001b[0m\n",
      "\u001b[1;32mC:\\ProgramData\\Anaconda3\\lib\\site-packages\\promise\\promise.py\u001b[0m in \u001b[0;36m_target_settled_value\u001b[1;34m(self, _raise)\u001b[0m\n\u001b[0;32m    514\u001b[0m     \u001b[1;32mdef\u001b[0m \u001b[0m_target_settled_value\u001b[0m\u001b[1;33m(\u001b[0m\u001b[0mself\u001b[0m\u001b[1;33m,\u001b[0m \u001b[0m_raise\u001b[0m\u001b[1;33m=\u001b[0m\u001b[1;32mFalse\u001b[0m\u001b[1;33m)\u001b[0m\u001b[1;33m:\u001b[0m\u001b[1;33m\u001b[0m\u001b[1;33m\u001b[0m\u001b[0m\n\u001b[0;32m    515\u001b[0m         \u001b[1;31m# type: (bool) -> Any\u001b[0m\u001b[1;33m\u001b[0m\u001b[1;33m\u001b[0m\u001b[1;33m\u001b[0m\u001b[0m\n\u001b[1;32m--> 516\u001b[1;33m         \u001b[1;32mreturn\u001b[0m \u001b[0mself\u001b[0m\u001b[1;33m.\u001b[0m\u001b[0m_target\u001b[0m\u001b[1;33m(\u001b[0m\u001b[1;33m)\u001b[0m\u001b[1;33m.\u001b[0m\u001b[0m_settled_value\u001b[0m\u001b[1;33m(\u001b[0m\u001b[0m_raise\u001b[0m\u001b[1;33m)\u001b[0m\u001b[1;33m\u001b[0m\u001b[1;33m\u001b[0m\u001b[0m\n\u001b[0m\u001b[0;32m    517\u001b[0m \u001b[1;33m\u001b[0m\u001b[0m\n\u001b[0;32m    518\u001b[0m     \u001b[0m_value\u001b[0m \u001b[1;33m=\u001b[0m \u001b[0m_reason\u001b[0m \u001b[1;33m=\u001b[0m \u001b[0m_target_settled_value\u001b[0m\u001b[1;33m\u001b[0m\u001b[1;33m\u001b[0m\u001b[0m\n",
      "\u001b[1;32mC:\\ProgramData\\Anaconda3\\lib\\site-packages\\promise\\promise.py\u001b[0m in \u001b[0;36m_settled_value\u001b[1;34m(self, _raise)\u001b[0m\n\u001b[0;32m    224\u001b[0m             \u001b[1;32mif\u001b[0m \u001b[0m_raise\u001b[0m\u001b[1;33m:\u001b[0m\u001b[1;33m\u001b[0m\u001b[1;33m\u001b[0m\u001b[0m\n\u001b[0;32m    225\u001b[0m                 \u001b[0mraise_val\u001b[0m \u001b[1;33m=\u001b[0m \u001b[0mself\u001b[0m\u001b[1;33m.\u001b[0m\u001b[0m_fulfillment_handler0\u001b[0m\u001b[1;33m\u001b[0m\u001b[1;33m\u001b[0m\u001b[0m\n\u001b[1;32m--> 226\u001b[1;33m                 \u001b[0mreraise\u001b[0m\u001b[1;33m(\u001b[0m\u001b[0mtype\u001b[0m\u001b[1;33m(\u001b[0m\u001b[0mraise_val\u001b[0m\u001b[1;33m)\u001b[0m\u001b[1;33m,\u001b[0m \u001b[0mraise_val\u001b[0m\u001b[1;33m,\u001b[0m \u001b[0mself\u001b[0m\u001b[1;33m.\u001b[0m\u001b[0m_traceback\u001b[0m\u001b[1;33m)\u001b[0m\u001b[1;33m\u001b[0m\u001b[1;33m\u001b[0m\u001b[0m\n\u001b[0m\u001b[0;32m    227\u001b[0m             \u001b[1;32mreturn\u001b[0m \u001b[0mself\u001b[0m\u001b[1;33m.\u001b[0m\u001b[0m_fulfillment_handler0\u001b[0m\u001b[1;33m\u001b[0m\u001b[1;33m\u001b[0m\u001b[0m\n\u001b[0;32m    228\u001b[0m \u001b[1;33m\u001b[0m\u001b[0m\n",
      "\u001b[1;32mC:\\ProgramData\\Anaconda3\\lib\\site-packages\\six.py\u001b[0m in \u001b[0;36mreraise\u001b[1;34m(tp, value, tb)\u001b[0m\n\u001b[0;32m    691\u001b[0m             \u001b[1;32mif\u001b[0m \u001b[0mvalue\u001b[0m\u001b[1;33m.\u001b[0m\u001b[0m__traceback__\u001b[0m \u001b[1;32mis\u001b[0m \u001b[1;32mnot\u001b[0m \u001b[0mtb\u001b[0m\u001b[1;33m:\u001b[0m\u001b[1;33m\u001b[0m\u001b[1;33m\u001b[0m\u001b[0m\n\u001b[0;32m    692\u001b[0m                 \u001b[1;32mraise\u001b[0m \u001b[0mvalue\u001b[0m\u001b[1;33m.\u001b[0m\u001b[0mwith_traceback\u001b[0m\u001b[1;33m(\u001b[0m\u001b[0mtb\u001b[0m\u001b[1;33m)\u001b[0m\u001b[1;33m\u001b[0m\u001b[1;33m\u001b[0m\u001b[0m\n\u001b[1;32m--> 693\u001b[1;33m             \u001b[1;32mraise\u001b[0m \u001b[0mvalue\u001b[0m\u001b[1;33m\u001b[0m\u001b[1;33m\u001b[0m\u001b[0m\n\u001b[0m\u001b[0;32m    694\u001b[0m         \u001b[1;32mfinally\u001b[0m\u001b[1;33m:\u001b[0m\u001b[1;33m\u001b[0m\u001b[1;33m\u001b[0m\u001b[0m\n\u001b[0;32m    695\u001b[0m             \u001b[0mvalue\u001b[0m \u001b[1;33m=\u001b[0m \u001b[1;32mNone\u001b[0m\u001b[1;33m\u001b[0m\u001b[1;33m\u001b[0m\u001b[0m\n",
      "\u001b[1;32mC:\\ProgramData\\Anaconda3\\lib\\site-packages\\promise\\promise.py\u001b[0m in \u001b[0;36mhandle_future_result\u001b[1;34m(future)\u001b[0m\n\u001b[0;32m    842\u001b[0m         \u001b[1;31m# type: (Any) -> None\u001b[0m\u001b[1;33m\u001b[0m\u001b[1;33m\u001b[0m\u001b[1;33m\u001b[0m\u001b[0m\n\u001b[0;32m    843\u001b[0m         \u001b[1;32mtry\u001b[0m\u001b[1;33m:\u001b[0m\u001b[1;33m\u001b[0m\u001b[1;33m\u001b[0m\u001b[0m\n\u001b[1;32m--> 844\u001b[1;33m             \u001b[0mresolve\u001b[0m\u001b[1;33m(\u001b[0m\u001b[0mfuture\u001b[0m\u001b[1;33m.\u001b[0m\u001b[0mresult\u001b[0m\u001b[1;33m(\u001b[0m\u001b[1;33m)\u001b[0m\u001b[1;33m)\u001b[0m\u001b[1;33m\u001b[0m\u001b[1;33m\u001b[0m\u001b[0m\n\u001b[0m\u001b[0;32m    845\u001b[0m         \u001b[1;32mexcept\u001b[0m \u001b[0mException\u001b[0m \u001b[1;32mas\u001b[0m \u001b[0me\u001b[0m\u001b[1;33m:\u001b[0m\u001b[1;33m\u001b[0m\u001b[1;33m\u001b[0m\u001b[0m\n\u001b[0;32m    846\u001b[0m             \u001b[0mtb\u001b[0m \u001b[1;33m=\u001b[0m \u001b[0mexc_info\u001b[0m\u001b[1;33m(\u001b[0m\u001b[1;33m)\u001b[0m\u001b[1;33m[\u001b[0m\u001b[1;36m2\u001b[0m\u001b[1;33m]\u001b[0m\u001b[1;33m\u001b[0m\u001b[1;33m\u001b[0m\u001b[0m\n",
      "\u001b[1;32mC:\\ProgramData\\Anaconda3\\lib\\concurrent\\futures\\_base.py\u001b[0m in \u001b[0;36mresult\u001b[1;34m(self, timeout)\u001b[0m\n\u001b[0;32m    426\u001b[0m                 \u001b[1;32mraise\u001b[0m \u001b[0mCancelledError\u001b[0m\u001b[1;33m(\u001b[0m\u001b[1;33m)\u001b[0m\u001b[1;33m\u001b[0m\u001b[1;33m\u001b[0m\u001b[0m\n\u001b[0;32m    427\u001b[0m             \u001b[1;32melif\u001b[0m \u001b[0mself\u001b[0m\u001b[1;33m.\u001b[0m\u001b[0m_state\u001b[0m \u001b[1;33m==\u001b[0m \u001b[0mFINISHED\u001b[0m\u001b[1;33m:\u001b[0m\u001b[1;33m\u001b[0m\u001b[1;33m\u001b[0m\u001b[0m\n\u001b[1;32m--> 428\u001b[1;33m                 \u001b[1;32mreturn\u001b[0m \u001b[0mself\u001b[0m\u001b[1;33m.\u001b[0m\u001b[0m__get_result\u001b[0m\u001b[1;33m(\u001b[0m\u001b[1;33m)\u001b[0m\u001b[1;33m\u001b[0m\u001b[1;33m\u001b[0m\u001b[0m\n\u001b[0m\u001b[0;32m    429\u001b[0m \u001b[1;33m\u001b[0m\u001b[0m\n\u001b[0;32m    430\u001b[0m             \u001b[0mself\u001b[0m\u001b[1;33m.\u001b[0m\u001b[0m_condition\u001b[0m\u001b[1;33m.\u001b[0m\u001b[0mwait\u001b[0m\u001b[1;33m(\u001b[0m\u001b[0mtimeout\u001b[0m\u001b[1;33m)\u001b[0m\u001b[1;33m\u001b[0m\u001b[1;33m\u001b[0m\u001b[0m\n",
      "\u001b[1;32mC:\\ProgramData\\Anaconda3\\lib\\concurrent\\futures\\_base.py\u001b[0m in \u001b[0;36m__get_result\u001b[1;34m(self)\u001b[0m\n\u001b[0;32m    382\u001b[0m     \u001b[1;32mdef\u001b[0m \u001b[0m__get_result\u001b[0m\u001b[1;33m(\u001b[0m\u001b[0mself\u001b[0m\u001b[1;33m)\u001b[0m\u001b[1;33m:\u001b[0m\u001b[1;33m\u001b[0m\u001b[1;33m\u001b[0m\u001b[0m\n\u001b[0;32m    383\u001b[0m         \u001b[1;32mif\u001b[0m \u001b[0mself\u001b[0m\u001b[1;33m.\u001b[0m\u001b[0m_exception\u001b[0m\u001b[1;33m:\u001b[0m\u001b[1;33m\u001b[0m\u001b[1;33m\u001b[0m\u001b[0m\n\u001b[1;32m--> 384\u001b[1;33m             \u001b[1;32mraise\u001b[0m \u001b[0mself\u001b[0m\u001b[1;33m.\u001b[0m\u001b[0m_exception\u001b[0m\u001b[1;33m\u001b[0m\u001b[1;33m\u001b[0m\u001b[0m\n\u001b[0m\u001b[0;32m    385\u001b[0m         \u001b[1;32melse\u001b[0m\u001b[1;33m:\u001b[0m\u001b[1;33m\u001b[0m\u001b[1;33m\u001b[0m\u001b[0m\n\u001b[0;32m    386\u001b[0m             \u001b[1;32mreturn\u001b[0m \u001b[0mself\u001b[0m\u001b[1;33m.\u001b[0m\u001b[0m_result\u001b[0m\u001b[1;33m\u001b[0m\u001b[1;33m\u001b[0m\u001b[0m\n",
      "\u001b[1;32mC:\\ProgramData\\Anaconda3\\lib\\concurrent\\futures\\thread.py\u001b[0m in \u001b[0;36mrun\u001b[1;34m(self)\u001b[0m\n\u001b[0;32m     55\u001b[0m \u001b[1;33m\u001b[0m\u001b[0m\n\u001b[0;32m     56\u001b[0m         \u001b[1;32mtry\u001b[0m\u001b[1;33m:\u001b[0m\u001b[1;33m\u001b[0m\u001b[1;33m\u001b[0m\u001b[0m\n\u001b[1;32m---> 57\u001b[1;33m             \u001b[0mresult\u001b[0m \u001b[1;33m=\u001b[0m \u001b[0mself\u001b[0m\u001b[1;33m.\u001b[0m\u001b[0mfn\u001b[0m\u001b[1;33m(\u001b[0m\u001b[1;33m*\u001b[0m\u001b[0mself\u001b[0m\u001b[1;33m.\u001b[0m\u001b[0margs\u001b[0m\u001b[1;33m,\u001b[0m \u001b[1;33m**\u001b[0m\u001b[0mself\u001b[0m\u001b[1;33m.\u001b[0m\u001b[0mkwargs\u001b[0m\u001b[1;33m)\u001b[0m\u001b[1;33m\u001b[0m\u001b[1;33m\u001b[0m\u001b[0m\n\u001b[0m\u001b[0;32m     58\u001b[0m         \u001b[1;32mexcept\u001b[0m \u001b[0mBaseException\u001b[0m \u001b[1;32mas\u001b[0m \u001b[0mexc\u001b[0m\u001b[1;33m:\u001b[0m\u001b[1;33m\u001b[0m\u001b[1;33m\u001b[0m\u001b[0m\n\u001b[0;32m     59\u001b[0m             \u001b[0mself\u001b[0m\u001b[1;33m.\u001b[0m\u001b[0mfuture\u001b[0m\u001b[1;33m.\u001b[0m\u001b[0mset_exception\u001b[0m\u001b[1;33m(\u001b[0m\u001b[0mexc\u001b[0m\u001b[1;33m)\u001b[0m\u001b[1;33m\u001b[0m\u001b[1;33m\u001b[0m\u001b[0m\n",
      "\u001b[1;32mC:\\ProgramData\\Anaconda3\\lib\\site-packages\\tensorflow_datasets\\core\\download\\extractor.py\u001b[0m in \u001b[0;36m_sync_extract\u001b[1;34m(self, from_path, method, to_path)\u001b[0m\n\u001b[0;32m     94\u001b[0m       msg = 'Error while extracting %s to %s (file: %s) : %s' % (\n\u001b[0;32m     95\u001b[0m           from_path, to_path, path, err)\n\u001b[1;32m---> 96\u001b[1;33m       \u001b[1;32mraise\u001b[0m \u001b[0mExtractError\u001b[0m\u001b[1;33m(\u001b[0m\u001b[0mmsg\u001b[0m\u001b[1;33m)\u001b[0m\u001b[1;33m\u001b[0m\u001b[1;33m\u001b[0m\u001b[0m\n\u001b[0m\u001b[0;32m     97\u001b[0m     \u001b[1;31m# `tf.io.gfile.Rename(overwrite=True)` doesn't work for non empty\u001b[0m\u001b[1;33m\u001b[0m\u001b[1;33m\u001b[0m\u001b[1;33m\u001b[0m\u001b[0m\n\u001b[0;32m     98\u001b[0m     \u001b[1;31m# directories, so delete destination first, if it already exists.\u001b[0m\u001b[1;33m\u001b[0m\u001b[1;33m\u001b[0m\u001b[1;33m\u001b[0m\u001b[0m\n",
      "\u001b[1;31mExtractError\u001b[0m: Error while extracting D:/python/LEO_TM/BERT_chinese_LM_processing/Model/tfds\\downloads\\fire.goog.com_v0_b_mtl-sent-repr.apps.co1n4W-1VznBsyzc6Yd1ltscEn3DItk8CCKB9kBXwW3qo.zipalt=media&token=aabc5f6b-e466-44a2-b9b4-cf6337f84ac8 to D:/python/LEO_TM/BERT_chinese_LM_processing/Model/tfds\\downloads\\extracted\\ZIP.fire.goog.com_v0_b_mtl-sent-repr.apps.co1n4W-1VznBsyzc6Yd1ltscEn3DItk8CCKB9kBXwW3qo.zipalt=media&token=aabc5f6b-e466-44a2-b9b4-cf6337f84ac8 (file: SST-2) : Failed to create a directory: D:/python/LEO_TM/BERT_chinese_LM_processing/Model/tfds\\downloads\\extracted\\ZIP.fire.goog.com_v0_b_mtl-sent-repr.apps.co1n4W-1VznBsyzc6Yd1ltscEn3DItk8CCKB9kBXwW3qo.zipalt=media&token=aabc5f6b-e466-44a2-b9b4-cf6337f84ac8.incomplete_81863b0bc2fb4b50abbf0239c21aaf8f; No such file or directory"
     ]
    }
   ],
   "source": [
    "data, info = tensorflow_datasets.load(f'glue/{TFDS_TASK}',in_memory=True, data_dir='D:/python/LEO_TM/BERT_chinese_LM_processing/Model/tfds',with_info=True)\n",
    "train_dataset = glue_convert_examples_to_features(data['train'], tokenizer, 128, TASK)\n"
   ]
  },
  {
   "cell_type": "code",
   "execution_count": 11,
   "metadata": {},
   "outputs": [
    {
     "ename": "NameError",
     "evalue": "name 'data' is not defined",
     "output_type": "error",
     "traceback": [
      "\u001b[1;31m---------------------------------------------------------------------------\u001b[0m",
      "\u001b[1;31mNameError\u001b[0m                                 Traceback (most recent call last)",
      "\u001b[1;32m<ipython-input-11-c5d84736ba45>\u001b[0m in \u001b[0;36m<module>\u001b[1;34m\u001b[0m\n\u001b[1;32m----> 1\u001b[1;33m \u001b[0mdata\u001b[0m\u001b[1;33m\u001b[0m\u001b[1;33m\u001b[0m\u001b[0m\n\u001b[0m",
      "\u001b[1;31mNameError\u001b[0m: name 'data' is not defined"
     ]
    }
   ],
   "source": []
  }
 ],
 "metadata": {
  "kernelspec": {
   "display_name": "Python 3",
   "language": "python",
   "name": "python3"
  }
 },
 "nbformat": 4,
 "nbformat_minor": 2
}
