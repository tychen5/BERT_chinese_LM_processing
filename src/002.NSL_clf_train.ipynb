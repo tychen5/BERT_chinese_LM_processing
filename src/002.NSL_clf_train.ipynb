{
 "cells": [
  {
   "cell_type": "code",
   "execution_count": 1,
   "metadata": {
    "scrolled": true
   },
   "outputs": [
    {
     "name": "stdout",
     "output_type": "stream",
     "text": [
      "Looking in links: https://download.pytorch.org/whl/torch_stable.html\n",
      "Requirement already up-to-date: transformers in c:\\users\\szwang\\appdata\\roaming\\python\\python37\\site-packages (2.5.0)\n",
      "Collecting tensorflow==2.0\n",
      "  Using cached https://files.pythonhosted.org/packages/54/5f/e1b2d83b808f978f51b7ce109315154da3a3d4151aa59686002681f2e109/tensorflow-2.0.0-cp37-cp37m-win_amd64.whl\n",
      "Requirement already up-to-date: torch==1.4.0+cpu in c:\\users\\szwang\\appdata\\roaming\\python\\python37\\site-packages (1.4.0+cpu)\n",
      "Requirement already up-to-date: torchvision==0.5.0+cpu in c:\\users\\szwang\\appdata\\roaming\\python\\python37\\site-packages (0.5.0+cpu)\n",
      "Requirement already satisfied, skipping upgrade: filelock in c:\\programdata\\anaconda3\\lib\\site-packages (from transformers) (3.0.12)\n",
      "Requirement already satisfied, skipping upgrade: regex!=2019.12.17 in c:\\programdata\\anaconda3\\lib\\site-packages (from transformers) (2020.1.8)\n",
      "Requirement already satisfied, skipping upgrade: sentencepiece in c:\\programdata\\anaconda3\\lib\\site-packages (from transformers) (0.1.85)\n",
      "Requirement already satisfied, skipping upgrade: sacremoses in c:\\programdata\\anaconda3\\lib\\site-packages (from transformers) (0.0.38)\n",
      "Requirement already satisfied, skipping upgrade: tqdm>=4.27 in c:\\programdata\\anaconda3\\lib\\site-packages (from transformers) (4.36.1)\n",
      "Requirement already satisfied, skipping upgrade: tokenizers==0.5.0 in c:\\users\\szwang\\appdata\\roaming\\python\\python37\\site-packages (from transformers) (0.5.0)\n",
      "Requirement already satisfied, skipping upgrade: boto3 in c:\\programdata\\anaconda3\\lib\\site-packages (from transformers) (1.10.15)\n",
      "Requirement already satisfied, skipping upgrade: requests in c:\\programdata\\anaconda3\\lib\\site-packages (from transformers) (2.22.0)\n",
      "Requirement already satisfied, skipping upgrade: numpy in c:\\programdata\\anaconda3\\lib\\site-packages (from transformers) (1.16.5)\n",
      "Requirement already satisfied, skipping upgrade: six>=1.10.0 in c:\\programdata\\anaconda3\\lib\\site-packages (from tensorflow==2.0) (1.12.0)\n",
      "Requirement already satisfied, skipping upgrade: protobuf>=3.6.1 in c:\\programdata\\anaconda3\\lib\\site-packages (from tensorflow==2.0) (3.10.0)\n",
      "Requirement already satisfied, skipping upgrade: gast==0.2.2 in c:\\programdata\\anaconda3\\lib\\site-packages (from tensorflow==2.0) (0.2.2)\n",
      "Collecting tensorboard<2.1.0,>=2.0.0 (from tensorflow==2.0)\n",
      "  Using cached https://files.pythonhosted.org/packages/76/54/99b9d5d52d5cb732f099baaaf7740403e83fe6b0cedde940fabd2b13d75a/tensorboard-2.0.2-py3-none-any.whl\n",
      "Requirement already satisfied, skipping upgrade: astor>=0.6.0 in c:\\programdata\\anaconda3\\lib\\site-packages (from tensorflow==2.0) (0.8.0)\n",
      "Collecting tensorflow-estimator<2.1.0,>=2.0.0 (from tensorflow==2.0)\n",
      "  Using cached https://files.pythonhosted.org/packages/fc/08/8b927337b7019c374719145d1dceba21a8bb909b93b1ad6f8fb7d22c1ca1/tensorflow_estimator-2.0.1-py2.py3-none-any.whl\n",
      "Requirement already satisfied, skipping upgrade: wheel>=0.26 in c:\\programdata\\anaconda3\\lib\\site-packages (from tensorflow==2.0) (0.33.6)\n",
      "Requirement already satisfied, skipping upgrade: grpcio>=1.8.6 in c:\\programdata\\anaconda3\\lib\\site-packages (from tensorflow==2.0) (1.24.3)\n",
      "Requirement already satisfied, skipping upgrade: keras-preprocessing>=1.0.5 in c:\\programdata\\anaconda3\\lib\\site-packages (from tensorflow==2.0) (1.1.0)\n",
      "Requirement already satisfied, skipping upgrade: wrapt>=1.11.1 in c:\\programdata\\anaconda3\\lib\\site-packages (from tensorflow==2.0) (1.11.2)\n",
      "Requirement already satisfied, skipping upgrade: termcolor>=1.1.0 in c:\\programdata\\anaconda3\\lib\\site-packages (from tensorflow==2.0) (1.1.0)\n",
      "Requirement already satisfied, skipping upgrade: absl-py>=0.7.0 in c:\\programdata\\anaconda3\\lib\\site-packages (from tensorflow==2.0) (0.8.1)\n",
      "Requirement already satisfied, skipping upgrade: keras-applications>=1.0.8 in c:\\programdata\\anaconda3\\lib\\site-packages (from tensorflow==2.0) (1.0.8)\n",
      "Requirement already satisfied, skipping upgrade: google-pasta>=0.1.6 in c:\\programdata\\anaconda3\\lib\\site-packages (from tensorflow==2.0) (0.1.7)\n",
      "Requirement already satisfied, skipping upgrade: opt-einsum>=2.3.2 in c:\\programdata\\anaconda3\\lib\\site-packages (from tensorflow==2.0) (3.1.0)\n",
      "Requirement already satisfied, skipping upgrade: pillow>=4.1.1 in c:\\programdata\\anaconda3\\lib\\site-packages (from torchvision==0.5.0+cpu) (6.2.0)\n",
      "Requirement already satisfied, skipping upgrade: joblib in c:\\programdata\\anaconda3\\lib\\site-packages (from sacremoses->transformers) (0.13.2)\n",
      "Requirement already satisfied, skipping upgrade: click in c:\\programdata\\anaconda3\\lib\\site-packages (from sacremoses->transformers) (7.0)\n",
      "Requirement already satisfied, skipping upgrade: s3transfer<0.3.0,>=0.2.0 in c:\\programdata\\anaconda3\\lib\\site-packages (from boto3->transformers) (0.2.1)\n",
      "Requirement already satisfied, skipping upgrade: botocore<1.14.0,>=1.13.15 in c:\\programdata\\anaconda3\\lib\\site-packages (from boto3->transformers) (1.13.15)\n",
      "Requirement already satisfied, skipping upgrade: jmespath<1.0.0,>=0.7.1 in c:\\programdata\\anaconda3\\lib\\site-packages (from boto3->transformers) (0.9.4)\n",
      "Requirement already satisfied, skipping upgrade: idna<2.9,>=2.5 in c:\\programdata\\anaconda3\\lib\\site-packages (from requests->transformers) (2.8)\n",
      "Requirement already satisfied, skipping upgrade: certifi>=2017.4.17 in c:\\programdata\\anaconda3\\lib\\site-packages (from requests->transformers) (2019.9.11)\n",
      "Requirement already satisfied, skipping upgrade: urllib3!=1.25.0,!=1.25.1,<1.26,>=1.21.1 in c:\\programdata\\anaconda3\\lib\\site-packages (from requests->transformers) (1.24.2)\n",
      "Requirement already satisfied, skipping upgrade: chardet<3.1.0,>=3.0.2 in c:\\programdata\\anaconda3\\lib\\site-packages (from requests->transformers) (3.0.4)\n",
      "Requirement already satisfied, skipping upgrade: setuptools in c:\\programdata\\anaconda3\\lib\\site-packages (from protobuf>=3.6.1->tensorflow==2.0) (41.4.0)\n",
      "Requirement already satisfied, skipping upgrade: werkzeug>=0.11.15 in c:\\programdata\\anaconda3\\lib\\site-packages (from tensorboard<2.1.0,>=2.0.0->tensorflow==2.0) (0.16.0)\n",
      "Requirement already satisfied, skipping upgrade: google-auth-oauthlib<0.5,>=0.4.1 in c:\\programdata\\anaconda3\\lib\\site-packages (from tensorboard<2.1.0,>=2.0.0->tensorflow==2.0) (0.4.1)\n",
      "Requirement already satisfied, skipping upgrade: google-auth<2,>=1.6.3 in c:\\programdata\\anaconda3\\lib\\site-packages (from tensorboard<2.1.0,>=2.0.0->tensorflow==2.0) (1.6.3)\n",
      "Requirement already satisfied, skipping upgrade: markdown>=2.6.8 in c:\\programdata\\anaconda3\\lib\\site-packages (from tensorboard<2.1.0,>=2.0.0->tensorflow==2.0) (3.1.1)\n",
      "Requirement already satisfied, skipping upgrade: h5py in c:\\programdata\\anaconda3\\lib\\site-packages (from keras-applications>=1.0.8->tensorflow==2.0) (2.9.0)\n",
      "Requirement already satisfied, skipping upgrade: docutils<0.16,>=0.10 in c:\\programdata\\anaconda3\\lib\\site-packages (from botocore<1.14.0,>=1.13.15->boto3->transformers) (0.15.2)\n",
      "Requirement already satisfied, skipping upgrade: python-dateutil<2.8.1,>=2.1; python_version >= \"2.7\" in c:\\programdata\\anaconda3\\lib\\site-packages (from botocore<1.14.0,>=1.13.15->boto3->transformers) (2.8.0)\n",
      "Requirement already satisfied, skipping upgrade: requests-oauthlib>=0.7.0 in c:\\programdata\\anaconda3\\lib\\site-packages (from google-auth-oauthlib<0.5,>=0.4.1->tensorboard<2.1.0,>=2.0.0->tensorflow==2.0) (1.2.0)\n",
      "Requirement already satisfied, skipping upgrade: rsa>=3.1.4 in c:\\programdata\\anaconda3\\lib\\site-packages (from google-auth<2,>=1.6.3->tensorboard<2.1.0,>=2.0.0->tensorflow==2.0) (4.0)\n",
      "Requirement already satisfied, skipping upgrade: pyasn1-modules>=0.2.1 in c:\\programdata\\anaconda3\\lib\\site-packages (from google-auth<2,>=1.6.3->tensorboard<2.1.0,>=2.0.0->tensorflow==2.0) (0.2.7)\n",
      "Requirement already satisfied, skipping upgrade: cachetools>=2.0.0 in c:\\programdata\\anaconda3\\lib\\site-packages (from google-auth<2,>=1.6.3->tensorboard<2.1.0,>=2.0.0->tensorflow==2.0) (3.1.1)\n",
      "Requirement already satisfied, skipping upgrade: oauthlib>=3.0.0 in c:\\programdata\\anaconda3\\lib\\site-packages (from requests-oauthlib>=0.7.0->google-auth-oauthlib<0.5,>=0.4.1->tensorboard<2.1.0,>=2.0.0->tensorflow==2.0) (3.1.0)\n",
      "Requirement already satisfied, skipping upgrade: pyasn1>=0.1.3 in c:\\programdata\\anaconda3\\lib\\site-packages (from rsa>=3.1.4->google-auth<2,>=1.6.3->tensorboard<2.1.0,>=2.0.0->tensorflow==2.0) (0.4.7)\n",
      "Installing collected packages: tensorboard, tensorflow-estimator, tensorflow\n",
      "  Found existing installation: tensorboard 2.1.0\n",
      "    Uninstalling tensorboard-2.1.0:\n",
      "      Successfully uninstalled tensorboard-2.1.0\n",
      "  Found existing installation: tensorflow-estimator 2.1.0\n",
      "    Uninstalling tensorflow-estimator-2.1.0:\n",
      "      Successfully uninstalled tensorflow-estimator-2.1.0\n",
      "  Found existing installation: tensorflow 2.1.0\n",
      "    Uninstalling tensorflow-2.1.0:\n",
      "      Successfully uninstalled tensorflow-2.1.0\n",
      "Successfully installed tensorboard-2.0.2 tensorflow-2.0.0 tensorflow-estimator-2.0.1\n"
     ]
    },
    {
     "name": "stderr",
     "output_type": "stream",
     "text": [
      "  WARNING: The script tensorboard.exe is installed in 'C:\\Users\\szwang\\AppData\\Roaming\\Python\\Python37\\Scripts' which is not on PATH.\n",
      "  Consider adding this directory to PATH or, if you prefer to suppress this warning, use --no-warn-script-location.\n",
      "  WARNING: The scripts saved_model_cli.exe, tensorboard.exe, tf_upgrade_v2.exe, tflite_convert.exe, toco.exe and toco_from_protos.exe are installed in 'C:\\Users\\szwang\\AppData\\Roaming\\Python\\Python37\\Scripts' which is not on PATH.\n",
      "  Consider adding this directory to PATH or, if you prefer to suppress this warning, use --no-warn-script-location.\n"
     ]
    }
   ],
   "source": [
    "!pip install -U --user transformers tensorflow==2.0 torch==1.4.0+cpu torchvision==0.5.0+cpu -f https://download.pytorch.org/whl/torch_stable.html "
   ]
  },
  {
   "cell_type": "code",
   "execution_count": 1,
   "metadata": {},
   "outputs": [
    {
     "name": "stdout",
     "output_type": "stream",
     "text": [
      "2.0.0 1.4.0+cpu\n"
     ]
    }
   ],
   "source": [
    "import os\n",
    "import tensorflow as tf\n",
    "import pandas as pd\n",
    "import numpy as np\n",
    "import pickle\n",
    "import torch\n",
    "import random\n",
    "from tensorflow.keras.layers import *\n",
    "from transformers_Leo import TFBertModel, TFBertForPreTraining, BertTokenizer, TFBertForSequenceClassification, BertConfig, glue_convert_examples_to_features, glue_processors\n",
    "print(tf.__version__, torch.__version__)"
   ]
  },
  {
   "attachments": {
    "image.png": {
     "image/png": "[encoded data removed]"
    }
   },
   "cell_type": "markdown",
   "metadata": {},
   "source": [
    "Convert TF to PT:\n",
    "(base) D:\\python\\LEO_TM\\BERT_chinese_LM_processing\\Data\\NSL_POC\\pretrained\\trans\n",
    "formers-master>python transformers-cli convert --model_type bert --tf_checkpoint\n",
    " ../pretrained_output/model.ckpt-0  --config ../pretrained_output/config.json --\n",
    "pytorch_dump_output ../pretrained_output/pytorch_model.bin![image.png](attachment:image.png)"
   ]
  },
  {
   "cell_type": "code",
   "execution_count": 19,
   "metadata": {
    "scrolled": true
   },
   "outputs": [
    {
     "data": {
      "text/html": [
       "<div>\n",
       "<style scoped>\n",
       "    .dataframe tbody tr th:only-of-type {\n",
       "        vertical-align: middle;\n",
       "    }\n",
       "\n",
       "    .dataframe tbody tr th {\n",
       "        vertical-align: top;\n",
       "    }\n",
       "\n",
       "    .dataframe thead th {\n",
       "        text-align: right;\n",
       "    }\n",
       "</style>\n",
       "<table border=\"1\" class=\"dataframe\">\n",
       "  <thead>\n",
       "    <tr style=\"text-align: right;\">\n",
       "      <th></th>\n",
       "      <th>pretrained</th>\n",
       "      <th>Label</th>\n",
       "    </tr>\n",
       "  </thead>\n",
       "  <tbody>\n",
       "    <tr>\n",
       "      <td>0</td>\n",
       "      <td>金管保壽字第10502548153號核釋「保險業辦理國外投資管理辦法」第15條第9項規定，有...</td>\n",
       "      <td>AT</td>\n",
       "    </tr>\n",
       "    <tr>\n",
       "      <td>1</td>\n",
       "      <td>金管保財字第10502505671號修正「保險業財務報告編製準則」部分條文及第19條格式1、...</td>\n",
       "      <td>F&amp;A</td>\n",
       "    </tr>\n",
       "    <tr>\n",
       "      <td>2</td>\n",
       "      <td>金管保綜字第10602560561號修正「保險業防制洗錢及打擊資助恐怖主義注意事項」，並修正...</td>\n",
       "      <td>OTHERS</td>\n",
       "    </tr>\n",
       "    <tr>\n",
       "      <td>3</td>\n",
       "      <td>金管證發字第1060001296號修正「公開發行公司取得或處分資產處理準則」部分條文。一、明...</td>\n",
       "      <td>GA</td>\n",
       "    </tr>\n",
       "    <tr>\n",
       "      <td>4</td>\n",
       "      <td>金管保財字10500909790准予備查「保險業風險管理實務守則」為強化保險業風險控管，並配...</td>\n",
       "      <td>RM</td>\n",
       "    </tr>\n",
       "    <tr>\n",
       "      <td>5</td>\n",
       "      <td>金管保財字第10610908021號核釋保險業資金辦理專案運用投資屬「保險業資金辦理專案運用...</td>\n",
       "      <td>ISD</td>\n",
       "    </tr>\n",
       "    <tr>\n",
       "      <td>6</td>\n",
       "      <td>金管保壽字第10610908141號函核復「保險業承保身心障礙者處理原則」一、為避免身心障礙...</td>\n",
       "      <td>UW</td>\n",
       "    </tr>\n",
       "    <tr>\n",
       "      <td>7</td>\n",
       "      <td>金管保財字第10610908021號令修正「保險業辦理再保險分出分入及其他危險分散機制管理辦...</td>\n",
       "      <td>AT</td>\n",
       "    </tr>\n",
       "    <tr>\n",
       "      <td>8</td>\n",
       "      <td>金管保產字第10502121090號函「保險業公司治理實務守則」部分條文修正草案，請依說明修...</td>\n",
       "      <td>SEC</td>\n",
       "    </tr>\n",
       "    <tr>\n",
       "      <td>9</td>\n",
       "      <td>金管保壽字第10602542301號令修正「保險業授權代收保險費應注意事項」，自即日生效。一...</td>\n",
       "      <td>PC</td>\n",
       "    </tr>\n",
       "    <tr>\n",
       "      <td>10</td>\n",
       "      <td>金管保財字第10602502521號令修正「保險業辦理國外投資管理辦法」部分條文及第15條附...</td>\n",
       "      <td>AI</td>\n",
       "    </tr>\n",
       "    <tr>\n",
       "      <td>11</td>\n",
       "      <td>勞動條3字第1060131269號令修正「勞動基準法施行細則」部分條文。因勞動基準法（以下簡...</td>\n",
       "      <td>HR</td>\n",
       "    </tr>\n",
       "    <tr>\n",
       "      <td>12</td>\n",
       "      <td>金管銀法字第10610003100號令訂定「金融機構防制洗錢辦法」。一、授權依據（第1條）二...</td>\n",
       "      <td>UW</td>\n",
       "    </tr>\n",
       "    <tr>\n",
       "      <td>13</td>\n",
       "      <td>金管保綜字第10602562471號令修正「保險業防制洗錢及打擊資恐注意事項」，並將名稱修正...</td>\n",
       "      <td>SEC</td>\n",
       "    </tr>\n",
       "    <tr>\n",
       "      <td>14</td>\n",
       "      <td>金管保財字第10602064071號令訂定保險業計算自有資本及風險資本之範圍及計算公式一、訂...</td>\n",
       "      <td>AT</td>\n",
       "    </tr>\n",
       "    <tr>\n",
       "      <td>15</td>\n",
       "      <td>金管保財字第10602503031號令修正「保險業與利害關係人從事放款以外之其他交易管理辦法...</td>\n",
       "      <td>AI</td>\n",
       "    </tr>\n",
       "    <tr>\n",
       "      <td>16</td>\n",
       "      <td>金管保財字第10602503271號修正「人身保險及財產保險安定基金計提標準」第2條、第3條...</td>\n",
       "      <td>AT</td>\n",
       "    </tr>\n",
       "    <tr>\n",
       "      <td>17</td>\n",
       "      <td>金管證發字第1060027112號修正「公開發行公司審計委員會行使職權辦法」部分條文、「公開...</td>\n",
       "      <td>SEC</td>\n",
       "    </tr>\n",
       "    <tr>\n",
       "      <td>18</td>\n",
       "      <td>金管保綜字第10602562991號、台央外拾壹字第1060032701號令修正「國際保險業...</td>\n",
       "      <td>OIU</td>\n",
       "    </tr>\n",
       "    <tr>\n",
       "      <td>19</td>\n",
       "      <td>金管保壽字第10602544311號修正「保險業設立遷移或裁撤分支機構管理辦法」部分條文。為...</td>\n",
       "      <td>SEC</td>\n",
       "    </tr>\n",
       "    <tr>\n",
       "      <td>20</td>\n",
       "      <td>金管保財字第10602502861號修正「保險業財務報告編製準則」部分條文及第19條格式1至...</td>\n",
       "      <td>F&amp;A</td>\n",
       "    </tr>\n",
       "    <tr>\n",
       "      <td>21</td>\n",
       "      <td>金管保財字第10602503581號修正「保險業從事衍生性金融商品交易管理辦法」第13條、第...</td>\n",
       "      <td>ISD</td>\n",
       "    </tr>\n",
       "    <tr>\n",
       "      <td>22</td>\n",
       "      <td>金管保壽字第10602544381號修正「投資型保險商品銷售應注意事項」第4點規定，自106...</td>\n",
       "      <td>PD</td>\n",
       "    </tr>\n",
       "    <tr>\n",
       "      <td>23</td>\n",
       "      <td>金管保財字第10602104511號核釋「保險業資金辦理專案運用公共及社會福利事業投資管理辦...</td>\n",
       "      <td>AI</td>\n",
       "    </tr>\n",
       "    <tr>\n",
       "      <td>24</td>\n",
       "      <td>金管保財字第10602504021號修正「保險業內部控制及稽核制度實施辦法」。為提高保險業對...</td>\n",
       "      <td>RM</td>\n",
       "    </tr>\n",
       "    <tr>\n",
       "      <td>25</td>\n",
       "      <td>金管保壽字第10602546201號修正「保險商品銷售前程序作業準則」第24條、第32條條文...</td>\n",
       "      <td>AA</td>\n",
       "    </tr>\n",
       "    <tr>\n",
       "      <td>26</td>\n",
       "      <td>台財稅字第10604676280號修正「營利事業所得稅不合常規移轉訂價查核準則」部分條文。為...</td>\n",
       "      <td>F&amp;A</td>\n",
       "    </tr>\n",
       "    <tr>\n",
       "      <td>27</td>\n",
       "      <td>勞職授字第1060204871號修正「勞工健康保護規則」。配合職業安全衛生法（以下簡稱本法）...</td>\n",
       "      <td>HR</td>\n",
       "    </tr>\n",
       "    <tr>\n",
       "      <td>28</td>\n",
       "      <td>金管保壽字第10610946061號修正「人身保險商品審查應注意事項」第220點之3規定，自...</td>\n",
       "      <td>PD</td>\n",
       "    </tr>\n",
       "    <tr>\n",
       "      <td>29</td>\n",
       "      <td>台財際字第10624518960號訂定金融機構執行共同申報及盡職審查作業辦法。為因應國際日益...</td>\n",
       "      <td>POS</td>\n",
       "    </tr>\n",
       "    <tr>\n",
       "      <td>30</td>\n",
       "      <td>金管保綜字第 10602564481 號修正「保險業辦理電子商務應注意事項」，自即日生效。金...</td>\n",
       "      <td>CU</td>\n",
       "    </tr>\n",
       "    <tr>\n",
       "      <td>31</td>\n",
       "      <td>壽會貴字第1061116492號修正「人壽保險業防制洗錢及打擊資助恐怖主義注意事項範本」、「...</td>\n",
       "      <td>OTHERS</td>\n",
       "    </tr>\n",
       "    <tr>\n",
       "      <td>32</td>\n",
       "      <td>金管保財字第10602505441號修正人身保險業各幣別(新臺幣、美元、澳幣、歐元及人民幣)...</td>\n",
       "      <td>ILPD</td>\n",
       "    </tr>\n",
       "    <tr>\n",
       "      <td>33</td>\n",
       "      <td>金管保財字第10602137571號訂定106年度適用「保險業計算自有資本及風險資本之範圍及...</td>\n",
       "      <td>AT</td>\n",
       "    </tr>\n",
       "    <tr>\n",
       "      <td>34</td>\n",
       "      <td>金管保壽字第10610949581號修正「人身保險業辦理以外幣收付之非投資型人身保險業務應具...</td>\n",
       "      <td>PD</td>\n",
       "    </tr>\n",
       "  </tbody>\n",
       "</table>\n",
       "</div>"
      ],
      "text/plain": [
       "                                           pretrained   Label\n",
       "0   金管保壽字第10502548153號核釋「保險業辦理國外投資管理辦法」第15條第9項規定，有...      AT\n",
       "1   金管保財字第10502505671號修正「保險業財務報告編製準則」部分條文及第19條格式1、...     F&A\n",
       "2   金管保綜字第10602560561號修正「保險業防制洗錢及打擊資助恐怖主義注意事項」，並修正...  OTHERS\n",
       "3   金管證發字第1060001296號修正「公開發行公司取得或處分資產處理準則」部分條文。一、明...      GA\n",
       "4   金管保財字10500909790准予備查「保險業風險管理實務守則」為強化保險業風險控管，並配...      RM\n",
       "5   金管保財字第10610908021號核釋保險業資金辦理專案運用投資屬「保險業資金辦理專案運用...     ISD\n",
       "6   金管保壽字第10610908141號函核復「保險業承保身心障礙者處理原則」一、為避免身心障礙...      UW\n",
       "7   金管保財字第10610908021號令修正「保險業辦理再保險分出分入及其他危險分散機制管理辦...      AT\n",
       "8   金管保產字第10502121090號函「保險業公司治理實務守則」部分條文修正草案，請依說明修...     SEC\n",
       "9   金管保壽字第10602542301號令修正「保險業授權代收保險費應注意事項」，自即日生效。一...      PC\n",
       "10  金管保財字第10602502521號令修正「保險業辦理國外投資管理辦法」部分條文及第15條附...      AI\n",
       "11  勞動條3字第1060131269號令修正「勞動基準法施行細則」部分條文。因勞動基準法（以下簡...      HR\n",
       "12  金管銀法字第10610003100號令訂定「金融機構防制洗錢辦法」。一、授權依據（第1條）二...      UW\n",
       "13  金管保綜字第10602562471號令修正「保險業防制洗錢及打擊資恐注意事項」，並將名稱修正...     SEC\n",
       "14  金管保財字第10602064071號令訂定保險業計算自有資本及風險資本之範圍及計算公式一、訂...      AT\n",
       "15  金管保財字第10602503031號令修正「保險業與利害關係人從事放款以外之其他交易管理辦法...      AI\n",
       "16  金管保財字第10602503271號修正「人身保險及財產保險安定基金計提標準」第2條、第3條...      AT\n",
       "17  金管證發字第1060027112號修正「公開發行公司審計委員會行使職權辦法」部分條文、「公開...     SEC\n",
       "18  金管保綜字第10602562991號、台央外拾壹字第1060032701號令修正「國際保險業...     OIU\n",
       "19  金管保壽字第10602544311號修正「保險業設立遷移或裁撤分支機構管理辦法」部分條文。為...     SEC\n",
       "20  金管保財字第10602502861號修正「保險業財務報告編製準則」部分條文及第19條格式1至...     F&A\n",
       "21  金管保財字第10602503581號修正「保險業從事衍生性金融商品交易管理辦法」第13條、第...     ISD\n",
       "22  金管保壽字第10602544381號修正「投資型保險商品銷售應注意事項」第4點規定，自106...      PD\n",
       "23  金管保財字第10602104511號核釋「保險業資金辦理專案運用公共及社會福利事業投資管理辦...      AI\n",
       "24  金管保財字第10602504021號修正「保險業內部控制及稽核制度實施辦法」。為提高保險業對...      RM\n",
       "25  金管保壽字第10602546201號修正「保險商品銷售前程序作業準則」第24條、第32條條文...      AA\n",
       "26  台財稅字第10604676280號修正「營利事業所得稅不合常規移轉訂價查核準則」部分條文。為...     F&A\n",
       "27  勞職授字第1060204871號修正「勞工健康保護規則」。配合職業安全衛生法（以下簡稱本法）...      HR\n",
       "28  金管保壽字第10610946061號修正「人身保險商品審查應注意事項」第220點之3規定，自...      PD\n",
       "29  台財際字第10624518960號訂定金融機構執行共同申報及盡職審查作業辦法。為因應國際日益...     POS\n",
       "30  金管保綜字第 10602564481 號修正「保險業辦理電子商務應注意事項」，自即日生效。金...      CU\n",
       "31  壽會貴字第1061116492號修正「人壽保險業防制洗錢及打擊資助恐怖主義注意事項範本」、「...  OTHERS\n",
       "32  金管保財字第10602505441號修正人身保險業各幣別(新臺幣、美元、澳幣、歐元及人民幣)...    ILPD\n",
       "33  金管保財字第10602137571號訂定106年度適用「保險業計算自有資本及風險資本之範圍及...      AT\n",
       "34  金管保壽字第10610949581號修正「人身保險業辦理以外幣收付之非投資型人身保險業務應具...      PD"
      ]
     },
     "execution_count": 19,
     "metadata": {},
     "output_type": "execute_result"
    }
   ],
   "source": [
    "data_dir = '../Data/NSL_POC/'\n",
    "train_df = pickle.load(open(data_dir+'clf_train.pkl','rb'))\n",
    "train_df"
   ]
  },
  {
   "cell_type": "code",
   "execution_count": 20,
   "metadata": {},
   "outputs": [
    {
     "name": "stdout",
     "output_type": "stream",
     "text": [
      "{'AA': 0, 'UW': 1, 'HR': 2, 'POS': 3, 'ILPD': 4, 'CU': 5, 'AT': 6, 'PC': 7, 'OIU': 8, 'SEC': 9, 'AI': 10, 'OTHERS': 11, 'RM': 12, 'ISD': 13, 'GA': 14, 'F&A': 15, 'PD': 16}\n"
     ]
    }
   ],
   "source": [
    "labelID_dict = {}\n",
    "for i,label in enumerate(set(train_df.Label.tolist())):\n",
    "    labelID_dict[label] = i\n",
    "# pickle.dump(obj=labelID_dict,file=open(data_dir+'labelID_dict.pkl','wb'))\n",
    "labelID_dict = pickle.load(open(data_dir+'labelID_dict.pkl','rb'))\n",
    "print(labelID_dict)"
   ]
  },
  {
   "cell_type": "code",
   "execution_count": 21,
   "metadata": {},
   "outputs": [
    {
     "name": "stdout",
     "output_type": "stream",
     "text": [
      "(35,)\n"
     ]
    }
   ],
   "source": [
    "trainX = train_df.pretrained.tolist()\n",
    "trainY = train_df.Label.tolist()\n",
    "train_Y = np.array([labelID_dict[x] for x in trainY])\n",
    "print(train_Y.shape)\n",
    "assert len(trainX) == len(train_Y)"
   ]
  },
  {
   "cell_type": "code",
   "execution_count": 22,
   "metadata": {
    "scrolled": true
   },
   "outputs": [
    {
     "name": "stdout",
     "output_type": "stream",
     "text": [
      "Model: \"tf_bert_for_sequence_classification_1\"\n",
      "_________________________________________________________________\n",
      "Layer (type)                 Output Shape              Param #   \n",
      "=================================================================\n",
      "bert_Leo (TFBertMainLayer)   multiple                  102267648 \n",
      "_________________________________________________________________\n",
      "dropout_75 (Dropout)         multiple                  0         \n",
      "_________________________________________________________________\n",
      "classifier_Leo (Dense)       multiple                  13073     \n",
      "=================================================================\n",
      "Total params: 102,280,721\n",
      "Trainable params: 102,280,721\n",
      "Non-trainable params: 0\n",
      "_________________________________________________________________\n"
     ]
    }
   ],
   "source": [
    "model_dir = '../Data/NSL_POC/pretrained/pretrained_output/'\n",
    "\n",
    "# 'hfl/chinese-roberta-wwm-ext'\n",
    "config = BertConfig.from_pretrained(model_dir+'config.json',num_labels=len(labelID_dict)) # model_dir+'config.json' from_pretrained , num_labels=len(labelID_dict)\n",
    "# config.output_hidden_states=True\n",
    "tokenizer = BertTokenizer.from_pretrained(model_dir) #model_dir\n",
    "model = TFBertForSequenceClassification.from_pretrained(model_dir+'pytorch_model.bin', config=config, from_pt=True)\n",
    "# model = TFBertModel.from_pretrained(model_dir+'pytorch_model.bin', from_pt=True, config=config) # BertModel\n",
    "# model = Dense(17,activation='softmax')(model)\n",
    "# model.add(Dense(17,activation='softmax'))\n",
    "model.summary()"
   ]
  },
  {
   "cell_type": "markdown",
   "metadata": {},
   "source": [
    "#### CLF:\n",
    "* Batch size: 16, 32\n",
    "* Learning rate (Adam): 5e-5, 3e-5, 2e-5\n",
    "* Number of epochs: 3, 4\n",
    "\n",
    "#### LM:\n",
    "\n",
    "\n",
    "train with batch size of 256 sequences (256\n",
    "sequences * 512 tokens = 128,000 tokens/batch)\n",
    "for 1,000,000 steps, which is approximately 40\n",
    "epochs over the 3.3 billion word corpus. We\n",
    "use Adam with learning rate of 1e-4, β1 = 0.9,\n",
    "β2 = 0.999, L2 weight decay of 0.01, learning\n",
    "rate warmup over the first 10,000 steps, and linear\n",
    "decay of the learning rate. We use a dropout probability of 0.1 on all layers. We use a gelu activation (Hendrycks and Gimpel, 2016) rather than\n",
    "the standard relu, following OpenAI GPT. The\n",
    "training loss is the sum of the mean masked LM\n",
    "likelihood and mean next sentence prediction likelihood"
   ]
  },
  {
   "cell_type": "code",
   "execution_count": 23,
   "metadata": {},
   "outputs": [],
   "source": [
    "opt = tf.keras.optimizers.Adam(learning_rate=5e-5)#learning_rate=0.001)#Adam(learning_rate=2e-5, epsilon=1e-08)\n",
    "loss = tf.keras.losses.SparseCategoricalCrossentropy(from_logits=True) #from_logits=False\n",
    "metric = tf.keras.metrics.SparseCategoricalAccuracy('accuracy')\n",
    "model.compile(optimizer=opt, loss=loss, metrics=[metric])\n"
   ]
  },
  {
   "cell_type": "code",
   "execution_count": 24,
   "metadata": {},
   "outputs": [],
   "source": [
    "def data_generator(data, targets, batch_size,train=True):\n",
    "    '''\n",
    "    data: train_X\n",
    "    targets: train_Y\n",
    "    '''\n",
    "    if train == True:\n",
    "        idx = np.arange(len(data))\n",
    "        np.random.shuffle(idx)\n",
    "        batches = [idx[range(batch_size*i, min(len(data), batch_size*(i+1)))] for i in range(int(len(data)/batch_size)+1)]\n",
    "        while True:\n",
    "            for i in batches:\n",
    "    #             print(i,targets,batches)\n",
    "                yy = np.array(targets[i])\n",
    "                xx = []\n",
    "                for ii in i:\n",
    "                    if len(data[ii])>512:\n",
    "                        length_id = random.randint(512,len(data[ii]))\n",
    "                        x = tf.constant(tokenizer.encode(data[ii], add_special_tokens=True))[length_id-512:length_id]\n",
    "                    else:\n",
    "                        x = tf.constant(tokenizer.encode(data[ii], add_special_tokens=True))[:512]\n",
    "                    if batch_size == 1:\n",
    "    #                     print(x,yy)\n",
    "                        yield (np.array([x]),yy)\n",
    "                    else:\n",
    "                        xx.append(np.array([x]))\n",
    "                if batch_size == 1:\n",
    "                    continue\n",
    "    #             xx = np.array(xx)\n",
    "    #             xx, yy = data[i], np.array([targets[i]])\n",
    "    #             if len(xx)>512:\n",
    "    #                 length_id = random.randint(512,len(xx))\n",
    "    #                 xx = tf.constant(tokenizer.encode(xx, add_special_tokens=True))[length_id-512:length_id]\n",
    "    #                 xx = xx[length_id-512:length_id]\n",
    "                yield (xx, yy)\n",
    "    else:\n",
    "        idx = np.arange(len(data))\n",
    "        np.random.shuffle(idx)\n",
    "        batches = [idx[range(batch_size*i, min(len(data), batch_size*(i+1)))] for i in range(int(len(data)/batch_size)+1)]        \n",
    "        while True:\n",
    "            for i in batches:\n",
    "    #             print(i,targets,batches)\n",
    "                yy = np.array(targets[i])\n",
    "                xx = []\n",
    "                for ii in i:\n",
    "                    x = tf.constant(tokenizer.encode(data[ii], add_special_tokens=True))[:512]\n",
    "                    if batch_size == 1:\n",
    "    #                     print(x,yy)\n",
    "                        yield (np.array([x]),yy)\n",
    "                    else:\n",
    "                        print('err, not implement')"
   ]
  },
  {
   "cell_type": "code",
   "execution_count": 25,
   "metadata": {},
   "outputs": [],
   "source": [
    "BATCH_SIZE = 1#4#1\n",
    "train_steps = len(trainX)//BATCH_SIZE"
   ]
  },
  {
   "cell_type": "code",
   "execution_count": 26,
   "metadata": {},
   "outputs": [],
   "source": [
    "from tensorflow.python.framework.ops import disable_eager_execution, enable_eager_execution\n",
    "# disable_eager_execution()\n",
    "# tf.keras.backend.clear_session()\n",
    "# tf.compat.v1.reset_default_graph()"
   ]
  },
  {
   "cell_type": "code",
   "execution_count": 27,
   "metadata": {
    "scrolled": true
   },
   "outputs": [
    {
     "name": "stdout",
     "output_type": "stream",
     "text": [
      "Epoch 1/15\n",
      "34/35 [============================>.] - ETA: 9:53 - loss: 2.8427 - accuracy: 0.0000e+ - ETA: 6:16 - loss: 2.8455 - accuracy: 0.0000e+ - ETA: 5:44 - loss: 2.8548 - accuracy: 0.0000e+ - ETA: 5:40 - loss: 2.8555 - accuracy: 0.0000e+ - ETA: 4:55 - loss: 2.7983 - accuracy: 0.0400   - ETA: 4:53 - loss: 2.8126 - accuracy: 0.06 - ETA: 4:23 - loss: 2.8239 - accuracy: 0.07 - ETA: 4:15 - loss: 2.8315 - accuracy: 0.07 - ETA: 4:17 - loss: 2.8340 - accuracy: 0.08 - ETA: 4:10 - loss: 2.8381 - accuracy: 0.08 - ETA: 3:47 - loss: 2.8399 - accuracy: 0.08 - ETA: 3:41 - loss: 2.8429 - accuracy: 0.08 - ETA: 3:23 - loss: 2.8430 - accuracy: 0.08 - ETA: 3:17 - loss: 2.8450 - accuracy: 0.08 - ETA: 3:10 - loss: 2.8430 - accuracy: 0.08 - ETA: 3:05 - loss: 2.8439 - accuracy: 0.08 - ETA: 2:56 - loss: 2.8437 - accuracy: 0.07 - ETA: 2:47 - loss: 2.8399 - accuracy: 0.07 - ETA: 2:39 - loss: 2.8399 - accuracy: 0.07 - ETA: 2:27 - loss: 2.8414 - accuracy: 0.07 - ETA: 2:16 - loss: 2.8423 - accuracy: 0.07 - ETA: 2:08 - loss: 2.8433 - accuracy: 0.07 - ETA: 2:00 - loss: 2.8444 - accuracy: 0.07 - ETA: 1:49 - loss: 2.8453 - accuracy: 0.07 - ETA: 1:39 - loss: 2.8463 - accuracy: 0.06 - ETA: 1:30 - loss: 2.8449 - accuracy: 0.06 - ETA: 1:18 - loss: 2.8455 - accuracy: 0.06 - ETA: 1:09 - loss: 2.8458 - accuracy: 0.06 - ETA: 1:00 - loss: 2.8413 - accuracy: 0.06 - ETA: 50s - loss: 2.8421 - accuracy: 0.0660 - ETA: 40s - loss: 2.8407 - accuracy: 0.065 - ETA: 30s - loss: 2.8380 - accuracy: 0.065 - ETA: 20s - loss: 2.8389 - accuracy: 0.065 - ETA: 9s - loss: 2.8335 - accuracy: 0.0663 WARNING:tensorflow:Can save best model only with val_acc available, skipping.\n",
      "35/35 [==============================] - 435s 12s/step - loss: 2.8346 - accuracy: 0.0674 - val_loss: 2.7983 - val_accuracy: 0.1429\n",
      "Epoch 2/15\n",
      "34/35 [============================>.] - ETA: 9:02 - loss: 2.8834 - accuracy: 0.0000e+ - ETA: 6:01 - loss: 2.8745 - accuracy: 0.0000e+ - ETA: 6:21 - loss: 2.8169 - accuracy: 0.0000e+ - ETA: 6:08 - loss: 2.8322 - accuracy: 0.0000e+ - ETA: 5:08 - loss: 2.8401 - accuracy: 0.0000e+ - ETA: 5:02 - loss: 2.8464 - accuracy: 0.0000e+ - ETA: 4:33 - loss: 2.8501 - accuracy: 0.0000e+ - ETA: 4:18 - loss: 2.8262 - accuracy: 0.0000e+ - ETA: 4:14 - loss: 2.8318 - accuracy: 0.0000e+ - ETA: 4:07 - loss: 2.8361 - accuracy: 0.0000e+ - ETA: 3:47 - loss: 2.8073 - accuracy: 0.0083   - ETA: 3:44 - loss: 2.8131 - accuracy: 0.01 - ETA: 3:29 - loss: 2.8186 - accuracy: 0.01 - ETA: 3:22 - loss: 2.8242 - accuracy: 0.02 - ETA: 3:14 - loss: 2.8274 - accuracy: 0.02 - ETA: 3:06 - loss: 2.8303 - accuracy: 0.02 - ETA: 2:57 - loss: 2.8295 - accuracy: 0.03 - ETA: 2:48 - loss: 2.7991 - accuracy: 0.03 - ETA: 2:41 - loss: 2.8030 - accuracy: 0.03 - ETA: 2:31 - loss: 2.8077 - accuracy: 0.04 - ETA: 2:20 - loss: 2.8120 - accuracy: 0.04 - ETA: 2:10 - loss: 2.8158 - accuracy: 0.04 - ETA: 2:01 - loss: 2.8195 - accuracy: 0.04 - ETA: 1:50 - loss: 2.8229 - accuracy: 0.04 - ETA: 1:40 - loss: 2.8259 - accuracy: 0.05 - ETA: 1:31 - loss: 2.8257 - accuracy: 0.05 - ETA: 1:20 - loss: 2.8281 - accuracy: 0.05 - ETA: 1:10 - loss: 2.8302 - accuracy: 0.05 - ETA: 1:00 - loss: 2.8096 - accuracy: 0.05 - ETA: 50s - loss: 2.8125 - accuracy: 0.0563 - ETA: 40s - loss: 2.8144 - accuracy: 0.057 - ETA: 30s - loss: 2.8142 - accuracy: 0.058 - ETA: 20s - loss: 2.8167 - accuracy: 0.059 - ETA: 10s - loss: 2.8004 - accuracy: 0.0614WARNING:tensorflow:Can save best model only with val_acc available, skipping.\n",
      "35/35 [==============================] - 440s 13s/step - loss: 2.8031 - accuracy: 0.0644 - val_loss: 2.7848 - val_accuracy: 0.1429\n",
      "Epoch 3/15\n",
      "34/35 [============================>.] - ETA: 5:13 - loss: 2.9040 - accuracy: 0.0000e+ - ETA: 4:44 - loss: 2.8938 - accuracy: 0.0000e+ - ETA: 5:18 - loss: 2.8650 - accuracy: 0.0000e+ - ETA: 5:23 - loss: 2.8732 - accuracy: 0.0000e+ - ETA: 4:47 - loss: 2.8763 - accuracy: 0.0000e+ - ETA: 4:46 - loss: 2.8798 - accuracy: 0.0000e+ - ETA: 4:20 - loss: 2.8818 - accuracy: 0.0000e+ - ETA: 4:28 - loss: 2.8049 - accuracy: 0.0156   - ETA: 4:21 - loss: 2.8148 - accuracy: 0.02 - ETA: 4:18 - loss: 2.8223 - accuracy: 0.03 - ETA: 3:58 - loss: 2.7669 - accuracy: 0.04 - ETA: 3:50 - loss: 2.7779 - accuracy: 0.05 - ETA: 3:31 - loss: 2.7875 - accuracy: 0.06 - ETA: 3:28 - loss: 2.7960 - accuracy: 0.07 - ETA: 3:19 - loss: 2.8031 - accuracy: 0.07 - ETA: 3:14 - loss: 2.8091 - accuracy: 0.07 - ETA: 3:04 - loss: 2.8107 - accuracy: 0.07 - ETA: 2:55 - loss: 2.7712 - accuracy: 0.08 - ETA: 2:48 - loss: 2.7778 - accuracy: 0.08 - ETA: 2:35 - loss: 2.7846 - accuracy: 0.09 - ETA: 2:24 - loss: 2.7906 - accuracy: 0.09 - ETA: 2:16 - loss: 2.7959 - accuracy: 0.09 - ETA: 2:05 - loss: 2.8009 - accuracy: 0.09 - ETA: 1:55 - loss: 2.8055 - accuracy: 0.09 - ETA: 1:45 - loss: 2.8098 - accuracy: 0.09 - ETA: 1:35 - loss: 2.8117 - accuracy: 0.10 - ETA: 1:23 - loss: 2.8152 - accuracy: 0.10 - ETA: 1:13 - loss: 2.8183 - accuracy: 0.10 - ETA: 1:03 - loss: 2.7943 - accuracy: 0.10 - ETA: 53s - loss: 2.7981 - accuracy: 0.1030 - ETA: 42s - loss: 2.8015 - accuracy: 0.103 - ETA: 31s - loss: 2.8028 - accuracy: 0.104 - ETA: 21s - loss: 2.8060 - accuracy: 0.105 - ETA: 10s - loss: 2.7864 - accuracy: 0.1063WARNING:tensorflow:Can save best model only with val_acc available, skipping.\n",
      "35/35 [==============================] - 458s 13s/step - loss: 2.7899 - accuracy: 0.1083 - val_loss: 2.7833 - val_accuracy: 0.1429\n",
      "Epoch 4/15\n",
      "34/35 [============================>.] - ETA: 6:42 - loss: 2.9079 - accuracy: 0.0000e+ - ETA: 4:58 - loss: 2.9038 - accuracy: 0.0000e+ - ETA: 5:09 - loss: 2.8801 - accuracy: 0.0000e+ - ETA: 5:16 - loss: 2.8859 - accuracy: 0.0000e+ - ETA: 4:26 - loss: 2.8890 - accuracy: 0.0000e+ - ETA: 4:32 - loss: 2.8918 - accuracy: 0.0000e+ - ETA: 4:16 - loss: 2.8932 - accuracy: 0.0000e+ - ETA: 4:16 - loss: 2.8019 - accuracy: 0.0156   - ETA: 4:10 - loss: 2.8128 - accuracy: 0.02 - ETA: 4:04 - loss: 2.8215 - accuracy: 0.03 - ETA: 3:45 - loss: 2.7620 - accuracy: 0.04 - ETA: 3:37 - loss: 2.7740 - accuracy: 0.05 - ETA: 3:22 - loss: 2.7840 - accuracy: 0.06 - ETA: 3:20 - loss: 2.7932 - accuracy: 0.07 - ETA: 3:11 - loss: 2.8005 - accuracy: 0.07 - ETA: 3:03 - loss: 2.8069 - accuracy: 0.07 - ETA: 2:56 - loss: 2.8103 - accuracy: 0.07 - ETA: 2:47 - loss: 2.7686 - accuracy: 0.08 - ETA: 2:40 - loss: 2.7758 - accuracy: 0.08 - ETA: 2:30 - loss: 2.7826 - accuracy: 0.09 - ETA: 2:19 - loss: 2.7889 - accuracy: 0.09 - ETA: 2:09 - loss: 2.7943 - accuracy: 0.09 - ETA: 2:00 - loss: 2.7994 - accuracy: 0.09 - ETA: 1:49 - loss: 2.8041 - accuracy: 0.09 - ETA: 1:39 - loss: 2.8084 - accuracy: 0.09 - ETA: 1:31 - loss: 2.8102 - accuracy: 0.10 - ETA: 1:19 - loss: 2.8140 - accuracy: 0.10 - ETA: 1:09 - loss: 2.8174 - accuracy: 0.10 - ETA: 1:00 - loss: 2.7917 - accuracy: 0.10 - ETA: 50s - loss: 2.7957 - accuracy: 0.1030 - ETA: 40s - loss: 2.7992 - accuracy: 0.103 - ETA: 30s - loss: 2.8009 - accuracy: 0.104 - ETA: 20s - loss: 2.8041 - accuracy: 0.105 - ETA: 10s - loss: 2.7839 - accuracy: 0.1063WARNING:tensorflow:Can save best model only with val_acc available, skipping.\n",
      "35/35 [==============================] - 433s 12s/step - loss: 2.7873 - accuracy: 0.1083 - val_loss: 2.7830 - val_accuracy: 0.1429\n",
      "Epoch 5/15\n"
     ]
    },
    {
     "name": "stdout",
     "output_type": "stream",
     "text": [
      "34/35 [============================>.] - ETA: 5:02 - loss: 2.9112 - accuracy: 0.0000e+ - ETA: 4:01 - loss: 2.9040 - accuracy: 0.0000e+ - ETA: 4:32 - loss: 2.8757 - accuracy: 0.0000e+ - ETA: 4:46 - loss: 2.8837 - accuracy: 0.0000e+ - ETA: 4:06 - loss: 2.8866 - accuracy: 0.0000e+ - ETA: 4:12 - loss: 2.8896 - accuracy: 0.0000e+ - ETA: 4:00 - loss: 2.8915 - accuracy: 0.0000e+ - ETA: 4:02 - loss: 2.7982 - accuracy: 0.0156   - ETA: 3:59 - loss: 2.8100 - accuracy: 0.02 - ETA: 3:55 - loss: 2.8190 - accuracy: 0.03 - ETA: 3:35 - loss: 2.7581 - accuracy: 0.04 - ETA: 3:29 - loss: 2.7699 - accuracy: 0.05 - ETA: 3:13 - loss: 2.7805 - accuracy: 0.06 - ETA: 3:13 - loss: 2.7898 - accuracy: 0.07 - ETA: 3:06 - loss: 2.7976 - accuracy: 0.07 - ETA: 2:58 - loss: 2.8042 - accuracy: 0.07 - ETA: 2:50 - loss: 2.8068 - accuracy: 0.07 - ETA: 2:43 - loss: 2.7656 - accuracy: 0.08 - ETA: 2:37 - loss: 2.7731 - accuracy: 0.08 - ETA: 2:26 - loss: 2.7801 - accuracy: 0.09 - ETA: 2:15 - loss: 2.7865 - accuracy: 0.09 - ETA: 2:07 - loss: 2.7921 - accuracy: 0.09 - ETA: 1:57 - loss: 2.7972 - accuracy: 0.09 - ETA: 1:47 - loss: 2.8021 - accuracy: 0.09 - ETA: 1:38 - loss: 2.8066 - accuracy: 0.09 - ETA: 1:29 - loss: 2.8071 - accuracy: 0.10 - ETA: 1:18 - loss: 2.8111 - accuracy: 0.10 - ETA: 1:08 - loss: 2.8145 - accuracy: 0.10 - ETA: 58s - loss: 2.7902 - accuracy: 0.1020 - ETA: 49s - loss: 2.7943 - accuracy: 0.103 - ETA: 39s - loss: 2.7979 - accuracy: 0.103 - ETA: 29s - loss: 2.7982 - accuracy: 0.104 - ETA: 19s - loss: 2.8015 - accuracy: 0.105 - ETA: 9s - loss: 2.7810 - accuracy: 0.1063 WARNING:tensorflow:Can save best model only with val_acc available, skipping.\n",
      "35/35 [==============================] - 442s 13s/step - loss: 2.7845 - accuracy: 0.1083 - val_loss: 2.7817 - val_accuracy: 0.1429\n",
      "Epoch 6/15\n",
      "34/35 [============================>.] - ETA: 5:38 - loss: 2.9115 - accuracy: 0.0000e+ - ETA: 4:53 - loss: 2.9066 - accuracy: 0.0000e+ - ETA: 5:17 - loss: 2.8741 - accuracy: 0.0000e+ - ETA: 5:14 - loss: 2.8824 - accuracy: 0.0000e+ - ETA: 4:38 - loss: 2.8852 - accuracy: 0.0000e+ - ETA: 4:44 - loss: 2.8880 - accuracy: 0.0000e+ - ETA: 4:21 - loss: 2.8893 - accuracy: 0.0000e+ - ETA: 4:23 - loss: 2.8103 - accuracy: 0.0156   - ETA: 4:18 - loss: 2.8202 - accuracy: 0.02 - ETA: 4:11 - loss: 2.8286 - accuracy: 0.03 - ETA: 3:53 - loss: 2.7716 - accuracy: 0.04 - ETA: 3:47 - loss: 2.7826 - accuracy: 0.05 - ETA: 3:30 - loss: 2.7922 - accuracy: 0.06 - ETA: 3:24 - loss: 2.8006 - accuracy: 0.07 - ETA: 3:19 - loss: 2.8076 - accuracy: 0.07 - ETA: 3:10 - loss: 2.8140 - accuracy: 0.07 - ETA: 3:04 - loss: 2.8145 - accuracy: 0.07 - ETA: 2:55 - loss: 2.7729 - accuracy: 0.08 - ETA: 2:46 - loss: 2.7801 - accuracy: 0.08 - ETA: 2:36 - loss: 2.7869 - accuracy: 0.09 - ETA: 2:24 - loss: 2.7931 - accuracy: 0.09 - ETA: 2:14 - loss: 2.7984 - accuracy: 0.09 - ETA: 2:05 - loss: 2.8034 - accuracy: 0.09 - ETA: 1:54 - loss: 2.8081 - accuracy: 0.09 - ETA: 1:44 - loss: 2.8124 - accuracy: 0.09 - ETA: 1:35 - loss: 2.8132 - accuracy: 0.10 - ETA: 1:23 - loss: 2.8169 - accuracy: 0.10 - ETA: 1:13 - loss: 2.8202 - accuracy: 0.10 - ETA: 1:02 - loss: 2.7954 - accuracy: 0.10 - ETA: 52s - loss: 2.7992 - accuracy: 0.1030 - ETA: 42s - loss: 2.8025 - accuracy: 0.103 - ETA: 31s - loss: 2.8030 - accuracy: 0.104 - ETA: 21s - loss: 2.8064 - accuracy: 0.105 - ETA: 10s - loss: 2.7852 - accuracy: 0.1063WARNING:tensorflow:Can save best model only with val_acc available, skipping.\n",
      "35/35 [==============================] - 462s 13s/step - loss: 2.7886 - accuracy: 0.1083 - val_loss: 2.7821 - val_accuracy: 0.1429\n",
      "Epoch 7/15\n",
      "34/35 [============================>.] - ETA: 4:42 - loss: 2.9116 - accuracy: 0.0000e+ - ETA: 3:45 - loss: 2.9076 - accuracy: 0.0000e+ - ETA: 4:10 - loss: 2.8740 - accuracy: 0.0000e+ - ETA: 4:18 - loss: 2.8827 - accuracy: 0.0000e+ - ETA: 3:40 - loss: 2.8861 - accuracy: 0.0000e+ - ETA: 3:44 - loss: 2.8901 - accuracy: 0.0000e+ - ETA: 3:28 - loss: 2.8926 - accuracy: 0.0000e+ - ETA: 3:27 - loss: 2.7996 - accuracy: 0.0156   - ETA: 3:34 - loss: 2.8113 - accuracy: 0.02 - ETA: 3:37 - loss: 2.8205 - accuracy: 0.03 - ETA: 3:20 - loss: 2.7585 - accuracy: 0.04 - ETA: 3:16 - loss: 2.7706 - accuracy: 0.05 - ETA: 3:01 - loss: 2.7811 - accuracy: 0.06 - ETA: 2:57 - loss: 2.7906 - accuracy: 0.07 - ETA: 2:52 - loss: 2.7981 - accuracy: 0.07 - ETA: 2:51 - loss: 2.8048 - accuracy: 0.07 - ETA: 2:43 - loss: 2.8050 - accuracy: 0.07 - ETA: 2:36 - loss: 2.7643 - accuracy: 0.08 - ETA: 2:28 - loss: 2.7718 - accuracy: 0.08 - ETA: 2:18 - loss: 2.7789 - accuracy: 0.09 - ETA: 2:07 - loss: 2.7852 - accuracy: 0.09 - ETA: 2:02 - loss: 2.7910 - accuracy: 0.09 - ETA: 1:53 - loss: 2.7962 - accuracy: 0.09 - ETA: 1:43 - loss: 2.8010 - accuracy: 0.09 - ETA: 1:34 - loss: 2.8055 - accuracy: 0.09 - ETA: 1:26 - loss: 2.8056 - accuracy: 0.10 - ETA: 1:14 - loss: 2.8095 - accuracy: 0.10 - ETA: 1:06 - loss: 2.8129 - accuracy: 0.10 - ETA: 57s - loss: 2.7887 - accuracy: 0.1020 - ETA: 48s - loss: 2.7928 - accuracy: 0.103 - ETA: 38s - loss: 2.7963 - accuracy: 0.103 - ETA: 29s - loss: 2.7960 - accuracy: 0.104 - ETA: 19s - loss: 2.7994 - accuracy: 0.105 - ETA: 9s - loss: 2.7802 - accuracy: 0.1063 WARNING:tensorflow:Can save best model only with val_acc available, skipping.\n",
      "35/35 [==============================] - 425s 12s/step - loss: 2.7838 - accuracy: 0.1083 - val_loss: 2.7808 - val_accuracy: 0.1429\n",
      "Epoch 8/15\n",
      "34/35 [============================>.] - ETA: 4:41 - loss: 2.9106 - accuracy: 0.0000e+ - ETA: 3:57 - loss: 2.9078 - accuracy: 0.0000e+ - ETA: 4:30 - loss: 2.8595 - accuracy: 0.0000e+ - ETA: 4:45 - loss: 2.8715 - accuracy: 0.0000e+ - ETA: 4:07 - loss: 2.8772 - accuracy: 0.0000e+ - ETA: 4:13 - loss: 2.8821 - accuracy: 0.0000e+ - ETA: 3:58 - loss: 2.8853 - accuracy: 0.0000e+ - ETA: 3:50 - loss: 2.7940 - accuracy: 0.0156   - ETA: 3:48 - loss: 2.8064 - accuracy: 0.02 - ETA: 3:44 - loss: 2.8160 - accuracy: 0.03 - ETA: 3:25 - loss: 2.7595 - accuracy: 0.04 - ETA: 3:23 - loss: 2.7714 - accuracy: 0.05 - ETA: 3:11 - loss: 2.7818 - accuracy: 0.06 - ETA: 3:07 - loss: 2.7910 - accuracy: 0.07 - ETA: 3:00 - loss: 2.7985 - accuracy: 0.07 - ETA: 2:54 - loss: 2.8049 - accuracy: 0.07 - ETA: 2:47 - loss: 2.8019 - accuracy: 0.07 - ETA: 2:39 - loss: 2.7636 - accuracy: 0.08 - ETA: 2:32 - loss: 2.7709 - accuracy: 0.08 - ETA: 2:22 - loss: 2.7778 - accuracy: 0.09 - ETA: 2:12 - loss: 2.7842 - accuracy: 0.09 - ETA: 2:03 - loss: 2.7896 - accuracy: 0.09 - ETA: 1:54 - loss: 2.7949 - accuracy: 0.09 - ETA: 1:43 - loss: 2.7997 - accuracy: 0.09 - ETA: 1:35 - loss: 2.8042 - accuracy: 0.09 - ETA: 1:26 - loss: 2.8031 - accuracy: 0.10 - ETA: 1:15 - loss: 2.8070 - accuracy: 0.10 - ETA: 1:06 - loss: 2.8105 - accuracy: 0.10 - ETA: 57s - loss: 2.7888 - accuracy: 0.1020 - ETA: 48s - loss: 2.7927 - accuracy: 0.103 - ETA: 39s - loss: 2.7962 - accuracy: 0.103 - ETA: 29s - loss: 2.7939 - accuracy: 0.104 - ETA: 20s - loss: 2.7974 - accuracy: 0.105 - ETA: 9s - loss: 2.7788 - accuracy: 0.1063 WARNING:tensorflow:Can save best model only with val_acc available, skipping.\n",
      "35/35 [==============================] - 441s 13s/step - loss: 2.7823 - accuracy: 0.1083 - val_loss: 2.7796 - val_accuracy: 0.1429\n",
      "Epoch 9/15\n"
     ]
    },
    {
     "name": "stdout",
     "output_type": "stream",
     "text": [
      "34/35 [============================>.] - ETA: 5:21 - loss: 2.9050 - accuracy: 0.0000e+ - ETA: 4:53 - loss: 2.9037 - accuracy: 0.0000e+ - ETA: 5:11 - loss: 2.8536 - accuracy: 0.0000e+ - ETA: 5:17 - loss: 2.8664 - accuracy: 0.0000e+ - ETA: 4:40 - loss: 2.8724 - accuracy: 0.0000e+ - ETA: 4:42 - loss: 2.8778 - accuracy: 0.0000e+ - ETA: 4:12 - loss: 2.8811 - accuracy: 0.0000e+ - ETA: 4:22 - loss: 2.7961 - accuracy: 0.0156   - ETA: 4:16 - loss: 2.8081 - accuracy: 0.02 - ETA: 4:12 - loss: 2.8174 - accuracy: 0.03 - ETA: 3:53 - loss: 2.7640 - accuracy: 0.04 - ETA: 3:46 - loss: 2.7753 - accuracy: 0.05 - ETA: 3:28 - loss: 2.7855 - accuracy: 0.06 - ETA: 3:26 - loss: 2.7944 - accuracy: 0.07 - ETA: 3:18 - loss: 2.8012 - accuracy: 0.07 - ETA: 3:09 - loss: 2.8074 - accuracy: 0.07 - ETA: 3:02 - loss: 2.8054 - accuracy: 0.07 - ETA: 2:50 - loss: 2.7696 - accuracy: 0.08 - ETA: 2:40 - loss: 2.7767 - accuracy: 0.08 - ETA: 2:28 - loss: 2.7834 - accuracy: 0.09 - ETA: 2:16 - loss: 2.7895 - accuracy: 0.09 - ETA: 2:06 - loss: 2.7948 - accuracy: 0.09 - ETA: 1:56 - loss: 2.7999 - accuracy: 0.09 - ETA: 1:44 - loss: 2.8046 - accuracy: 0.09 - ETA: 1:35 - loss: 2.8088 - accuracy: 0.09 - ETA: 1:25 - loss: 2.8074 - accuracy: 0.10 - ETA: 1:14 - loss: 2.8112 - accuracy: 0.10 - ETA: 1:05 - loss: 2.8147 - accuracy: 0.10 - ETA: 57s - loss: 2.7927 - accuracy: 0.1020 - ETA: 49s - loss: 2.7965 - accuracy: 0.103 - ETA: 40s - loss: 2.7997 - accuracy: 0.103 - ETA: 31s - loss: 2.7982 - accuracy: 0.104 - ETA: 20s - loss: 2.8015 - accuracy: 0.105 - ETA: 10s - loss: 2.7835 - accuracy: 0.1063WARNING:tensorflow:Can save best model only with val_acc available, skipping.\n",
      "35/35 [==============================] - 447s 13s/step - loss: 2.7871 - accuracy: 0.1083 - val_loss: 2.7797 - val_accuracy: 0.1429\n",
      "Epoch 10/15\n",
      "34/35 [============================>.] - ETA: 5:03 - loss: 2.9078 - accuracy: 0.0000e+ - ETA: 4:05 - loss: 2.9030 - accuracy: 0.0000e+ - ETA: 4:39 - loss: 2.8489 - accuracy: 0.0000e+ - ETA: 4:47 - loss: 2.8629 - accuracy: 0.0000e+ - ETA: 4:06 - loss: 2.8701 - accuracy: 0.0000e+ - ETA: 4:10 - loss: 2.8758 - accuracy: 0.0000e+ - ETA: 3:54 - loss: 2.8798 - accuracy: 0.0000e+ - ETA: 4:01 - loss: 2.7920 - accuracy: 0.0156   - ETA: 3:56 - loss: 2.8046 - accuracy: 0.02 - ETA: 3:51 - loss: 2.8144 - accuracy: 0.03 - ETA: 3:32 - loss: 2.7549 - accuracy: 0.04 - ETA: 3:28 - loss: 2.7671 - accuracy: 0.05 - ETA: 3:10 - loss: 2.7780 - accuracy: 0.06 - ETA: 3:08 - loss: 2.7874 - accuracy: 0.07 - ETA: 3:05 - loss: 2.7948 - accuracy: 0.07 - ETA: 2:58 - loss: 2.8014 - accuracy: 0.07 - ETA: 2:50 - loss: 2.7969 - accuracy: 0.07 - ETA: 2:42 - loss: 2.7646 - accuracy: 0.08 - ETA: 2:33 - loss: 2.7717 - accuracy: 0.08 - ETA: 2:23 - loss: 2.7785 - accuracy: 0.09 - ETA: 2:15 - loss: 2.7848 - accuracy: 0.09 - ETA: 2:06 - loss: 2.7903 - accuracy: 0.09 - ETA: 1:57 - loss: 2.7954 - accuracy: 0.09 - ETA: 1:46 - loss: 2.8001 - accuracy: 0.09 - ETA: 1:37 - loss: 2.8045 - accuracy: 0.09 - ETA: 1:28 - loss: 2.8022 - accuracy: 0.10 - ETA: 1:17 - loss: 2.8062 - accuracy: 0.10 - ETA: 1:08 - loss: 2.8096 - accuracy: 0.10 - ETA: 59s - loss: 2.7877 - accuracy: 0.1020 - ETA: 49s - loss: 2.7917 - accuracy: 0.103 - ETA: 39s - loss: 2.7952 - accuracy: 0.103 - ETA: 29s - loss: 2.7944 - accuracy: 0.104 - ETA: 20s - loss: 2.7978 - accuracy: 0.105 - ETA: 9s - loss: 2.7800 - accuracy: 0.1063 WARNING:tensorflow:Can save best model only with val_acc available, skipping.\n",
      "35/35 [==============================] - 430s 12s/step - loss: 2.7835 - accuracy: 0.1083 - val_loss: 2.7794 - val_accuracy: 0.1429\n",
      "Epoch 11/15\n",
      "34/35 [============================>.] - ETA: 4:57 - loss: 2.9093 - accuracy: 0.0000e+ - ETA: 4:07 - loss: 2.9053 - accuracy: 0.0000e+ - ETA: 4:45 - loss: 2.8489 - accuracy: 0.0000e+ - ETA: 5:19 - loss: 2.8633 - accuracy: 0.0000e+ - ETA: 4:29 - loss: 2.8702 - accuracy: 0.0000e+ - ETA: 4:28 - loss: 2.8759 - accuracy: 0.0000e+ - ETA: 4:07 - loss: 2.8789 - accuracy: 0.0000e+ - ETA: 4:05 - loss: 2.7938 - accuracy: 0.0156   - ETA: 4:03 - loss: 2.8062 - accuracy: 0.02 - ETA: 4:05 - loss: 2.8160 - accuracy: 0.03 - ETA: 3:43 - loss: 2.7606 - accuracy: 0.04 - ETA: 3:37 - loss: 2.7727 - accuracy: 0.05 - ETA: 3:19 - loss: 2.7828 - accuracy: 0.06 - ETA: 3:15 - loss: 2.7917 - accuracy: 0.07 - ETA: 3:08 - loss: 2.7987 - accuracy: 0.07 - ETA: 3:00 - loss: 2.8050 - accuracy: 0.07 - ETA: 2:53 - loss: 2.7981 - accuracy: 0.07 - ETA: 2:45 - loss: 2.7637 - accuracy: 0.08 - ETA: 2:36 - loss: 2.7709 - accuracy: 0.08 - ETA: 2:25 - loss: 2.7780 - accuracy: 0.09 - ETA: 2:14 - loss: 2.7842 - accuracy: 0.09 - ETA: 2:05 - loss: 2.7897 - accuracy: 0.09 - ETA: 1:56 - loss: 2.7948 - accuracy: 0.09 - ETA: 1:47 - loss: 2.7996 - accuracy: 0.09 - ETA: 1:38 - loss: 2.8039 - accuracy: 0.09 - ETA: 1:29 - loss: 2.8030 - accuracy: 0.10 - ETA: 1:18 - loss: 2.8070 - accuracy: 0.10 - ETA: 1:09 - loss: 2.8106 - accuracy: 0.10 - ETA: 59s - loss: 2.7885 - accuracy: 0.1020 - ETA: 50s - loss: 2.7925 - accuracy: 0.103 - ETA: 40s - loss: 2.7958 - accuracy: 0.103 - ETA: 30s - loss: 2.7940 - accuracy: 0.104 - ETA: 20s - loss: 2.7975 - accuracy: 0.105 - ETA: 10s - loss: 2.7782 - accuracy: 0.1063WARNING:tensorflow:Can save best model only with val_acc available, skipping.\n",
      "35/35 [==============================] - 430s 12s/step - loss: 2.7819 - accuracy: 0.1083 - val_loss: 2.7791 - val_accuracy: 0.1429\n",
      "Epoch 12/15\n",
      "34/35 [============================>.] - ETA: 5:03 - loss: 2.9092 - accuracy: 0.0000e+ - ETA: 4:54 - loss: 2.9042 - accuracy: 0.0000e+ - ETA: 5:09 - loss: 2.8169 - accuracy: 0.0000e+ - ETA: 5:10 - loss: 2.8383 - accuracy: 0.0000e+ - ETA: 4:39 - loss: 2.8507 - accuracy: 0.0000e+ - ETA: 4:41 - loss: 2.8600 - accuracy: 0.0000e+ - ETA: 4:19 - loss: 2.8661 - accuracy: 0.0000e+ - ETA: 4:10 - loss: 2.7907 - accuracy: 0.0156   - ETA: 4:08 - loss: 2.8031 - accuracy: 0.02 - ETA: 4:02 - loss: 2.8127 - accuracy: 0.03 - ETA: 3:44 - loss: 2.7576 - accuracy: 0.04 - ETA: 3:41 - loss: 2.7696 - accuracy: 0.05 - ETA: 3:25 - loss: 2.7801 - accuracy: 0.06 - ETA: 3:20 - loss: 2.7893 - accuracy: 0.07 - ETA: 3:14 - loss: 2.7964 - accuracy: 0.07 - ETA: 3:05 - loss: 2.8029 - accuracy: 0.07 - ETA: 3:00 - loss: 2.7972 - accuracy: 0.07 - ETA: 2:51 - loss: 2.7598 - accuracy: 0.08 - ETA: 2:42 - loss: 2.7671 - accuracy: 0.08 - ETA: 2:33 - loss: 2.7743 - accuracy: 0.09 - ETA: 2:21 - loss: 2.7807 - accuracy: 0.09 - ETA: 2:11 - loss: 2.7864 - accuracy: 0.09 - ETA: 2:03 - loss: 2.7916 - accuracy: 0.09 - ETA: 1:53 - loss: 2.7966 - accuracy: 0.09 - ETA: 1:47 - loss: 2.8009 - accuracy: 0.09 - ETA: 1:37 - loss: 2.7950 - accuracy: 0.10 - ETA: 1:25 - loss: 2.7992 - accuracy: 0.10 - ETA: 1:16 - loss: 2.8028 - accuracy: 0.10 - ETA: 1:05 - loss: 2.7824 - accuracy: 0.10 - ETA: 54s - loss: 2.7864 - accuracy: 0.1030 - ETA: 44s - loss: 2.7901 - accuracy: 0.103 - ETA: 33s - loss: 2.7874 - accuracy: 0.104 - ETA: 22s - loss: 2.7910 - accuracy: 0.105 - ETA: 10s - loss: 2.7741 - accuracy: 0.1063WARNING:tensorflow:Can save best model only with val_acc available, skipping.\n",
      "35/35 [==============================] - 470s 13s/step - loss: 2.7778 - accuracy: 0.1083 - val_loss: 2.7783 - val_accuracy: 0.1429\n",
      "Epoch 13/15\n"
     ]
    },
    {
     "name": "stdout",
     "output_type": "stream",
     "text": [
      "34/35 [============================>.] - ETA: 5:03 - loss: 2.9058 - accuracy: 0.0000e+ - ETA: 4:05 - loss: 2.9020 - accuracy: 0.0000e+ - ETA: 4:30 - loss: 2.8209 - accuracy: 0.0000e+ - ETA: 4:43 - loss: 2.8418 - accuracy: 0.0000e+ - ETA: 4:03 - loss: 2.8532 - accuracy: 0.0000e+ - ETA: 4:11 - loss: 2.8620 - accuracy: 0.0000e+ - ETA: 3:56 - loss: 2.8675 - accuracy: 0.0000e+ - ETA: 4:05 - loss: 2.8021 - accuracy: 0.0156   - ETA: 4:01 - loss: 2.8133 - accuracy: 0.02 - ETA: 3:55 - loss: 2.8220 - accuracy: 0.03 - ETA: 3:35 - loss: 2.7716 - accuracy: 0.04 - ETA: 3:31 - loss: 2.7822 - accuracy: 0.05 - ETA: 3:15 - loss: 2.7916 - accuracy: 0.06 - ETA: 3:08 - loss: 2.7998 - accuracy: 0.07 - ETA: 3:06 - loss: 2.8060 - accuracy: 0.07 - ETA: 2:58 - loss: 2.8116 - accuracy: 0.07 - ETA: 2:50 - loss: 2.8028 - accuracy: 0.07 - ETA: 2:42 - loss: 2.7691 - accuracy: 0.08 - ETA: 2:35 - loss: 2.7759 - accuracy: 0.08 - ETA: 2:23 - loss: 2.7824 - accuracy: 0.09 - ETA: 2:13 - loss: 2.7885 - accuracy: 0.09 - ETA: 2:07 - loss: 2.7936 - accuracy: 0.09 - ETA: 1:57 - loss: 2.7983 - accuracy: 0.09 - ETA: 1:47 - loss: 2.8030 - accuracy: 0.09 - ETA: 1:38 - loss: 2.8072 - accuracy: 0.09 - ETA: 1:28 - loss: 2.8010 - accuracy: 0.10 - ETA: 1:17 - loss: 2.8050 - accuracy: 0.10 - ETA: 1:08 - loss: 2.8085 - accuracy: 0.10 - ETA: 59s - loss: 2.7892 - accuracy: 0.1020 - ETA: 49s - loss: 2.7930 - accuracy: 0.103 - ETA: 39s - loss: 2.7964 - accuracy: 0.103 - ETA: 30s - loss: 2.7925 - accuracy: 0.104 - ETA: 20s - loss: 2.7960 - accuracy: 0.105 - ETA: 9s - loss: 2.7773 - accuracy: 0.1063 WARNING:tensorflow:Can save best model only with val_acc available, skipping.\n",
      "35/35 [==============================] - 432s 12s/step - loss: 2.7810 - accuracy: 0.1083 - val_loss: 2.7782 - val_accuracy: 0.1429\n",
      "Epoch 14/15\n",
      "34/35 [============================>.] - ETA: 5:29 - loss: 2.9058 - accuracy: 0.0000e+ - ETA: 4:10 - loss: 2.9034 - accuracy: 0.0000e+ - ETA: 5:00 - loss: 2.8221 - accuracy: 0.0000e+ - ETA: 5:17 - loss: 2.8427 - accuracy: 0.0000e+ - ETA: 4:27 - loss: 2.8547 - accuracy: 0.0000e+ - ETA: 4:26 - loss: 2.8627 - accuracy: 0.0000e+ - ETA: 4:03 - loss: 2.8680 - accuracy: 0.0000e+ - ETA: 3:53 - loss: 2.8066 - accuracy: 0.0156   - ETA: 3:56 - loss: 2.8171 - accuracy: 0.02 - ETA: 3:52 - loss: 2.8250 - accuracy: 0.03 - ETA: 3:32 - loss: 2.7668 - accuracy: 0.04 - ETA: 3:28 - loss: 2.7777 - accuracy: 0.05 - ETA: 3:12 - loss: 2.7874 - accuracy: 0.06 - ETA: 3:07 - loss: 2.7959 - accuracy: 0.07 - ETA: 3:00 - loss: 2.8027 - accuracy: 0.07 - ETA: 2:54 - loss: 2.8085 - accuracy: 0.07 - ETA: 2:46 - loss: 2.7993 - accuracy: 0.07 - ETA: 2:38 - loss: 2.7700 - accuracy: 0.08 - ETA: 2:30 - loss: 2.7768 - accuracy: 0.08 - ETA: 2:19 - loss: 2.7835 - accuracy: 0.09 - ETA: 2:10 - loss: 2.7895 - accuracy: 0.09 - ETA: 2:04 - loss: 2.7945 - accuracy: 0.09 - ETA: 1:56 - loss: 2.7993 - accuracy: 0.09 - ETA: 1:46 - loss: 2.8040 - accuracy: 0.09 - ETA: 1:38 - loss: 2.8081 - accuracy: 0.09 - ETA: 1:28 - loss: 2.8014 - accuracy: 0.10 - ETA: 1:17 - loss: 2.8055 - accuracy: 0.10 - ETA: 1:09 - loss: 2.8088 - accuracy: 0.10 - ETA: 59s - loss: 2.7897 - accuracy: 0.1020 - ETA: 50s - loss: 2.7936 - accuracy: 0.103 - ETA: 40s - loss: 2.7969 - accuracy: 0.103 - ETA: 30s - loss: 2.7924 - accuracy: 0.104 - ETA: 20s - loss: 2.7958 - accuracy: 0.105 - ETA: 10s - loss: 2.7760 - accuracy: 0.1063WARNING:tensorflow:Can save best model only with val_acc available, skipping.\n",
      "35/35 [==============================] - 447s 13s/step - loss: 2.7798 - accuracy: 0.1083 - val_loss: 2.7786 - val_accuracy: 0.1429\n",
      "Epoch 15/15\n",
      "34/35 [============================>.] - ETA: 4:40 - loss: 2.9103 - accuracy: 0.0000e+ - ETA: 3:58 - loss: 2.9046 - accuracy: 0.0000e+ - ETA: 5:08 - loss: 2.7968 - accuracy: 0.0000e+ - ETA: 5:11 - loss: 2.8227 - accuracy: 0.0000e+ - ETA: 4:21 - loss: 2.8382 - accuracy: 0.0000e+ - ETA: 4:36 - loss: 2.8484 - accuracy: 0.0000e+ - ETA: 4:13 - loss: 2.8564 - accuracy: 0.0000e+ - ETA: 3:55 - loss: 2.8019 - accuracy: 0.0156   - ETA: 3:53 - loss: 2.8127 - accuracy: 0.02 - ETA: 3:56 - loss: 2.8211 - accuracy: 0.03 - ETA: 3:35 - loss: 2.7607 - accuracy: 0.04 - ETA: 3:29 - loss: 2.7721 - accuracy: 0.05 - ETA: 3:16 - loss: 2.7827 - accuracy: 0.06 - ETA: 3:14 - loss: 2.7913 - accuracy: 0.07 - ETA: 3:10 - loss: 2.7984 - accuracy: 0.07 - ETA: 3:02 - loss: 2.8044 - accuracy: 0.07 - ETA: 2:54 - loss: 2.7892 - accuracy: 0.07 - ETA: 2:51 - loss: 2.7653 - accuracy: 0.08 - ETA: 2:45 - loss: 2.7720 - accuracy: 0.08 - ETA: 2:33 - loss: 2.7789 - accuracy: 0.09 - ETA: 2:21 - loss: 2.7852 - accuracy: 0.09 - ETA: 2:15 - loss: 2.7903 - accuracy: 0.09 - ETA: 2:05 - loss: 2.7951 - accuracy: 0.09 - ETA: 1:54 - loss: 2.8000 - accuracy: 0.09 - ETA: 1:44 - loss: 2.8042 - accuracy: 0.09 - ETA: 1:33 - loss: 2.7979 - accuracy: 0.10 - ETA: 1:21 - loss: 2.8022 - accuracy: 0.10 - ETA: 1:12 - loss: 2.8056 - accuracy: 0.10 - ETA: 1:02 - loss: 2.7890 - accuracy: 0.10 - ETA: 52s - loss: 2.7927 - accuracy: 0.1030 - ETA: 41s - loss: 2.7960 - accuracy: 0.103 - ETA: 31s - loss: 2.7870 - accuracy: 0.104 - ETA: 20s - loss: 2.7906 - accuracy: 0.105 - ETA: 10s - loss: 2.7722 - accuracy: 0.1063WARNING:tensorflow:Can save best model only with val_acc available, skipping.\n",
      "35/35 [==============================] - 448s 13s/step - loss: 2.7761 - accuracy: 0.1083 - val_loss: 2.7807 - val_accuracy: 0.1429\n"
     ]
    }
   ],
   "source": [
    "save_dir = model_dir + 'classifier1'\n",
    "cb1 = tf.keras.callbacks.ModelCheckpoint(filepath=save_dir+'.hdf5', verbose=1,save_best_only=True, monitor='val_acc')\n",
    "cb2 = tf.keras.callbacks.EarlyStopping(patience=2)\n",
    "cb3 = tf.keras.callbacks.ReduceLROnPlateau(monitor='val_loss', factor=0.6, patience=1, min_lr=1e-5)\n",
    "history = model.fit_generator(data_generator(trainX,train_Y,BATCH_SIZE,train=True),\n",
    "                              validation_data=data_generator(trainX,train_Y,BATCH_SIZE,train=False)\n",
    "                              ,validation_steps=train_steps,steps_per_epoch=train_steps,epochs=15,callbacks=[cb1,cb2,cb3])"
   ]
  },
  {
   "cell_type": "code",
   "execution_count": null,
   "metadata": {},
   "outputs": [],
   "source": [
    "model.evaluate()"
   ]
  },
  {
   "cell_type": "code",
   "execution_count": 12,
   "metadata": {},
   "outputs": [
    {
     "data": {
      "text/plain": [
       "('../Data/NSL_POC/pretrained/pretrained_output/vocab.txt',\n",
       " '../Data/NSL_POC/pretrained/pretrained_output/special_tokens_map.json',\n",
       " '../Data/NSL_POC/pretrained/pretrained_output/added_tokens.json')"
      ]
     },
     "execution_count": 12,
     "metadata": {},
     "output_type": "execute_result"
    }
   ],
   "source": [
    "save_dir = model_dir + 'classifier1/'\n",
    "os.makedirs(save_dir, exist_ok=True)\n",
    "model.save_pretrained(save_dir)\n",
    "tokenizer.save_pretrained(save_dir)"
   ]
  },
  {
   "cell_type": "code",
   "execution_count": 48,
   "metadata": {},
   "outputs": [
    {
     "data": {
      "text/plain": [
       "[6]"
      ]
     },
     "execution_count": 48,
     "metadata": {},
     "output_type": "execute_result"
    }
   ],
   "source": [
    "[train_Y[0]]"
   ]
  },
  {
   "cell_type": "code",
   "execution_count": 47,
   "metadata": {},
   "outputs": [
    {
     "data": {
      "text/plain": [
       "array([ 6, 15, 11, 14, 12, 13,  1,  6,  9,  7, 10,  2,  1,  9,  6, 10,  6,\n",
       "        9,  8,  9, 15, 13, 16, 10, 12,  0, 15,  2, 16,  3,  5, 11,  4,  6,\n",
       "       16])"
      ]
     },
     "execution_count": 47,
     "metadata": {},
     "output_type": "execute_result"
    }
   ],
   "source": [
    "train_Y_ = trai"
   ]
  },
  {
   "cell_type": "code",
   "execution_count": 12,
   "metadata": {},
   "outputs": [],
   "source": [
    "train_X = tokenizer.encode(trainX[0])"
   ]
  },
  {
   "cell_type": "code",
   "execution_count": 21,
   "metadata": {},
   "outputs": [
    {
     "data": {
      "text/plain": [
       "512"
      ]
     },
     "execution_count": 21,
     "metadata": {},
     "output_type": "execute_result"
    }
   ],
   "source": [
    "len(train_X[:512])"
   ]
  },
  {
   "cell_type": "code",
   "execution_count": 37,
   "metadata": {},
   "outputs": [
    {
     "data": {
      "text/plain": [
       "'金管保壽字第10502548153號核釋「保險業辦理國外投資管理辦法」第15條第9項規定，有關人身保險業最近一年之商品結構綜合評分值符合所列標準之一者，得擇一適用本辦法第15條第9項第1款或第2款所列措施相關規定，自106年1月1日生效。一、依據保險業辦理國外投資管理辦法（以下簡稱本辦法）第十五條第九項規定辦理二、人身保險業最近一年之商品結構綜合評分值（計算方式及匯率換算基準詳附件）符合下列標準之一者，得擇一適用本辦法第十五條第九項第一款或第二款所列措施：(一)人身保險業最近一年之商品結構綜合評分值位於全業界七十百分位以上者(二)人身保險業最近一年之商品結構綜合評分值較上年度增加達零點一（含）以上者、或人身保險業最近一年之商品結構綜合評分值達零點九（含）惟未達零點九五，且較上年度增加達零點零二（含）以上者、或人身保險業最近一年之商品結構綜合評分值達零點九五（含）至一之間，且較上年度增加達零點零一（含）以上者三、首次符合前點標準之人身保險業，應於本會核定之一年適用期間起始日起七日內，就擇定適用本辦法第十五條第九項相關款次所列措施函報本會備查，逾期視同適用本辦法第十五條第九項第二款規定，且於適用期間內不得再申請變更；非首次符合前點標準者，亦同但維持前所擇定適用之措施者，無須函報本會備查四、人身保險業原符合第二點標準，如於次年度未符合標準者，於原核定適用期間屆滿起六個月內應予調整國外投資部位，稽核部門應予以追蹤控管；如於六個月內仍無法改正逾限部位之調整情事，稽核部門應立即陳報本會並提出書面說明及具體改善計畫五、人身保險業因前點規定需調整投資部位者，如於同一年度依據本辦法第十五條第一項或第四項規定經本會核准提高國外投資額度，或依據本辦法第十五條之二規定經本會核准不計入國外投資額度者，得逕依據本會最新一次核准之國外投資額度辦理，不適用前點規定六、本令自中華民國一百零六年一月一日生效；本會一百零三年十二月十日金管保壽字第一○三○二五五三○○一號令自同日廢止'"
      ]
     },
     "execution_count": 37,
     "metadata": {},
     "output_type": "execute_result"
    }
   ],
   "source": [
    "trainX[0]"
   ]
  },
  {
   "cell_type": "code",
   "execution_count": 7,
   "metadata": {},
   "outputs": [
    {
     "data": {
      "text/plain": [
       "(<tf.Tensor: id=7933, shape=(1, 17), dtype=float32, numpy=\n",
       " array([[0.03007534, 0.04569976, 0.04140639, 0.1020798 , 0.03940167,\n",
       "         0.04641188, 0.08015193, 0.0469086 , 0.04661325, 0.0888615 ,\n",
       "         0.02681581, 0.02517687, 0.06477679, 0.09038366, 0.06841635,\n",
       "         0.06499767, 0.09182269]], dtype=float32)>,)"
      ]
     },
     "execution_count": 7,
     "metadata": {},
     "output_type": "execute_result"
    }
   ],
   "source": [
    "input_ids = tf.constant(tokenizer.encode(trainX[0], add_special_tokens=True))[None, :512]\n",
    "model(input_ids)"
   ]
  },
  {
   "cell_type": "code",
   "execution_count": 41,
   "metadata": {
    "scrolled": true
   },
   "outputs": [
    {
     "data": {
      "text/plain": [
       "<tf.Tensor: id=46472, shape=(1, 512), dtype=int32, numpy=\n",
       "array([[ 101, 7032, 5052,  924, 1904, 2099, 5018, 8423, 8904, 9488, 9313,\n",
       "        9310, 5998, 3417, 7026,  519,  924, 7402, 3511, 6794, 4415, 1751,\n",
       "        1912, 2832, 6536, 5052, 4415, 6794, 3791,  520, 5018, 8115, 3454,\n",
       "        5018,  130, 7517, 6211, 2137, 8024, 3300, 7302,  782, 6716,  924,\n",
       "        7402, 3511, 3297, 6818,  671, 2399,  722, 1555, 1501, 5178, 3539,\n",
       "        5198, 1394, 6268, 1146,  966, 5016, 1394, 2792, 1154, 3560, 3976,\n",
       "         722,  671, 5442, 8024, 2533, 3079,  671, 6900, 4500, 3315, 6794,\n",
       "        3791, 5018, 8115, 3454, 5018,  130, 7517, 5018,  122, 3621, 2772,\n",
       "        5018,  123, 3621, 2792, 1154, 2974, 3177, 4685, 7302, 6211, 2137,\n",
       "        8024, 5632, 8438, 2399,  122, 3299,  122, 3189, 4495, 3126,  511,\n",
       "         671,  510,  898, 3087,  924, 7402, 3511, 6794, 4415, 1751, 1912,\n",
       "        2832, 6536, 5052, 4415, 6794, 3791, 8020,  809,  678, 5080, 4935,\n",
       "        3315, 6794, 3791, 8021, 5018, 1282,  758, 3454, 5018,  736, 7517,\n",
       "        6211, 2137, 6794, 4415,  753,  510,  782, 6716,  924, 7402, 3511,\n",
       "        3297, 6818,  671, 2399,  722, 1555, 1501, 5178, 3539, 5198, 1394,\n",
       "        6268, 1146,  966, 8020, 6243, 5050, 3175, 2466, 1350, 1274, 4372,\n",
       "        2994, 5050, 1825, 3976, 6284, 7353,  816, 8021, 5016, 1394,  678,\n",
       "        1154, 3560, 3976,  722,  671, 5442, 8024, 2533, 3079,  671, 6900,\n",
       "        4500, 3315, 6794, 3791, 5018, 1282,  758, 3454, 5018,  736, 7517,\n",
       "        5018,  671, 3621, 2772, 5018,  753, 3621, 2792, 1154, 2974, 3177,\n",
       "        8038,  113,  671,  114,  782, 6716,  924, 7402, 3511, 3297, 6818,\n",
       "         671, 2399,  722, 1555, 1501, 5178, 3539, 5198, 1394, 6268, 1146,\n",
       "         966,  855, 3176, 1059, 3511, 4518,  673, 1282, 4636, 1146,  855,\n",
       "         809,  677, 5442,  113,  753,  114,  782, 6716,  924, 7402, 3511,\n",
       "        3297, 6818,  671, 2399,  722, 1555, 1501, 5178, 3539, 5198, 1394,\n",
       "        6268, 1146,  966, 6733,  677, 2399, 2428, 1872, 1217, 6888, 7439,\n",
       "        7953,  671, 8020, 1419, 8021,  809,  677, 5442,  510, 2772,  782,\n",
       "        6716,  924, 7402, 3511, 3297, 6818,  671, 2399,  722, 1555, 1501,\n",
       "        5178, 3539, 5198, 1394, 6268, 1146,  966, 6888, 7439, 7953,  736,\n",
       "        8020, 1419, 8021, 2668, 3313, 6888, 7439, 7953,  736,  758, 8024,\n",
       "         684, 6733,  677, 2399, 2428, 1872, 1217, 6888, 7439, 7953, 7439,\n",
       "         753, 8020, 1419, 8021,  809,  677, 5442,  510, 2772,  782, 6716,\n",
       "         924, 7402, 3511, 3297, 6818,  671, 2399,  722, 1555, 1501, 5178,\n",
       "        3539, 5198, 1394, 6268, 1146,  966, 6888, 7439, 7953,  736,  758,\n",
       "        8020, 1419, 8021, 5635,  671,  722, 7279, 8024,  684, 6733,  677,\n",
       "        2399, 2428, 1872, 1217, 6888, 7439, 7953, 7439,  671, 8020, 1419,\n",
       "        8021,  809,  677, 5442,  676,  510, 7674, 3613, 5016, 1394, 1184,\n",
       "        7953, 3560, 3976,  722,  782, 6716,  924, 7402, 3511, 8024, 2746,\n",
       "        3176, 3315, 3298, 3417, 2137,  722,  671, 2399, 6900, 4500, 3309,\n",
       "        7279, 6629, 1993, 3189, 6629,  673, 3189, 1058, 8024, 2218, 3079,\n",
       "        2137, 6900, 4500, 3315, 6794, 3791, 5018, 1282,  758, 3454, 5018,\n",
       "         736, 7517, 4685, 7302, 3621, 3613, 2792, 1154, 2974, 3177, 1141,\n",
       "        1841, 3315, 3298,  991, 3389, 8024, 6874, 3309, 6213, 1398, 6900,\n",
       "        4500, 3315, 6794, 3791, 5018, 1282,  758, 3454, 5018,  736, 7517,\n",
       "        5018,  753, 3621, 6211, 2137, 8024,  684, 3176, 6900, 4500, 3309,\n",
       "        7279, 1058,  679, 2533, 1086, 4509, 6313, 6365, 3291, 8039, 7478,\n",
       "        7674, 3613, 5016, 1394, 1184, 7953]])>"
      ]
     },
     "execution_count": 41,
     "metadata": {},
     "output_type": "execute_result"
    }
   ],
   "source": [
    "input_ids"
   ]
  },
  {
   "cell_type": "code",
   "execution_count": 45,
   "metadata": {
    "scrolled": true
   },
   "outputs": [
    {
     "data": {
      "text/plain": [
       "<tf.Tensor: shape=(1, 512), dtype=int32, numpy=\n",
       "array([[ 101, 7032, 5052,  924, 1904, 2099, 5018, 8423, 8904, 9488, 9313,\n",
       "        9310, 5998, 3417, 7026,  519,  924, 7402, 3511, 6794, 4415, 1751,\n",
       "        1912, 2832, 6536, 5052, 4415, 6794, 3791,  520, 5018, 8115, 3454,\n",
       "        5018,  130, 7517, 6211, 2137, 8024, 3300, 7302,  782, 6716,  924,\n",
       "        7402, 3511, 3297, 6818,  671, 2399,  722, 1555, 1501, 5178, 3539,\n",
       "        5198, 1394, 6268, 1146,  966, 5016, 1394, 2792, 1154, 3560, 3976,\n",
       "         722,  671, 5442, 8024, 2533, 3079,  671, 6900, 4500, 3315, 6794,\n",
       "        3791, 5018, 8115, 3454, 5018,  130, 7517, 5018,  122, 3621, 2772,\n",
       "        5018,  123, 3621, 2792, 1154, 2974, 3177, 4685, 7302, 6211, 2137,\n",
       "        8024, 5632, 8438, 2399,  122, 3299,  122, 3189, 4495, 3126,  511,\n",
       "         671,  510,  898, 3087,  924, 7402, 3511, 6794, 4415, 1751, 1912,\n",
       "        2832, 6536, 5052, 4415, 6794, 3791, 8020,  809,  678, 5080, 4935,\n",
       "        3315, 6794, 3791, 8021, 5018, 1282,  758, 3454, 5018,  736, 7517,\n",
       "        6211, 2137, 6794, 4415,  753,  510,  782, 6716,  924, 7402, 3511,\n",
       "        3297, 6818,  671, 2399,  722, 1555, 1501, 5178, 3539, 5198, 1394,\n",
       "        6268, 1146,  966, 8020, 6243, 5050, 3175, 2466, 1350, 1274, 4372,\n",
       "        2994, 5050, 1825, 3976, 6284, 7353,  816, 8021, 5016, 1394,  678,\n",
       "        1154, 3560, 3976,  722,  671, 5442, 8024, 2533, 3079,  671, 6900,\n",
       "        4500, 3315, 6794, 3791, 5018, 1282,  758, 3454, 5018,  736, 7517,\n",
       "        5018,  671, 3621, 2772, 5018,  753, 3621, 2792, 1154, 2974, 3177,\n",
       "        8038,  113,  671,  114,  782, 6716,  924, 7402, 3511, 3297, 6818,\n",
       "         671, 2399,  722, 1555, 1501, 5178, 3539, 5198, 1394, 6268, 1146,\n",
       "         966,  855, 3176, 1059, 3511, 4518,  673, 1282, 4636, 1146,  855,\n",
       "         809,  677, 5442,  113,  753,  114,  782, 6716,  924, 7402, 3511,\n",
       "        3297, 6818,  671, 2399,  722, 1555, 1501, 5178, 3539, 5198, 1394,\n",
       "        6268, 1146,  966, 6733,  677, 2399, 2428, 1872, 1217, 6888, 7439,\n",
       "        7953,  671, 8020, 1419, 8021,  809,  677, 5442,  510, 2772,  782,\n",
       "        6716,  924, 7402, 3511, 3297, 6818,  671, 2399,  722, 1555, 1501,\n",
       "        5178, 3539, 5198, 1394, 6268, 1146,  966, 6888, 7439, 7953,  736,\n",
       "        8020, 1419, 8021, 2668, 3313, 6888, 7439, 7953,  736,  758, 8024,\n",
       "         684, 6733,  677, 2399, 2428, 1872, 1217, 6888, 7439, 7953, 7439,\n",
       "         753, 8020, 1419, 8021,  809,  677, 5442,  510, 2772,  782, 6716,\n",
       "         924, 7402, 3511, 3297, 6818,  671, 2399,  722, 1555, 1501, 5178,\n",
       "        3539, 5198, 1394, 6268, 1146,  966, 6888, 7439, 7953,  736,  758,\n",
       "        8020, 1419, 8021, 5635,  671,  722, 7279, 8024,  684, 6733,  677,\n",
       "        2399, 2428, 1872, 1217, 6888, 7439, 7953, 7439,  671, 8020, 1419,\n",
       "        8021,  809,  677, 5442,  676,  510, 7674, 3613, 5016, 1394, 1184,\n",
       "        7953, 3560, 3976,  722,  782, 6716,  924, 7402, 3511, 8024, 2746,\n",
       "        3176, 3315, 3298, 3417, 2137,  722,  671, 2399, 6900, 4500, 3309,\n",
       "        7279, 6629, 1993, 3189, 6629,  673, 3189, 1058, 8024, 2218, 3079,\n",
       "        2137, 6900, 4500, 3315, 6794, 3791, 5018, 1282,  758, 3454, 5018,\n",
       "         736, 7517, 4685, 7302, 3621, 3613, 2792, 1154, 2974, 3177, 1141,\n",
       "        1841, 3315, 3298,  991, 3389, 8024, 6874, 3309, 6213, 1398, 6900,\n",
       "        4500, 3315, 6794, 3791, 5018, 1282,  758, 3454, 5018,  736, 7517,\n",
       "        5018,  753, 3621, 6211, 2137, 8024,  684, 3176, 6900, 4500, 3309,\n",
       "        7279, 1058,  679, 2533, 1086, 4509, 6313, 6365, 3291, 8039, 7478,\n",
       "        7674, 3613, 5016, 1394, 1184, 7953]])>"
      ]
     },
     "execution_count": 45,
     "metadata": {},
     "output_type": "execute_result"
    }
   ],
   "source": [
    "input_ids #new"
   ]
  },
  {
   "cell_type": "markdown",
   "metadata": {},
   "source": [
    "Play ground"
   ]
  },
  {
   "cell_type": "code",
   "execution_count": 6,
   "metadata": {
    "scrolled": true
   },
   "outputs": [
    {
     "name": "stdout",
     "output_type": "stream",
     "text": [
      "Collecting tensorflow-datasets\n",
      "  Downloading https://files.pythonhosted.org/packages/88/b9/74c219b0310b3df0ac60c4948c4191b9377b6b746615b176819533096fb5/tensorflow_datasets-2.0.0-py3-none-any.whl (3.1MB)\n",
      "Collecting transformers\n",
      "  Downloading https://files.pythonhosted.org/packages/ee/fc/bd726a15ab2c66dc09306689d04da07a3770dad724f0883f0a4bfb745087/transformers-2.4.1-py3-none-any.whl (475kB)\n",
      "Requirement already satisfied: requests>=2.19.0 in c:\\programdata\\anaconda3\\lib\\site-packages (from tensorflow-datasets) (2.22.0)\n",
      "Collecting tensorflow-metadata (from tensorflow-datasets)\n",
      "  Downloading https://files.pythonhosted.org/packages/3c/aa/c4c3c9339fbe9d46edd390789d7033b4fa89e9f566d5723576dfdd3ed18e/tensorflow_metadata-0.21.1-py2.py3-none-any.whl\n",
      "Requirement already satisfied: protobuf>=3.6.1 in c:\\programdata\\anaconda3\\lib\\site-packages (from tensorflow-datasets) (3.10.0)\n",
      "Requirement already satisfied: absl-py in c:\\programdata\\anaconda3\\lib\\site-packages (from tensorflow-datasets) (0.8.1)\n",
      "Requirement already satisfied: termcolor in c:\\programdata\\anaconda3\\lib\\site-packages (from tensorflow-datasets) (1.1.0)\n",
      "Requirement already satisfied: wrapt in c:\\programdata\\anaconda3\\lib\\site-packages (from tensorflow-datasets) (1.11.2)\n",
      "Requirement already satisfied: attrs>=18.1.0 in c:\\programdata\\anaconda3\\lib\\site-packages (from tensorflow-datasets) (19.2.0)\n",
      "Requirement already satisfied: six in c:\\programdata\\anaconda3\\lib\\site-packages (from tensorflow-datasets) (1.12.0)\n",
      "Collecting dill (from tensorflow-datasets)\n",
      "  Downloading https://files.pythonhosted.org/packages/c7/11/345f3173809cea7f1a193bfbf02403fff250a3360e0e118a1630985e547d/dill-0.3.1.1.tar.gz (151kB)\n",
      "Requirement already satisfied: numpy in c:\\programdata\\anaconda3\\lib\\site-packages (from tensorflow-datasets) (1.16.5)\n",
      "Requirement already satisfied: tqdm in c:\\programdata\\anaconda3\\lib\\site-packages (from tensorflow-datasets) (4.36.1)\n",
      "Requirement already satisfied: future in c:\\programdata\\anaconda3\\lib\\site-packages (from tensorflow-datasets) (0.17.1)\n",
      "Collecting promise (from tensorflow-datasets)\n",
      "  Downloading https://files.pythonhosted.org/packages/cf/9c/fb5d48abfe5d791cd496e4242ebcf87a4bb2e0c3dcd6e0ae68c11426a528/promise-2.3.tar.gz\n",
      "Collecting tokenizers==0.0.11 (from transformers)\n",
      "  Downloading https://files.pythonhosted.org/packages/6a/d3/af5629cf53fac268dadcc69fd4db3096eda17e617ecfa9011787820dd59f/tokenizers-0.0.11-cp37-cp37m-win_amd64.whl (796kB)\n",
      "Collecting sacremoses (from transformers)\n",
      "  Downloading https://files.pythonhosted.org/packages/a6/b4/7a41d630547a4afd58143597d5a49e07bfd4c42914d8335b2a5657efc14b/sacremoses-0.0.38.tar.gz (860kB)\n",
      "Collecting regex!=2019.12.17 (from transformers)\n",
      "  Downloading https://files.pythonhosted.org/packages/87/61/a3d8311dccec246605983a39b074eb175338f21cba774db0163e5ad0a139/regex-2020.1.8-cp37-cp37m-win_amd64.whl (271kB)\n",
      "Collecting sentencepiece (from transformers)\n",
      "  Downloading https://files.pythonhosted.org/packages/61/c5/e7e2f45c076097ac1a58b21288be25ae4eb4044be899e6c04cd897a00f15/sentencepiece-0.1.85-cp37-cp37m-win_amd64.whl (1.2MB)\n",
      "Requirement already satisfied: filelock in c:\\programdata\\anaconda3\\lib\\site-packages (from transformers) (3.0.12)\n",
      "Requirement already satisfied: boto3 in c:\\programdata\\anaconda3\\lib\\site-packages (from transformers) (1.10.15)\n",
      "Requirement already satisfied: certifi>=2017.4.17 in c:\\programdata\\anaconda3\\lib\\site-packages (from requests>=2.19.0->tensorflow-datasets) (2019.9.11)\n",
      "Requirement already satisfied: idna<2.9,>=2.5 in c:\\programdata\\anaconda3\\lib\\site-packages (from requests>=2.19.0->tensorflow-datasets) (2.8)\n",
      "Requirement already satisfied: chardet<3.1.0,>=3.0.2 in c:\\programdata\\anaconda3\\lib\\site-packages (from requests>=2.19.0->tensorflow-datasets) (3.0.4)\n",
      "Requirement already satisfied: urllib3!=1.25.0,!=1.25.1,<1.26,>=1.21.1 in c:\\programdata\\anaconda3\\lib\\site-packages (from requests>=2.19.0->tensorflow-datasets) (1.24.2)\n",
      "Collecting googleapis-common-protos (from tensorflow-metadata->tensorflow-datasets)\n",
      "  Downloading https://files.pythonhosted.org/packages/05/46/168fd780f594a4d61122f7f3dc0561686084319ad73b4febbf02ae8b32cf/googleapis-common-protos-1.51.0.tar.gz\n",
      "Requirement already satisfied: setuptools in c:\\programdata\\anaconda3\\lib\\site-packages (from protobuf>=3.6.1->tensorflow-datasets) (41.4.0)\n",
      "Requirement already satisfied: click in c:\\programdata\\anaconda3\\lib\\site-packages (from sacremoses->transformers) (7.0)\n",
      "Requirement already satisfied: joblib in c:\\programdata\\anaconda3\\lib\\site-packages (from sacremoses->transformers) (0.13.2)\n",
      "Requirement already satisfied: s3transfer<0.3.0,>=0.2.0 in c:\\programdata\\anaconda3\\lib\\site-packages (from boto3->transformers) (0.2.1)\n",
      "Requirement already satisfied: jmespath<1.0.0,>=0.7.1 in c:\\programdata\\anaconda3\\lib\\site-packages (from boto3->transformers) (0.9.4)\n",
      "Requirement already satisfied: botocore<1.14.0,>=1.13.15 in c:\\programdata\\anaconda3\\lib\\site-packages (from boto3->transformers) (1.13.15)\n",
      "Requirement already satisfied: docutils<0.16,>=0.10 in c:\\programdata\\anaconda3\\lib\\site-packages (from botocore<1.14.0,>=1.13.15->boto3->transformers) (0.15.2)\n",
      "Requirement already satisfied: python-dateutil<2.8.1,>=2.1; python_version >= \"2.7\" in c:\\programdata\\anaconda3\\lib\\site-packages (from botocore<1.14.0,>=1.13.15->boto3->transformers) (2.8.0)\n",
      "Building wheels for collected packages: dill, promise, sacremoses, googleapis-common-protos\n",
      "  Building wheel for dill (setup.py): started\n",
      "  Building wheel for dill (setup.py): finished with status 'done'\n",
      "  Created wheel for dill: filename=dill-0.3.1.1-cp37-none-any.whl size=78598 sha256=fa60f0e28150eb6aebafb0f03c3a37fe8401e8fca8cc5829d319b9428aa346e5\n",
      "  Stored in directory: C:\\Users\\szwang\\AppData\\Local\\pip\\Cache\\wheels\\59\\b1\\91\\f02e76c732915c4015ab4010f3015469866c1eb9b14058d8e7\n",
      "  Building wheel for promise (setup.py): started\n",
      "  Building wheel for promise (setup.py): finished with status 'done'\n",
      "  Created wheel for promise: filename=promise-2.3-cp37-none-any.whl size=21500 sha256=945651077f8c79912f94fcee5eaadb0c5b500236500321a5435e0f02a1ef8d50\n",
      "  Stored in directory: C:\\Users\\szwang\\AppData\\Local\\pip\\Cache\\wheels\\19\\49\\34\\c3c1e78bcb954c49e5ec0d31784fe63d14d427f316b12fbde9\n",
      "  Building wheel for sacremoses (setup.py): started\n",
      "  Building wheel for sacremoses (setup.py): finished with status 'done'\n",
      "  Created wheel for sacremoses: filename=sacremoses-0.0.38-cp37-none-any.whl size=884633 sha256=5c7de5168fae7eac819c532e0bf9a781b96c33add2d35c47fa96bc5c110832e6\n",
      "  Stored in directory: C:\\Users\\szwang\\AppData\\Local\\pip\\Cache\\wheels\\6d\\ec\\1a\\21b8912e35e02741306f35f66c785f3afe94de754a0eaf1422\n",
      "  Building wheel for googleapis-common-protos (setup.py): started\n",
      "  Building wheel for googleapis-common-protos (setup.py): finished with status 'done'\n",
      "  Created wheel for googleapis-common-protos: filename=googleapis_common_protos-1.51.0-cp37-none-any.whl size=77603 sha256=061cf77ad0a1803015e79712da9ae552e4a5de81a4eb54a5f0df33cf7f4e89b4\n",
      "  Stored in directory: C:\\Users\\szwang\\AppData\\Local\\pip\\Cache\\wheels\\2c\\f9\\7f\\6eb87e636072bf467e25348bbeb96849333e6a080dca78f706\n",
      "Successfully built dill promise sacremoses googleapis-common-protos\n",
      "Installing collected packages: googleapis-common-protos, tensorflow-metadata, dill, promise, tensorflow-datasets, tokenizers, regex, sacremoses, sentencepiece, transformers\n",
      "Successfully installed dill-0.3.1.1 googleapis-common-protos-1.51.0 promise-2.3 regex-2020.1.8 sacremoses-0.0.38 sentencepiece-0.1.85 tensorflow-datasets-2.0.0 tensorflow-metadata-0.21.1 tokenizers-0.0.11 transformers-2.4.1\n"
     ]
    }
   ],
   "source": [
    "!pip install tensorflow-datasets transformers tensorflow"
   ]
  },
  {
   "cell_type": "code",
   "execution_count": null,
   "metadata": {},
   "outputs": [],
   "source": [
    "# tensorflow "
   ]
  },
  {
   "cell_type": "code",
   "execution_count": 7,
   "metadata": {},
   "outputs": [],
   "source": [
    "import os\n",
    "import tensorflow as tf\n",
    "import tensorflow_datasets\n",
    "from transformers import BertTokenizer, TFBertForSequenceClassification, BertConfig, glue_convert_examples_to_features, glue_processors"
   ]
  },
  {
   "cell_type": "code",
   "execution_count": 8,
   "metadata": {},
   "outputs": [],
   "source": [
    "# script parameters\n",
    "BATCH_SIZE = 32\n",
    "EVAL_BATCH_SIZE = BATCH_SIZE * 2\n",
    "EPOCHS = 3\n",
    "\n",
    "TASK = \"sst-2\"\n",
    "\n",
    "if TASK == \"sst-2\":\n",
    "    TFDS_TASK = \"sst2\"\n",
    "elif TASK == \"sts-b\":\n",
    "    TFDS_TASK = \"stsb\"\n",
    "else:\n",
    "    TFDS_TASK = TASK"
   ]
  },
  {
   "cell_type": "code",
   "execution_count": 9,
   "metadata": {},
   "outputs": [
    {
     "name": "stdout",
     "output_type": "stream",
     "text": [
      "2\n"
     ]
    }
   ],
   "source": [
    "num_labels = len(glue_processors[TASK]().get_labels())\n",
    "print(num_labels)"
   ]
  },
  {
   "cell_type": "code",
   "execution_count": 18,
   "metadata": {
    "scrolled": true
   },
   "outputs": [
    {
     "name": "stderr",
     "output_type": "stream",
     "text": [
      "INFO:absl:Load pre-computed datasetinfo (eg: splits) from bucket.\n",
      "INFO:absl:Loading info from GCS for glue/sst2/1.0.0\n",
      "INFO:absl:Field info.description from disk and from code do not match. Keeping the one from code.\n",
      "INFO:absl:Field info.location from disk and from code do not match. Keeping the one from code.\n",
      "INFO:absl:Generating dataset glue (D:/python/LEO_TM/BERT_chinese_LM_processing/Model/tfds\\glue\\sst2\\1.0.0)\n"
     ]
    },
    {
     "name": "stdout",
     "output_type": "stream",
     "text": [
      "Downloading and preparing dataset glue (7.09 MiB) to D:/python/LEO_TM/BERT_chinese_LM_processing/Model/tfds\\glue\\sst2\\1.0.0...\n"
     ]
    },
    {
     "data": {
      "application/vnd.jupyter.widget-view+json": {
       "model_id": "1329d8e0f5ed470d807471bd08289fe3",
       "version_major": 2,
       "version_minor": 0
      },
      "text/plain": [
       "HBox(children=(IntProgress(value=1, bar_style='info', description='Dl Completed...', max=1, style=ProgressStyl…"
      ]
     },
     "metadata": {},
     "output_type": "display_data"
    },
    {
     "data": {
      "application/vnd.jupyter.widget-view+json": {
       "model_id": "c3d67409e9c8469686bd8e3b0dd31724",
       "version_major": 2,
       "version_minor": 0
      },
      "text/plain": [
       "HBox(children=(IntProgress(value=1, bar_style='info', description='Dl Size...', max=1, style=ProgressStyle(des…"
      ]
     },
     "metadata": {},
     "output_type": "display_data"
    },
    {
     "data": {
      "application/vnd.jupyter.widget-view+json": {
       "model_id": "dd52114681a54344a68b132f29883c82",
       "version_major": 2,
       "version_minor": 0
      },
      "text/plain": [
       "HBox(children=(IntProgress(value=1, bar_style='info', description='Extraction completed...', max=1, style=Prog…"
      ]
     },
     "metadata": {},
     "output_type": "display_data"
    },
    {
     "name": "stderr",
     "output_type": "stream",
     "text": [
      "INFO:absl:URL https://firebasestorage.googleapis.com/v0/b/mtl-sentence-representations.appspot.com/o/data%2FSST-2.zip?alt=media&token=aabc5f6b-e466-44a2-b9b4-cf6337f84ac8 already downloaded: reusing D:/python/LEO_TM/BERT_chinese_LM_processing/Model/tfds\\downloads\\fire.goog.com_v0_b_mtl-sent-repr.apps.co1n4W-1VznBsyzc6Yd1ltscEn3DItk8CCKB9kBXwW3qo.zipalt=media&token=aabc5f6b-e466-44a2-b9b4-cf6337f84ac8.\n"
     ]
    },
    {
     "name": "stdout",
     "output_type": "stream",
     "text": [
      "\n",
      "\n",
      "\n"
     ]
    },
    {
     "ename": "ExtractError",
     "evalue": "Error while extracting D:/python/LEO_TM/BERT_chinese_LM_processing/Model/tfds\\downloads\\fire.goog.com_v0_b_mtl-sent-repr.apps.co1n4W-1VznBsyzc6Yd1ltscEn3DItk8CCKB9kBXwW3qo.zipalt=media&token=aabc5f6b-e466-44a2-b9b4-cf6337f84ac8 to D:/python/LEO_TM/BERT_chinese_LM_processing/Model/tfds\\downloads\\extracted\\ZIP.fire.goog.com_v0_b_mtl-sent-repr.apps.co1n4W-1VznBsyzc6Yd1ltscEn3DItk8CCKB9kBXwW3qo.zipalt=media&token=aabc5f6b-e466-44a2-b9b4-cf6337f84ac8 (file: SST-2) : Failed to create a directory: D:/python/LEO_TM/BERT_chinese_LM_processing/Model/tfds\\downloads\\extracted\\ZIP.fire.goog.com_v0_b_mtl-sent-repr.apps.co1n4W-1VznBsyzc6Yd1ltscEn3DItk8CCKB9kBXwW3qo.zipalt=media&token=aabc5f6b-e466-44a2-b9b4-cf6337f84ac8.incomplete_81863b0bc2fb4b50abbf0239c21aaf8f; No such file or directory",
     "output_type": "error",
     "traceback": [
      "\u001b[1;31m---------------------------------------------------------------------------\u001b[0m",
      "\u001b[1;31mNotFoundError\u001b[0m                             Traceback (most recent call last)",
      "\u001b[1;32mC:\\ProgramData\\Anaconda3\\lib\\site-packages\\tensorflow_datasets\\core\\download\\extractor.py\u001b[0m in \u001b[0;36m_sync_extract\u001b[1;34m(self, from_path, method, to_path)\u001b[0m\n\u001b[0;32m     91\u001b[0m         \u001b[0mpath\u001b[0m \u001b[1;33m=\u001b[0m \u001b[0mtf\u001b[0m\u001b[1;33m.\u001b[0m\u001b[0mcompat\u001b[0m\u001b[1;33m.\u001b[0m\u001b[0mas_text\u001b[0m\u001b[1;33m(\u001b[0m\u001b[0mpath\u001b[0m\u001b[1;33m)\u001b[0m\u001b[1;33m\u001b[0m\u001b[1;33m\u001b[0m\u001b[0m\n\u001b[1;32m---> 92\u001b[1;33m         \u001b[0m_copy\u001b[0m\u001b[1;33m(\u001b[0m\u001b[0mhandle\u001b[0m\u001b[1;33m,\u001b[0m \u001b[0mpath\u001b[0m \u001b[1;32mand\u001b[0m \u001b[0mos\u001b[0m\u001b[1;33m.\u001b[0m\u001b[0mpath\u001b[0m\u001b[1;33m.\u001b[0m\u001b[0mjoin\u001b[0m\u001b[1;33m(\u001b[0m\u001b[0mto_path_tmp\u001b[0m\u001b[1;33m,\u001b[0m \u001b[0mpath\u001b[0m\u001b[1;33m)\u001b[0m \u001b[1;32mor\u001b[0m \u001b[0mto_path_tmp\u001b[0m\u001b[1;33m)\u001b[0m\u001b[1;33m\u001b[0m\u001b[1;33m\u001b[0m\u001b[0m\n\u001b[0m\u001b[0;32m     93\u001b[0m     \u001b[1;32mexcept\u001b[0m \u001b[0mBaseException\u001b[0m \u001b[1;32mas\u001b[0m \u001b[0merr\u001b[0m\u001b[1;33m:\u001b[0m\u001b[1;33m\u001b[0m\u001b[1;33m\u001b[0m\u001b[0m\n",
      "\u001b[1;32mC:\\ProgramData\\Anaconda3\\lib\\site-packages\\tensorflow_datasets\\core\\download\\extractor.py\u001b[0m in \u001b[0;36m_copy\u001b[1;34m(src_file, dest_path)\u001b[0m\n\u001b[0;32m    107\u001b[0m   \u001b[1;34m\"\"\"Copy data read from src file obj to new file in dest_path.\"\"\"\u001b[0m\u001b[1;33m\u001b[0m\u001b[1;33m\u001b[0m\u001b[0m\n\u001b[1;32m--> 108\u001b[1;33m   \u001b[0mtf\u001b[0m\u001b[1;33m.\u001b[0m\u001b[0mio\u001b[0m\u001b[1;33m.\u001b[0m\u001b[0mgfile\u001b[0m\u001b[1;33m.\u001b[0m\u001b[0mmakedirs\u001b[0m\u001b[1;33m(\u001b[0m\u001b[0mos\u001b[0m\u001b[1;33m.\u001b[0m\u001b[0mpath\u001b[0m\u001b[1;33m.\u001b[0m\u001b[0mdirname\u001b[0m\u001b[1;33m(\u001b[0m\u001b[0mdest_path\u001b[0m\u001b[1;33m)\u001b[0m\u001b[1;33m)\u001b[0m\u001b[1;33m\u001b[0m\u001b[1;33m\u001b[0m\u001b[0m\n\u001b[0m\u001b[0;32m    109\u001b[0m   \u001b[1;32mwith\u001b[0m \u001b[0mtf\u001b[0m\u001b[1;33m.\u001b[0m\u001b[0mio\u001b[0m\u001b[1;33m.\u001b[0m\u001b[0mgfile\u001b[0m\u001b[1;33m.\u001b[0m\u001b[0mGFile\u001b[0m\u001b[1;33m(\u001b[0m\u001b[0mdest_path\u001b[0m\u001b[1;33m,\u001b[0m \u001b[1;34m'wb'\u001b[0m\u001b[1;33m)\u001b[0m \u001b[1;32mas\u001b[0m \u001b[0mdest_file\u001b[0m\u001b[1;33m:\u001b[0m\u001b[1;33m\u001b[0m\u001b[1;33m\u001b[0m\u001b[0m\n",
      "\u001b[1;32mC:\\ProgramData\\Anaconda3\\lib\\site-packages\\tensorflow_core\\python\\lib\\io\\file_io.py\u001b[0m in \u001b[0;36mrecursive_create_dir_v2\u001b[1;34m(path)\u001b[0m\n\u001b[0;32m    454\u001b[0m   \"\"\"\n\u001b[1;32m--> 455\u001b[1;33m   \u001b[0mpywrap_tensorflow\u001b[0m\u001b[1;33m.\u001b[0m\u001b[0mRecursivelyCreateDir\u001b[0m\u001b[1;33m(\u001b[0m\u001b[0mcompat\u001b[0m\u001b[1;33m.\u001b[0m\u001b[0mas_bytes\u001b[0m\u001b[1;33m(\u001b[0m\u001b[0mpath\u001b[0m\u001b[1;33m)\u001b[0m\u001b[1;33m)\u001b[0m\u001b[1;33m\u001b[0m\u001b[1;33m\u001b[0m\u001b[0m\n\u001b[0m\u001b[0;32m    456\u001b[0m \u001b[1;33m\u001b[0m\u001b[0m\n",
      "\u001b[1;31mNotFoundError\u001b[0m: Failed to create a directory: D:/python/LEO_TM/BERT_chinese_LM_processing/Model/tfds\\downloads\\extracted\\ZIP.fire.goog.com_v0_b_mtl-sent-repr.apps.co1n4W-1VznBsyzc6Yd1ltscEn3DItk8CCKB9kBXwW3qo.zipalt=media&token=aabc5f6b-e466-44a2-b9b4-cf6337f84ac8.incomplete_81863b0bc2fb4b50abbf0239c21aaf8f; No such file or directory",
      "\nDuring handling of the above exception, another exception occurred:\n",
      "\u001b[1;31mExtractError\u001b[0m                              Traceback (most recent call last)",
      "\u001b[1;32m<ipython-input-18-7f8cd07e2b83>\u001b[0m in \u001b[0;36m<module>\u001b[1;34m\u001b[0m\n\u001b[1;32m----> 1\u001b[1;33m \u001b[0mdata\u001b[0m\u001b[1;33m,\u001b[0m \u001b[0minfo\u001b[0m \u001b[1;33m=\u001b[0m \u001b[0mtensorflow_datasets\u001b[0m\u001b[1;33m.\u001b[0m\u001b[0mload\u001b[0m\u001b[1;33m(\u001b[0m\u001b[1;34mf'glue/{TFDS_TASK}'\u001b[0m\u001b[1;33m,\u001b[0m\u001b[0min_memory\u001b[0m\u001b[1;33m=\u001b[0m\u001b[1;32mTrue\u001b[0m\u001b[1;33m,\u001b[0m \u001b[0mdata_dir\u001b[0m\u001b[1;33m=\u001b[0m\u001b[1;34m'D:/python/LEO_TM/BERT_chinese_LM_processing/Model/tfds'\u001b[0m\u001b[1;33m,\u001b[0m\u001b[0mwith_info\u001b[0m\u001b[1;33m=\u001b[0m\u001b[1;32mTrue\u001b[0m\u001b[1;33m)\u001b[0m\u001b[1;33m\u001b[0m\u001b[1;33m\u001b[0m\u001b[0m\n\u001b[0m\u001b[0;32m      2\u001b[0m \u001b[0mtrain_dataset\u001b[0m \u001b[1;33m=\u001b[0m \u001b[0mglue_convert_examples_to_features\u001b[0m\u001b[1;33m(\u001b[0m\u001b[0mdata\u001b[0m\u001b[1;33m[\u001b[0m\u001b[1;34m'train'\u001b[0m\u001b[1;33m]\u001b[0m\u001b[1;33m,\u001b[0m \u001b[0mtokenizer\u001b[0m\u001b[1;33m,\u001b[0m \u001b[1;36m128\u001b[0m\u001b[1;33m,\u001b[0m \u001b[0mTASK\u001b[0m\u001b[1;33m)\u001b[0m\u001b[1;33m\u001b[0m\u001b[1;33m\u001b[0m\u001b[0m\n",
      "\u001b[1;32mC:\\ProgramData\\Anaconda3\\lib\\site-packages\\tensorflow_datasets\\core\\api_utils.py\u001b[0m in \u001b[0;36mdisallow_positional_args_dec\u001b[1;34m(fn, instance, args, kwargs)\u001b[0m\n\u001b[0;32m     50\u001b[0m     \u001b[0m_check_no_positional\u001b[0m\u001b[1;33m(\u001b[0m\u001b[0mfn\u001b[0m\u001b[1;33m,\u001b[0m \u001b[0margs\u001b[0m\u001b[1;33m,\u001b[0m \u001b[0mismethod\u001b[0m\u001b[1;33m,\u001b[0m \u001b[0mallowed\u001b[0m\u001b[1;33m=\u001b[0m\u001b[0mallowed\u001b[0m\u001b[1;33m)\u001b[0m\u001b[1;33m\u001b[0m\u001b[1;33m\u001b[0m\u001b[0m\n\u001b[0;32m     51\u001b[0m     \u001b[0m_check_required\u001b[0m\u001b[1;33m(\u001b[0m\u001b[0mfn\u001b[0m\u001b[1;33m,\u001b[0m \u001b[0mkwargs\u001b[0m\u001b[1;33m)\u001b[0m\u001b[1;33m\u001b[0m\u001b[1;33m\u001b[0m\u001b[0m\n\u001b[1;32m---> 52\u001b[1;33m     \u001b[1;32mreturn\u001b[0m \u001b[0mfn\u001b[0m\u001b[1;33m(\u001b[0m\u001b[1;33m*\u001b[0m\u001b[0margs\u001b[0m\u001b[1;33m,\u001b[0m \u001b[1;33m**\u001b[0m\u001b[0mkwargs\u001b[0m\u001b[1;33m)\u001b[0m\u001b[1;33m\u001b[0m\u001b[1;33m\u001b[0m\u001b[0m\n\u001b[0m\u001b[0;32m     53\u001b[0m \u001b[1;33m\u001b[0m\u001b[0m\n\u001b[0;32m     54\u001b[0m   \u001b[1;32mreturn\u001b[0m \u001b[0mdisallow_positional_args_dec\u001b[0m\u001b[1;33m(\u001b[0m\u001b[0mwrapped\u001b[0m\u001b[1;33m)\u001b[0m  \u001b[1;31m# pylint: disable=no-value-for-parameter\u001b[0m\u001b[1;33m\u001b[0m\u001b[1;33m\u001b[0m\u001b[0m\n",
      "\u001b[1;32mC:\\ProgramData\\Anaconda3\\lib\\site-packages\\tensorflow_datasets\\core\\registered.py\u001b[0m in \u001b[0;36mload\u001b[1;34m(name, split, data_dir, batch_size, in_memory, shuffle_files, download, as_supervised, decoders, read_config, with_info, builder_kwargs, download_and_prepare_kwargs, as_dataset_kwargs, try_gcs)\u001b[0m\n\u001b[0;32m    303\u001b[0m   \u001b[1;32mif\u001b[0m \u001b[0mdownload\u001b[0m\u001b[1;33m:\u001b[0m\u001b[1;33m\u001b[0m\u001b[1;33m\u001b[0m\u001b[0m\n\u001b[0;32m    304\u001b[0m     \u001b[0mdownload_and_prepare_kwargs\u001b[0m \u001b[1;33m=\u001b[0m \u001b[0mdownload_and_prepare_kwargs\u001b[0m \u001b[1;32mor\u001b[0m \u001b[1;33m{\u001b[0m\u001b[1;33m}\u001b[0m\u001b[1;33m\u001b[0m\u001b[1;33m\u001b[0m\u001b[0m\n\u001b[1;32m--> 305\u001b[1;33m     \u001b[0mdbuilder\u001b[0m\u001b[1;33m.\u001b[0m\u001b[0mdownload_and_prepare\u001b[0m\u001b[1;33m(\u001b[0m\u001b[1;33m**\u001b[0m\u001b[0mdownload_and_prepare_kwargs\u001b[0m\u001b[1;33m)\u001b[0m\u001b[1;33m\u001b[0m\u001b[1;33m\u001b[0m\u001b[0m\n\u001b[0m\u001b[0;32m    306\u001b[0m \u001b[1;33m\u001b[0m\u001b[0m\n\u001b[0;32m    307\u001b[0m   \u001b[1;32mif\u001b[0m \u001b[0mas_dataset_kwargs\u001b[0m \u001b[1;32mis\u001b[0m \u001b[1;32mNone\u001b[0m\u001b[1;33m:\u001b[0m\u001b[1;33m\u001b[0m\u001b[1;33m\u001b[0m\u001b[0m\n",
      "\u001b[1;32mC:\\ProgramData\\Anaconda3\\lib\\site-packages\\tensorflow_datasets\\core\\api_utils.py\u001b[0m in \u001b[0;36mdisallow_positional_args_dec\u001b[1;34m(fn, instance, args, kwargs)\u001b[0m\n\u001b[0;32m     50\u001b[0m     \u001b[0m_check_no_positional\u001b[0m\u001b[1;33m(\u001b[0m\u001b[0mfn\u001b[0m\u001b[1;33m,\u001b[0m \u001b[0margs\u001b[0m\u001b[1;33m,\u001b[0m \u001b[0mismethod\u001b[0m\u001b[1;33m,\u001b[0m \u001b[0mallowed\u001b[0m\u001b[1;33m=\u001b[0m\u001b[0mallowed\u001b[0m\u001b[1;33m)\u001b[0m\u001b[1;33m\u001b[0m\u001b[1;33m\u001b[0m\u001b[0m\n\u001b[0;32m     51\u001b[0m     \u001b[0m_check_required\u001b[0m\u001b[1;33m(\u001b[0m\u001b[0mfn\u001b[0m\u001b[1;33m,\u001b[0m \u001b[0mkwargs\u001b[0m\u001b[1;33m)\u001b[0m\u001b[1;33m\u001b[0m\u001b[1;33m\u001b[0m\u001b[0m\n\u001b[1;32m---> 52\u001b[1;33m     \u001b[1;32mreturn\u001b[0m \u001b[0mfn\u001b[0m\u001b[1;33m(\u001b[0m\u001b[1;33m*\u001b[0m\u001b[0margs\u001b[0m\u001b[1;33m,\u001b[0m \u001b[1;33m**\u001b[0m\u001b[0mkwargs\u001b[0m\u001b[1;33m)\u001b[0m\u001b[1;33m\u001b[0m\u001b[1;33m\u001b[0m\u001b[0m\n\u001b[0m\u001b[0;32m     53\u001b[0m \u001b[1;33m\u001b[0m\u001b[0m\n\u001b[0;32m     54\u001b[0m   \u001b[1;32mreturn\u001b[0m \u001b[0mdisallow_positional_args_dec\u001b[0m\u001b[1;33m(\u001b[0m\u001b[0mwrapped\u001b[0m\u001b[1;33m)\u001b[0m  \u001b[1;31m# pylint: disable=no-value-for-parameter\u001b[0m\u001b[1;33m\u001b[0m\u001b[1;33m\u001b[0m\u001b[0m\n",
      "\u001b[1;32mC:\\ProgramData\\Anaconda3\\lib\\site-packages\\tensorflow_datasets\\core\\dataset_builder.py\u001b[0m in \u001b[0;36mdownload_and_prepare\u001b[1;34m(self, download_dir, download_config)\u001b[0m\n\u001b[0;32m    332\u001b[0m           self._download_and_prepare(\n\u001b[0;32m    333\u001b[0m               \u001b[0mdl_manager\u001b[0m\u001b[1;33m=\u001b[0m\u001b[0mdl_manager\u001b[0m\u001b[1;33m,\u001b[0m\u001b[1;33m\u001b[0m\u001b[1;33m\u001b[0m\u001b[0m\n\u001b[1;32m--> 334\u001b[1;33m               download_config=download_config)\n\u001b[0m\u001b[0;32m    335\u001b[0m \u001b[1;33m\u001b[0m\u001b[0m\n\u001b[0;32m    336\u001b[0m           \u001b[1;31m# NOTE: If modifying the lines below to put additional information in\u001b[0m\u001b[1;33m\u001b[0m\u001b[1;33m\u001b[0m\u001b[1;33m\u001b[0m\u001b[0m\n",
      "\u001b[1;32mC:\\ProgramData\\Anaconda3\\lib\\site-packages\\tensorflow_datasets\\core\\dataset_builder.py\u001b[0m in \u001b[0;36m_download_and_prepare\u001b[1;34m(self, dl_manager, download_config)\u001b[0m\n\u001b[0;32m   1028\u001b[0m     super(GeneratorBasedBuilder, self)._download_and_prepare(\n\u001b[0;32m   1029\u001b[0m         \u001b[0mdl_manager\u001b[0m\u001b[1;33m=\u001b[0m\u001b[0mdl_manager\u001b[0m\u001b[1;33m,\u001b[0m\u001b[1;33m\u001b[0m\u001b[1;33m\u001b[0m\u001b[0m\n\u001b[1;32m-> 1030\u001b[1;33m         \u001b[0mmax_examples_per_split\u001b[0m\u001b[1;33m=\u001b[0m\u001b[0mdownload_config\u001b[0m\u001b[1;33m.\u001b[0m\u001b[0mmax_examples_per_split\u001b[0m\u001b[1;33m,\u001b[0m\u001b[1;33m\u001b[0m\u001b[1;33m\u001b[0m\u001b[0m\n\u001b[0m\u001b[0;32m   1031\u001b[0m     )\n\u001b[0;32m   1032\u001b[0m \u001b[1;33m\u001b[0m\u001b[0m\n",
      "\u001b[1;32mC:\\ProgramData\\Anaconda3\\lib\\site-packages\\tensorflow_datasets\\core\\dataset_builder.py\u001b[0m in \u001b[0;36m_download_and_prepare\u001b[1;34m(self, dl_manager, **prepare_split_kwargs)\u001b[0m\n\u001b[0;32m    869\u001b[0m         prepare_split_kwargs)\n\u001b[0;32m    870\u001b[0m     for split_generator in self._split_generators(\n\u001b[1;32m--> 871\u001b[1;33m         dl_manager, **split_generators_kwargs):\n\u001b[0m\u001b[0;32m    872\u001b[0m       \u001b[1;32mif\u001b[0m \u001b[0msplits_lib\u001b[0m\u001b[1;33m.\u001b[0m\u001b[0mSplit\u001b[0m\u001b[1;33m.\u001b[0m\u001b[0mALL\u001b[0m \u001b[1;33m==\u001b[0m \u001b[0msplit_generator\u001b[0m\u001b[1;33m.\u001b[0m\u001b[0msplit_info\u001b[0m\u001b[1;33m.\u001b[0m\u001b[0mname\u001b[0m\u001b[1;33m:\u001b[0m\u001b[1;33m\u001b[0m\u001b[1;33m\u001b[0m\u001b[0m\n\u001b[0;32m    873\u001b[0m         raise ValueError(\n",
      "\u001b[1;32mC:\\ProgramData\\Anaconda3\\lib\\site-packages\\tensorflow_datasets\\text\\glue.py\u001b[0m in \u001b[0;36m_split_generators\u001b[1;34m(self, dl_manager)\u001b[0m\n\u001b[0;32m    456\u001b[0m       })\n\u001b[0;32m    457\u001b[0m     \u001b[1;32melse\u001b[0m\u001b[1;33m:\u001b[0m\u001b[1;33m\u001b[0m\u001b[1;33m\u001b[0m\u001b[0m\n\u001b[1;32m--> 458\u001b[1;33m       \u001b[0mdl_dir\u001b[0m \u001b[1;33m=\u001b[0m \u001b[0mdl_manager\u001b[0m\u001b[1;33m.\u001b[0m\u001b[0mdownload_and_extract\u001b[0m\u001b[1;33m(\u001b[0m\u001b[0mself\u001b[0m\u001b[1;33m.\u001b[0m\u001b[0mbuilder_config\u001b[0m\u001b[1;33m.\u001b[0m\u001b[0mdata_url\u001b[0m\u001b[1;33m)\u001b[0m\u001b[1;33m\u001b[0m\u001b[1;33m\u001b[0m\u001b[0m\n\u001b[0m\u001b[0;32m    459\u001b[0m       \u001b[0mdata_dir\u001b[0m \u001b[1;33m=\u001b[0m \u001b[0mos\u001b[0m\u001b[1;33m.\u001b[0m\u001b[0mpath\u001b[0m\u001b[1;33m.\u001b[0m\u001b[0mjoin\u001b[0m\u001b[1;33m(\u001b[0m\u001b[0mdl_dir\u001b[0m\u001b[1;33m,\u001b[0m \u001b[0mself\u001b[0m\u001b[1;33m.\u001b[0m\u001b[0mbuilder_config\u001b[0m\u001b[1;33m.\u001b[0m\u001b[0mdata_dir\u001b[0m\u001b[1;33m)\u001b[0m\u001b[1;33m\u001b[0m\u001b[1;33m\u001b[0m\u001b[0m\n\u001b[0;32m    460\u001b[0m       \u001b[0mmrpc_files\u001b[0m \u001b[1;33m=\u001b[0m \u001b[1;32mNone\u001b[0m\u001b[1;33m\u001b[0m\u001b[1;33m\u001b[0m\u001b[0m\n",
      "\u001b[1;32mC:\\ProgramData\\Anaconda3\\lib\\site-packages\\tensorflow_datasets\\core\\download\\download_manager.py\u001b[0m in \u001b[0;36mdownload_and_extract\u001b[1;34m(self, url_or_urls)\u001b[0m\n\u001b[0;32m    372\u001b[0m     \u001b[1;32mwith\u001b[0m \u001b[0mself\u001b[0m\u001b[1;33m.\u001b[0m\u001b[0m_downloader\u001b[0m\u001b[1;33m.\u001b[0m\u001b[0mtqdm\u001b[0m\u001b[1;33m(\u001b[0m\u001b[1;33m)\u001b[0m\u001b[1;33m:\u001b[0m\u001b[1;33m\u001b[0m\u001b[1;33m\u001b[0m\u001b[0m\n\u001b[0;32m    373\u001b[0m       \u001b[1;32mwith\u001b[0m \u001b[0mself\u001b[0m\u001b[1;33m.\u001b[0m\u001b[0m_extractor\u001b[0m\u001b[1;33m.\u001b[0m\u001b[0mtqdm\u001b[0m\u001b[1;33m(\u001b[0m\u001b[1;33m)\u001b[0m\u001b[1;33m:\u001b[0m\u001b[1;33m\u001b[0m\u001b[1;33m\u001b[0m\u001b[0m\n\u001b[1;32m--> 374\u001b[1;33m         \u001b[1;32mreturn\u001b[0m \u001b[0m_map_promise\u001b[0m\u001b[1;33m(\u001b[0m\u001b[0mself\u001b[0m\u001b[1;33m.\u001b[0m\u001b[0m_download_extract\u001b[0m\u001b[1;33m,\u001b[0m \u001b[0murl_or_urls\u001b[0m\u001b[1;33m)\u001b[0m\u001b[1;33m\u001b[0m\u001b[1;33m\u001b[0m\u001b[0m\n\u001b[0m\u001b[0;32m    375\u001b[0m \u001b[1;33m\u001b[0m\u001b[0m\n\u001b[0;32m    376\u001b[0m   \u001b[1;33m@\u001b[0m\u001b[0mproperty\u001b[0m\u001b[1;33m\u001b[0m\u001b[1;33m\u001b[0m\u001b[0m\n",
      "\u001b[1;32mC:\\ProgramData\\Anaconda3\\lib\\site-packages\\tensorflow_datasets\\core\\download\\download_manager.py\u001b[0m in \u001b[0;36m_map_promise\u001b[1;34m(map_fn, all_inputs)\u001b[0m\n\u001b[0;32m    413\u001b[0m   \u001b[1;34m\"\"\"Map the function into each element and resolve the promise.\"\"\"\u001b[0m\u001b[1;33m\u001b[0m\u001b[1;33m\u001b[0m\u001b[0m\n\u001b[0;32m    414\u001b[0m   \u001b[0mall_promises\u001b[0m \u001b[1;33m=\u001b[0m \u001b[0mutils\u001b[0m\u001b[1;33m.\u001b[0m\u001b[0mmap_nested\u001b[0m\u001b[1;33m(\u001b[0m\u001b[0mmap_fn\u001b[0m\u001b[1;33m,\u001b[0m \u001b[0mall_inputs\u001b[0m\u001b[1;33m)\u001b[0m  \u001b[1;31m# Apply the function\u001b[0m\u001b[1;33m\u001b[0m\u001b[1;33m\u001b[0m\u001b[0m\n\u001b[1;32m--> 415\u001b[1;33m   \u001b[0mres\u001b[0m \u001b[1;33m=\u001b[0m \u001b[0mutils\u001b[0m\u001b[1;33m.\u001b[0m\u001b[0mmap_nested\u001b[0m\u001b[1;33m(\u001b[0m\u001b[0m_wait_on_promise\u001b[0m\u001b[1;33m,\u001b[0m \u001b[0mall_promises\u001b[0m\u001b[1;33m)\u001b[0m\u001b[1;33m\u001b[0m\u001b[1;33m\u001b[0m\u001b[0m\n\u001b[0m\u001b[0;32m    416\u001b[0m   \u001b[1;32mreturn\u001b[0m \u001b[0mres\u001b[0m\u001b[1;33m\u001b[0m\u001b[1;33m\u001b[0m\u001b[0m\n",
      "\u001b[1;32mC:\\ProgramData\\Anaconda3\\lib\\site-packages\\tensorflow_datasets\\core\\utils\\py_utils.py\u001b[0m in \u001b[0;36mmap_nested\u001b[1;34m(function, data_struct, dict_only, map_tuple)\u001b[0m\n\u001b[0;32m    157\u001b[0m         \u001b[1;32mreturn\u001b[0m \u001b[0mtuple\u001b[0m\u001b[1;33m(\u001b[0m\u001b[0mmapped\u001b[0m\u001b[1;33m)\u001b[0m\u001b[1;33m\u001b[0m\u001b[1;33m\u001b[0m\u001b[0m\n\u001b[0;32m    158\u001b[0m   \u001b[1;31m# Singleton\u001b[0m\u001b[1;33m\u001b[0m\u001b[1;33m\u001b[0m\u001b[1;33m\u001b[0m\u001b[0m\n\u001b[1;32m--> 159\u001b[1;33m   \u001b[1;32mreturn\u001b[0m \u001b[0mfunction\u001b[0m\u001b[1;33m(\u001b[0m\u001b[0mdata_struct\u001b[0m\u001b[1;33m)\u001b[0m\u001b[1;33m\u001b[0m\u001b[1;33m\u001b[0m\u001b[0m\n\u001b[0m\u001b[0;32m    160\u001b[0m \u001b[1;33m\u001b[0m\u001b[0m\n\u001b[0;32m    161\u001b[0m \u001b[1;33m\u001b[0m\u001b[0m\n",
      "\u001b[1;32mC:\\ProgramData\\Anaconda3\\lib\\site-packages\\tensorflow_datasets\\core\\download\\download_manager.py\u001b[0m in \u001b[0;36m_wait_on_promise\u001b[1;34m(p)\u001b[0m\n\u001b[0;32m    397\u001b[0m \u001b[1;33m\u001b[0m\u001b[0m\n\u001b[0;32m    398\u001b[0m   \u001b[1;32mdef\u001b[0m \u001b[0m_wait_on_promise\u001b[0m\u001b[1;33m(\u001b[0m\u001b[0mp\u001b[0m\u001b[1;33m)\u001b[0m\u001b[1;33m:\u001b[0m\u001b[1;33m\u001b[0m\u001b[1;33m\u001b[0m\u001b[0m\n\u001b[1;32m--> 399\u001b[1;33m     \u001b[1;32mreturn\u001b[0m \u001b[0mp\u001b[0m\u001b[1;33m.\u001b[0m\u001b[0mget\u001b[0m\u001b[1;33m(\u001b[0m\u001b[1;33m)\u001b[0m\u001b[1;33m\u001b[0m\u001b[1;33m\u001b[0m\u001b[0m\n\u001b[0m\u001b[0;32m    400\u001b[0m \u001b[1;33m\u001b[0m\u001b[0m\n\u001b[0;32m    401\u001b[0m \u001b[1;32melse\u001b[0m\u001b[1;33m:\u001b[0m\u001b[1;33m\u001b[0m\u001b[1;33m\u001b[0m\u001b[0m\n",
      "\u001b[1;32mC:\\ProgramData\\Anaconda3\\lib\\site-packages\\promise\\promise.py\u001b[0m in \u001b[0;36mget\u001b[1;34m(self, timeout)\u001b[0m\n\u001b[0;32m    510\u001b[0m         \u001b[0mtarget\u001b[0m \u001b[1;33m=\u001b[0m \u001b[0mself\u001b[0m\u001b[1;33m.\u001b[0m\u001b[0m_target\u001b[0m\u001b[1;33m(\u001b[0m\u001b[1;33m)\u001b[0m\u001b[1;33m\u001b[0m\u001b[1;33m\u001b[0m\u001b[0m\n\u001b[0;32m    511\u001b[0m         \u001b[0mself\u001b[0m\u001b[1;33m.\u001b[0m\u001b[0m_wait\u001b[0m\u001b[1;33m(\u001b[0m\u001b[0mtimeout\u001b[0m \u001b[1;32mor\u001b[0m \u001b[0mDEFAULT_TIMEOUT\u001b[0m\u001b[1;33m)\u001b[0m\u001b[1;33m\u001b[0m\u001b[1;33m\u001b[0m\u001b[0m\n\u001b[1;32m--> 512\u001b[1;33m         \u001b[1;32mreturn\u001b[0m \u001b[0mself\u001b[0m\u001b[1;33m.\u001b[0m\u001b[0m_target_settled_value\u001b[0m\u001b[1;33m(\u001b[0m\u001b[0m_raise\u001b[0m\u001b[1;33m=\u001b[0m\u001b[1;32mTrue\u001b[0m\u001b[1;33m)\u001b[0m\u001b[1;33m\u001b[0m\u001b[1;33m\u001b[0m\u001b[0m\n\u001b[0m\u001b[0;32m    513\u001b[0m \u001b[1;33m\u001b[0m\u001b[0m\n\u001b[0;32m    514\u001b[0m     \u001b[1;32mdef\u001b[0m \u001b[0m_target_settled_value\u001b[0m\u001b[1;33m(\u001b[0m\u001b[0mself\u001b[0m\u001b[1;33m,\u001b[0m \u001b[0m_raise\u001b[0m\u001b[1;33m=\u001b[0m\u001b[1;32mFalse\u001b[0m\u001b[1;33m)\u001b[0m\u001b[1;33m:\u001b[0m\u001b[1;33m\u001b[0m\u001b[1;33m\u001b[0m\u001b[0m\n",
      "\u001b[1;32mC:\\ProgramData\\Anaconda3\\lib\\site-packages\\promise\\promise.py\u001b[0m in \u001b[0;36m_target_settled_value\u001b[1;34m(self, _raise)\u001b[0m\n\u001b[0;32m    514\u001b[0m     \u001b[1;32mdef\u001b[0m \u001b[0m_target_settled_value\u001b[0m\u001b[1;33m(\u001b[0m\u001b[0mself\u001b[0m\u001b[1;33m,\u001b[0m \u001b[0m_raise\u001b[0m\u001b[1;33m=\u001b[0m\u001b[1;32mFalse\u001b[0m\u001b[1;33m)\u001b[0m\u001b[1;33m:\u001b[0m\u001b[1;33m\u001b[0m\u001b[1;33m\u001b[0m\u001b[0m\n\u001b[0;32m    515\u001b[0m         \u001b[1;31m# type: (bool) -> Any\u001b[0m\u001b[1;33m\u001b[0m\u001b[1;33m\u001b[0m\u001b[1;33m\u001b[0m\u001b[0m\n\u001b[1;32m--> 516\u001b[1;33m         \u001b[1;32mreturn\u001b[0m \u001b[0mself\u001b[0m\u001b[1;33m.\u001b[0m\u001b[0m_target\u001b[0m\u001b[1;33m(\u001b[0m\u001b[1;33m)\u001b[0m\u001b[1;33m.\u001b[0m\u001b[0m_settled_value\u001b[0m\u001b[1;33m(\u001b[0m\u001b[0m_raise\u001b[0m\u001b[1;33m)\u001b[0m\u001b[1;33m\u001b[0m\u001b[1;33m\u001b[0m\u001b[0m\n\u001b[0m\u001b[0;32m    517\u001b[0m \u001b[1;33m\u001b[0m\u001b[0m\n\u001b[0;32m    518\u001b[0m     \u001b[0m_value\u001b[0m \u001b[1;33m=\u001b[0m \u001b[0m_reason\u001b[0m \u001b[1;33m=\u001b[0m \u001b[0m_target_settled_value\u001b[0m\u001b[1;33m\u001b[0m\u001b[1;33m\u001b[0m\u001b[0m\n",
      "\u001b[1;32mC:\\ProgramData\\Anaconda3\\lib\\site-packages\\promise\\promise.py\u001b[0m in \u001b[0;36m_settled_value\u001b[1;34m(self, _raise)\u001b[0m\n\u001b[0;32m    224\u001b[0m             \u001b[1;32mif\u001b[0m \u001b[0m_raise\u001b[0m\u001b[1;33m:\u001b[0m\u001b[1;33m\u001b[0m\u001b[1;33m\u001b[0m\u001b[0m\n\u001b[0;32m    225\u001b[0m                 \u001b[0mraise_val\u001b[0m \u001b[1;33m=\u001b[0m \u001b[0mself\u001b[0m\u001b[1;33m.\u001b[0m\u001b[0m_fulfillment_handler0\u001b[0m\u001b[1;33m\u001b[0m\u001b[1;33m\u001b[0m\u001b[0m\n\u001b[1;32m--> 226\u001b[1;33m                 \u001b[0mreraise\u001b[0m\u001b[1;33m(\u001b[0m\u001b[0mtype\u001b[0m\u001b[1;33m(\u001b[0m\u001b[0mraise_val\u001b[0m\u001b[1;33m)\u001b[0m\u001b[1;33m,\u001b[0m \u001b[0mraise_val\u001b[0m\u001b[1;33m,\u001b[0m \u001b[0mself\u001b[0m\u001b[1;33m.\u001b[0m\u001b[0m_traceback\u001b[0m\u001b[1;33m)\u001b[0m\u001b[1;33m\u001b[0m\u001b[1;33m\u001b[0m\u001b[0m\n\u001b[0m\u001b[0;32m    227\u001b[0m             \u001b[1;32mreturn\u001b[0m \u001b[0mself\u001b[0m\u001b[1;33m.\u001b[0m\u001b[0m_fulfillment_handler0\u001b[0m\u001b[1;33m\u001b[0m\u001b[1;33m\u001b[0m\u001b[0m\n\u001b[0;32m    228\u001b[0m \u001b[1;33m\u001b[0m\u001b[0m\n",
      "\u001b[1;32mC:\\ProgramData\\Anaconda3\\lib\\site-packages\\six.py\u001b[0m in \u001b[0;36mreraise\u001b[1;34m(tp, value, tb)\u001b[0m\n\u001b[0;32m    691\u001b[0m             \u001b[1;32mif\u001b[0m \u001b[0mvalue\u001b[0m\u001b[1;33m.\u001b[0m\u001b[0m__traceback__\u001b[0m \u001b[1;32mis\u001b[0m \u001b[1;32mnot\u001b[0m \u001b[0mtb\u001b[0m\u001b[1;33m:\u001b[0m\u001b[1;33m\u001b[0m\u001b[1;33m\u001b[0m\u001b[0m\n\u001b[0;32m    692\u001b[0m                 \u001b[1;32mraise\u001b[0m \u001b[0mvalue\u001b[0m\u001b[1;33m.\u001b[0m\u001b[0mwith_traceback\u001b[0m\u001b[1;33m(\u001b[0m\u001b[0mtb\u001b[0m\u001b[1;33m)\u001b[0m\u001b[1;33m\u001b[0m\u001b[1;33m\u001b[0m\u001b[0m\n\u001b[1;32m--> 693\u001b[1;33m             \u001b[1;32mraise\u001b[0m \u001b[0mvalue\u001b[0m\u001b[1;33m\u001b[0m\u001b[1;33m\u001b[0m\u001b[0m\n\u001b[0m\u001b[0;32m    694\u001b[0m         \u001b[1;32mfinally\u001b[0m\u001b[1;33m:\u001b[0m\u001b[1;33m\u001b[0m\u001b[1;33m\u001b[0m\u001b[0m\n\u001b[0;32m    695\u001b[0m             \u001b[0mvalue\u001b[0m \u001b[1;33m=\u001b[0m \u001b[1;32mNone\u001b[0m\u001b[1;33m\u001b[0m\u001b[1;33m\u001b[0m\u001b[0m\n",
      "\u001b[1;32mC:\\ProgramData\\Anaconda3\\lib\\site-packages\\promise\\promise.py\u001b[0m in \u001b[0;36mhandle_future_result\u001b[1;34m(future)\u001b[0m\n\u001b[0;32m    842\u001b[0m         \u001b[1;31m# type: (Any) -> None\u001b[0m\u001b[1;33m\u001b[0m\u001b[1;33m\u001b[0m\u001b[1;33m\u001b[0m\u001b[0m\n\u001b[0;32m    843\u001b[0m         \u001b[1;32mtry\u001b[0m\u001b[1;33m:\u001b[0m\u001b[1;33m\u001b[0m\u001b[1;33m\u001b[0m\u001b[0m\n\u001b[1;32m--> 844\u001b[1;33m             \u001b[0mresolve\u001b[0m\u001b[1;33m(\u001b[0m\u001b[0mfuture\u001b[0m\u001b[1;33m.\u001b[0m\u001b[0mresult\u001b[0m\u001b[1;33m(\u001b[0m\u001b[1;33m)\u001b[0m\u001b[1;33m)\u001b[0m\u001b[1;33m\u001b[0m\u001b[1;33m\u001b[0m\u001b[0m\n\u001b[0m\u001b[0;32m    845\u001b[0m         \u001b[1;32mexcept\u001b[0m \u001b[0mException\u001b[0m \u001b[1;32mas\u001b[0m \u001b[0me\u001b[0m\u001b[1;33m:\u001b[0m\u001b[1;33m\u001b[0m\u001b[1;33m\u001b[0m\u001b[0m\n\u001b[0;32m    846\u001b[0m             \u001b[0mtb\u001b[0m \u001b[1;33m=\u001b[0m \u001b[0mexc_info\u001b[0m\u001b[1;33m(\u001b[0m\u001b[1;33m)\u001b[0m\u001b[1;33m[\u001b[0m\u001b[1;36m2\u001b[0m\u001b[1;33m]\u001b[0m\u001b[1;33m\u001b[0m\u001b[1;33m\u001b[0m\u001b[0m\n",
      "\u001b[1;32mC:\\ProgramData\\Anaconda3\\lib\\concurrent\\futures\\_base.py\u001b[0m in \u001b[0;36mresult\u001b[1;34m(self, timeout)\u001b[0m\n\u001b[0;32m    426\u001b[0m                 \u001b[1;32mraise\u001b[0m \u001b[0mCancelledError\u001b[0m\u001b[1;33m(\u001b[0m\u001b[1;33m)\u001b[0m\u001b[1;33m\u001b[0m\u001b[1;33m\u001b[0m\u001b[0m\n\u001b[0;32m    427\u001b[0m             \u001b[1;32melif\u001b[0m \u001b[0mself\u001b[0m\u001b[1;33m.\u001b[0m\u001b[0m_state\u001b[0m \u001b[1;33m==\u001b[0m \u001b[0mFINISHED\u001b[0m\u001b[1;33m:\u001b[0m\u001b[1;33m\u001b[0m\u001b[1;33m\u001b[0m\u001b[0m\n\u001b[1;32m--> 428\u001b[1;33m                 \u001b[1;32mreturn\u001b[0m \u001b[0mself\u001b[0m\u001b[1;33m.\u001b[0m\u001b[0m__get_result\u001b[0m\u001b[1;33m(\u001b[0m\u001b[1;33m)\u001b[0m\u001b[1;33m\u001b[0m\u001b[1;33m\u001b[0m\u001b[0m\n\u001b[0m\u001b[0;32m    429\u001b[0m \u001b[1;33m\u001b[0m\u001b[0m\n\u001b[0;32m    430\u001b[0m             \u001b[0mself\u001b[0m\u001b[1;33m.\u001b[0m\u001b[0m_condition\u001b[0m\u001b[1;33m.\u001b[0m\u001b[0mwait\u001b[0m\u001b[1;33m(\u001b[0m\u001b[0mtimeout\u001b[0m\u001b[1;33m)\u001b[0m\u001b[1;33m\u001b[0m\u001b[1;33m\u001b[0m\u001b[0m\n",
      "\u001b[1;32mC:\\ProgramData\\Anaconda3\\lib\\concurrent\\futures\\_base.py\u001b[0m in \u001b[0;36m__get_result\u001b[1;34m(self)\u001b[0m\n\u001b[0;32m    382\u001b[0m     \u001b[1;32mdef\u001b[0m \u001b[0m__get_result\u001b[0m\u001b[1;33m(\u001b[0m\u001b[0mself\u001b[0m\u001b[1;33m)\u001b[0m\u001b[1;33m:\u001b[0m\u001b[1;33m\u001b[0m\u001b[1;33m\u001b[0m\u001b[0m\n\u001b[0;32m    383\u001b[0m         \u001b[1;32mif\u001b[0m \u001b[0mself\u001b[0m\u001b[1;33m.\u001b[0m\u001b[0m_exception\u001b[0m\u001b[1;33m:\u001b[0m\u001b[1;33m\u001b[0m\u001b[1;33m\u001b[0m\u001b[0m\n\u001b[1;32m--> 384\u001b[1;33m             \u001b[1;32mraise\u001b[0m \u001b[0mself\u001b[0m\u001b[1;33m.\u001b[0m\u001b[0m_exception\u001b[0m\u001b[1;33m\u001b[0m\u001b[1;33m\u001b[0m\u001b[0m\n\u001b[0m\u001b[0;32m    385\u001b[0m         \u001b[1;32melse\u001b[0m\u001b[1;33m:\u001b[0m\u001b[1;33m\u001b[0m\u001b[1;33m\u001b[0m\u001b[0m\n\u001b[0;32m    386\u001b[0m             \u001b[1;32mreturn\u001b[0m \u001b[0mself\u001b[0m\u001b[1;33m.\u001b[0m\u001b[0m_result\u001b[0m\u001b[1;33m\u001b[0m\u001b[1;33m\u001b[0m\u001b[0m\n",
      "\u001b[1;32mC:\\ProgramData\\Anaconda3\\lib\\concurrent\\futures\\thread.py\u001b[0m in \u001b[0;36mrun\u001b[1;34m(self)\u001b[0m\n\u001b[0;32m     55\u001b[0m \u001b[1;33m\u001b[0m\u001b[0m\n\u001b[0;32m     56\u001b[0m         \u001b[1;32mtry\u001b[0m\u001b[1;33m:\u001b[0m\u001b[1;33m\u001b[0m\u001b[1;33m\u001b[0m\u001b[0m\n\u001b[1;32m---> 57\u001b[1;33m             \u001b[0mresult\u001b[0m \u001b[1;33m=\u001b[0m \u001b[0mself\u001b[0m\u001b[1;33m.\u001b[0m\u001b[0mfn\u001b[0m\u001b[1;33m(\u001b[0m\u001b[1;33m*\u001b[0m\u001b[0mself\u001b[0m\u001b[1;33m.\u001b[0m\u001b[0margs\u001b[0m\u001b[1;33m,\u001b[0m \u001b[1;33m**\u001b[0m\u001b[0mself\u001b[0m\u001b[1;33m.\u001b[0m\u001b[0mkwargs\u001b[0m\u001b[1;33m)\u001b[0m\u001b[1;33m\u001b[0m\u001b[1;33m\u001b[0m\u001b[0m\n\u001b[0m\u001b[0;32m     58\u001b[0m         \u001b[1;32mexcept\u001b[0m \u001b[0mBaseException\u001b[0m \u001b[1;32mas\u001b[0m \u001b[0mexc\u001b[0m\u001b[1;33m:\u001b[0m\u001b[1;33m\u001b[0m\u001b[1;33m\u001b[0m\u001b[0m\n\u001b[0;32m     59\u001b[0m             \u001b[0mself\u001b[0m\u001b[1;33m.\u001b[0m\u001b[0mfuture\u001b[0m\u001b[1;33m.\u001b[0m\u001b[0mset_exception\u001b[0m\u001b[1;33m(\u001b[0m\u001b[0mexc\u001b[0m\u001b[1;33m)\u001b[0m\u001b[1;33m\u001b[0m\u001b[1;33m\u001b[0m\u001b[0m\n",
      "\u001b[1;32mC:\\ProgramData\\Anaconda3\\lib\\site-packages\\tensorflow_datasets\\core\\download\\extractor.py\u001b[0m in \u001b[0;36m_sync_extract\u001b[1;34m(self, from_path, method, to_path)\u001b[0m\n\u001b[0;32m     94\u001b[0m       msg = 'Error while extracting %s to %s (file: %s) : %s' % (\n\u001b[0;32m     95\u001b[0m           from_path, to_path, path, err)\n\u001b[1;32m---> 96\u001b[1;33m       \u001b[1;32mraise\u001b[0m \u001b[0mExtractError\u001b[0m\u001b[1;33m(\u001b[0m\u001b[0mmsg\u001b[0m\u001b[1;33m)\u001b[0m\u001b[1;33m\u001b[0m\u001b[1;33m\u001b[0m\u001b[0m\n\u001b[0m\u001b[0;32m     97\u001b[0m     \u001b[1;31m# `tf.io.gfile.Rename(overwrite=True)` doesn't work for non empty\u001b[0m\u001b[1;33m\u001b[0m\u001b[1;33m\u001b[0m\u001b[1;33m\u001b[0m\u001b[0m\n\u001b[0;32m     98\u001b[0m     \u001b[1;31m# directories, so delete destination first, if it already exists.\u001b[0m\u001b[1;33m\u001b[0m\u001b[1;33m\u001b[0m\u001b[1;33m\u001b[0m\u001b[0m\n",
      "\u001b[1;31mExtractError\u001b[0m: Error while extracting D:/python/LEO_TM/BERT_chinese_LM_processing/Model/tfds\\downloads\\fire.goog.com_v0_b_mtl-sent-repr.apps.co1n4W-1VznBsyzc6Yd1ltscEn3DItk8CCKB9kBXwW3qo.zipalt=media&token=aabc5f6b-e466-44a2-b9b4-cf6337f84ac8 to D:/python/LEO_TM/BERT_chinese_LM_processing/Model/tfds\\downloads\\extracted\\ZIP.fire.goog.com_v0_b_mtl-sent-repr.apps.co1n4W-1VznBsyzc6Yd1ltscEn3DItk8CCKB9kBXwW3qo.zipalt=media&token=aabc5f6b-e466-44a2-b9b4-cf6337f84ac8 (file: SST-2) : Failed to create a directory: D:/python/LEO_TM/BERT_chinese_LM_processing/Model/tfds\\downloads\\extracted\\ZIP.fire.goog.com_v0_b_mtl-sent-repr.apps.co1n4W-1VznBsyzc6Yd1ltscEn3DItk8CCKB9kBXwW3qo.zipalt=media&token=aabc5f6b-e466-44a2-b9b4-cf6337f84ac8.incomplete_81863b0bc2fb4b50abbf0239c21aaf8f; No such file or directory"
     ]
    }
   ],
   "source": [
    "data, info = tensorflow_datasets.load(f'glue/{TFDS_TASK}',in_memory=True, data_dir='D:/python/LEO_TM/BERT_chinese_LM_processing/Model/tfds',with_info=True)\n",
    "train_dataset = glue_convert_examples_to_features(data['train'], tokenizer, 128, TASK)\n"
   ]
  },
  {
   "cell_type": "code",
   "execution_count": 11,
   "metadata": {},
   "outputs": [
    {
     "ename": "NameError",
     "evalue": "name 'data' is not defined",
     "output_type": "error",
     "traceback": [
      "\u001b[1;31m---------------------------------------------------------------------------\u001b[0m",
      "\u001b[1;31mNameError\u001b[0m                                 Traceback (most recent call last)",
      "\u001b[1;32m<ipython-input-11-c5d84736ba45>\u001b[0m in \u001b[0;36m<module>\u001b[1;34m\u001b[0m\n\u001b[1;32m----> 1\u001b[1;33m \u001b[0mdata\u001b[0m\u001b[1;33m\u001b[0m\u001b[1;33m\u001b[0m\u001b[0m\n\u001b[0m",
      "\u001b[1;31mNameError\u001b[0m: name 'data' is not defined"
     ]
    }
   ],
   "source": []
  }
 ],
 "metadata": {
  "kernelspec": {
   "display_name": "Python 3",
   "language": "python",
   "name": "python3"
  },
  "language_info": {
   "codemirror_mode": {
    "name": "ipython",
    "version": 3
   },
   "file_extension": ".py",
   "mimetype": "text/x-python",
   "name": "python",
   "nbconvert_exporter": "python",
   "pygments_lexer": "ipython3",
   "version": "3.7.4"
  }
 },
 "nbformat": 4,
 "nbformat_minor": 2
}
